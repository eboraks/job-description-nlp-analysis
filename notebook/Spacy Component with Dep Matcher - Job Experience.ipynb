{
 "cells": [
  {
   "cell_type": "markdown",
   "id": "8eebfb86",
   "metadata": {},
   "source": [
    "This notebook is an expirement of using Spacy.io depency matcher to identify sentences that describe work expirence. As the results below show, it's very hard to get the depency matcher to work on phrases. I pivote to use textacy pattern, that work much better. See VERB_NOUN_Phrase_Extractor.ipynb notebook for better approach."
   ]
  },
  {
   "cell_type": "code",
   "execution_count": 1,
   "id": "b2d7ecc8",
   "metadata": {},
   "outputs": [],
   "source": [
    "import spacy\n",
    "from spacy.util import filter_spans\n",
    "from spacy import displacy\n",
    "from spacy.tokens import Span, Doc\n",
    "from spacy.language import Language\n",
    "from spacy.matcher import DependencyMatcher\n",
    "import re\n",
    "import pandas as pd\n",
    "import sys\n",
    "import textacy\n"
   ]
  },
  {
   "cell_type": "code",
   "execution_count": 2,
   "id": "abf10a69",
   "metadata": {},
   "outputs": [],
   "source": [
    "lnkjobs = pd.read_csv(\"../data/dice_solution_architect_2021-12-14T17:45:56.csv\")\n",
    "jobdescs = [jd for jd in lnkjobs [\"job_desc\"]]"
   ]
  },
  {
   "cell_type": "code",
   "execution_count": 14,
   "id": "4ffb6ff5",
   "metadata": {},
   "outputs": [],
   "source": [
    "def start_end_tokens(matches, doc) -> tuple:\n",
    "    \n",
    "    anchors_list = []\n",
    "    matches_list = []\n",
    "        \n",
    "    for match in matches:\n",
    "        id, token_ids = match\n",
    "        match_id = id\n",
    "        anchors_list.append(token_ids[0])\n",
    "        matches_list.append(token_ids[1])\n",
    "\n",
    "    return (min(anchors_list), max(matches_list))\n"
   ]
  },
  {
   "cell_type": "code",
   "execution_count": 26,
   "id": "5534c07e",
   "metadata": {},
   "outputs": [],
   "source": [
    "def dep_matcher(doc, label=\"EXPERIENCE\"):\n",
    "    matcher = DependencyMatcher(nlp.vocab)\n",
    "    pattern = [\n",
    "        {\n",
    "            \"RIGHT_ID\": \"anchor\",    \n",
    "            \"RIGHT_ATTRS\": {\"LEMMA\": { \"IN\": [\"define\", \"drive\", \"demonstrate\" , \"experience\", \"expertise\", \"excellent\", \"exceptional\", \"excellent\", \"effective\", \"require\", \"make\", \"manage\", \"work\"]}}  \n",
    "        },\n",
    "        {\n",
    "            \"LEFT_ID\": \"anchor\",\n",
    "            \"REL_OP\": \".*\",\n",
    "            \"RIGHT_ID\": \"experience\",\n",
    "            \"RIGHT_ATTRS\": {\"POS\": {\"IN\": [\"NOUN\", \"PROPN\",\"VERB\"]}}\n",
    "        }\n",
    "    ]\n",
    "    matcher.add(\"EXPERIENCE\", [pattern])\n",
    "    matches = matcher(doc)\n",
    "    original_ents = list(doc.ents)\n",
    "    if matches:\n",
    "        min, max = start_end_tokens(matches, doc)\n",
    "        if max:\n",
    "            new_entity = Span(doc, min, max, label=label)\n",
    "            original_ents.append(new_entity)\n",
    "        \n",
    "        doc.ents = filter_spans(original_ents)\n",
    "        return doc\n",
    "    else:\n",
    "        return None"
   ]
  },
  {
   "cell_type": "code",
   "execution_count": 27,
   "id": "7c068b9a",
   "metadata": {},
   "outputs": [],
   "source": [
    "nlp = spacy.load(\"en_core_web_sm\")\n",
    "@Language.component(\"annotate_experience_phrase\")\n",
    "def annotate_experience_phrase(doc):\n",
    "    \n",
    "    results = dep_matcher(doc)\n",
    "    if results:\n",
    "        return results\n",
    "    else:\n",
    "        return None"
   ]
  },
  {
   "cell_type": "code",
   "execution_count": 28,
   "id": "5a882d0f",
   "metadata": {},
   "outputs": [
    {
     "name": "stdout",
     "output_type": "stream",
     "text": [
      "['tok2vec', 'tagger', 'parser', 'attribute_ruler', 'lemmatizer', 'ner', 'annotate_experience_phrase']\n"
     ]
    }
   ],
   "source": [
    "nlp.add_pipe(\"annotate_experience_phrase\")\n",
    "print(nlp.pipe_names)"
   ]
  },
  {
   "cell_type": "code",
   "execution_count": 33,
   "id": "965c2bde",
   "metadata": {},
   "outputs": [
    {
     "data": {
      "text/html": [
       "<span class=\"tex2jax_ignore\"><div class=\"entities\" style=\"line-height: 2.5; direction: ltr\">Job Title: SAP Solution Architect / Competency Lead - SAP Supply chain and \n",
       "<mark class=\"entity\" style=\"background: #7aecec; padding: 0.45em 0.6em; margin: 0 0.25em; line-height: 1; border-radius: 0.35em;\">\n",
       "    Manufacturing\n",
       "    <span style=\"font-size: 0.8em; font-weight: bold; line-height: 1; border-radius: 0.35em; vertical-align: middle; margin-left: 0.5rem\">ORG</span>\n",
       "</mark>\n",
       "</br>Location: USA/ \n",
       "<mark class=\"entity\" style=\"background: #feca74; padding: 0.45em 0.6em; margin: 0 0.25em; line-height: 1; border-radius: 0.35em;\">\n",
       "    Canada\n",
       "    <span style=\"font-size: 0.8em; font-weight: bold; line-height: 1; border-radius: 0.35em; vertical-align: middle; margin-left: 0.5rem\">GPE</span>\n",
       "</mark>\n",
       " (\n",
       "<mark class=\"entity\" style=\"background: #7aecec; padding: 0.45em 0.6em; margin: 0 0.25em; line-height: 1; border-radius: 0.35em;\">\n",
       "    Remote\n",
       "    <span style=\"font-size: 0.8em; font-weight: bold; line-height: 1; border-radius: 0.35em; vertical-align: middle; margin-left: 0.5rem\">ORG</span>\n",
       "</mark>\n",
       ")</br>Job Description</br>\n",
       "<mark class=\"entity\" style=\"background: #f0d0ff; padding: 0.45em 0.6em; margin: 0 0.25em; line-height: 1; border-radius: 0.35em;\">\n",
       "    The Senior Solutions Architect\n",
       "    <span style=\"font-size: 0.8em; font-weight: bold; line-height: 1; border-radius: 0.35em; vertical-align: middle; margin-left: 0.5rem\">WORK_OF_ART</span>\n",
       "</mark>\n",
       " performs both roles as a lead solutions expert and also a competency leader who is responsible for developing, maintaining, and growing the organization’s competencies/practice and skills to meet dynamic market demands. \n",
       "<mark class=\"entity\" style=\"background: #ddd; padding: 0.45em 0.6em; margin: 0 0.25em; line-height: 1; border-radius: 0.35em;\">\n",
       "    Works with Client Service Executives and Business Development Managers to propose strategic solution to customer to achieve revenue objectives and client satisfaction. Will have primary responsibility for managing resource growth, billable utilization, training, bulge management and resource staffing on various engagements.\n",
       "As SAP solutions architect, you will also work with customers on their broad set of Business and IT partners, Vendors/Partners, (for a client) use keen business process understanding, appreciation for simplicity and quality, out of the box thinking, holistic solutions that meet business and technology objectives both short term and long term. Role will be responsible for the design and delivery of new or enhanced solutions in SAP logistics, supply chain and manufacturing areas. Understanding integration with other module areas like SAP MM, SD, FICO, WM, and QM is essential. Work closely with business, IT partners and other stakeholders to design, build, test and delivery high quality deliveries. Evaluate potential new applications and solutions against business requirements, ensuring they are aligned to broader architectural and security standards and that they meet immediate tactical and long-term strategic objectives. Also work with a global hybrid team of business analysts and engineers supporting production applications and maintenance of 24x7 applications in a SOX compliant environment.\n",
       "Responsibilities\n",
       "Competency/Practice Development and growth aligned with company’s business\n",
       "Resource capability management and planning – (i.e., Skill Gap Plans)\n",
       "Knowledge management – Case studies, White papers, and related documentation\n",
       "Developing our credibility, thought leadership and capability\n",
       "Define/manage/execute training programs across global organization.\n",
       "Responsible for Pre-Sales and solutioning activities related to practice area.\n",
       "Developing and maintaining a demo and training environments.\n",
       "Training and development of sales team members and develop tools to support better scoping, estimating, and client expectation management (i.e. proposal templates, estimating tools and/or guidelines)\n",
       "Participates on engagements in a leveraged role (small-medium engagements) or a full-time role (large engagements) in various capacities such as QA checks, delivery audits, SME support, ensuring best practices, providing assistance to Project teams to keep the project within recommended solution framework.\n",
       "Developing an alliance with SAP products organization, industry business units, labs and solution organization\n",
       "Work on billable customer engagements, ensure on-time and quality delivery that creates a very positive customer experience and customer delight.\n",
       "Be a brand ambassador for the company to expand business at a customer account.\n",
       "Drive best practice business processes and solutions.\n",
       "Identify opportunities to expand companies’ business at client account.\n",
       "Requirements\n",
       "Bachelors or master’s degree in business administration, Computer Science or equivalent\n",
       "Successful IT Consulting services experience from a major systems integrator(10+years)\n",
       "Has worked with Major Fortune 500 accounts with executives at “C” level\n",
       "Experience in developing, communicating, and implementing end to end ERP solutions involving multiple software components.\n",
       "Experience in solution-based selling around SAP applications\n",
       "Experience in developing, managing, and building competencies and skills necessary for supporting dynamic business needs and resource models.\n",
       "Experience with Outsourcing and Offshore resource models.\n",
       "Business process re-engineering expertise\n",
       "Education\n",
       "BS or MS in Computer Science/Information Systems or equivalent experience required\n",
       "Bachelors or master’s degree in business administration, Computer Science or equivalent\n",
       "Skills and Competencies\n",
       "Strong understanding of functional/technical/architecture details in practice subject.\n",
       "Strong analytical and problem-solving skills\n",
       "Detail oriented, Self-Starter, leader, and motivator.\n",
       "Strong customer service orientation\n",
       "Ability to work in a fast-paced environment.\n",
       "Effective and strong written and oral communication skills.\n",
       "Demonstrated ability to prioritize.\n",
       "Excellent organizational skills and ability to communicate with all levels of management\n",
       "Excellent understanding of all SAP components related to practice area.\n",
       "Experience in managing onsite and offshore teams of various\n",
       "    <span style=\"font-size: 0.8em; font-weight: bold; line-height: 1; border-radius: 0.35em; vertical-align: middle; margin-left: 0.5rem\">EXPERIENCE</span>\n",
       "</mark>\n",
       " sizes.</br>\n",
       "<mark class=\"entity\" style=\"background: #feca74; padding: 0.45em 0.6em; margin: 0 0.25em; line-height: 1; border-radius: 0.35em;\">\n",
       "    SAP\n",
       "    <span style=\"font-size: 0.8em; font-weight: bold; line-height: 1; border-radius: 0.35em; vertical-align: middle; margin-left: 0.5rem\">GPE</span>\n",
       "</mark>\n",
       " project execution and related product knowledge is a must.</br>Ability to strategically promote and deploy Onsite-offshore, global delivery resource model</div></span>"
      ],
      "text/plain": [
       "<IPython.core.display.HTML object>"
      ]
     },
     "metadata": {},
     "output_type": "display_data"
    }
   ],
   "source": [
    "displacy.render(nlp(jobdescs[1]), style='ent', jupyter=True)"
   ]
  },
  {
   "cell_type": "code",
   "execution_count": 41,
   "id": "5ff9a34c",
   "metadata": {},
   "outputs": [
    {
     "data": {
      "text/html": [
       "<span class=\"tex2jax_ignore\"><svg xmlns=\"http://www.w3.org/2000/svg\" xmlns:xlink=\"http://www.w3.org/1999/xlink\" xml:lang=\"en\" id=\"13d0bbbcd6f849c2b17314912dff569e-0\" class=\"displacy\" width=\"1450\" height=\"399.5\" direction=\"ltr\" style=\"max-width: none; height: 399.5px; color: #000000; background: #ffffff; font-family: Arial; direction: ltr\">\n",
       "<text class=\"displacy-token\" fill=\"currentColor\" text-anchor=\"middle\" y=\"309.5\">\n",
       "    <tspan class=\"displacy-word\" fill=\"currentColor\" x=\"50\">propose</tspan>\n",
       "    <tspan class=\"displacy-tag\" dy=\"2em\" fill=\"currentColor\" x=\"50\">VERB</tspan>\n",
       "</text>\n",
       "\n",
       "<text class=\"displacy-token\" fill=\"currentColor\" text-anchor=\"middle\" y=\"309.5\">\n",
       "    <tspan class=\"displacy-word\" fill=\"currentColor\" x=\"225\">strategic</tspan>\n",
       "    <tspan class=\"displacy-tag\" dy=\"2em\" fill=\"currentColor\" x=\"225\">ADJ</tspan>\n",
       "</text>\n",
       "\n",
       "<text class=\"displacy-token\" fill=\"currentColor\" text-anchor=\"middle\" y=\"309.5\">\n",
       "    <tspan class=\"displacy-word\" fill=\"currentColor\" x=\"400\">solution.</tspan>\n",
       "    <tspan class=\"displacy-tag\" dy=\"2em\" fill=\"currentColor\" x=\"400\">NOUN</tspan>\n",
       "</text>\n",
       "\n",
       "<text class=\"displacy-token\" fill=\"currentColor\" text-anchor=\"middle\" y=\"309.5\">\n",
       "    <tspan class=\"displacy-word\" fill=\"currentColor\" x=\"575\">collaborate</tspan>\n",
       "    <tspan class=\"displacy-tag\" dy=\"2em\" fill=\"currentColor\" x=\"575\">VERB</tspan>\n",
       "</text>\n",
       "\n",
       "<text class=\"displacy-token\" fill=\"currentColor\" text-anchor=\"middle\" y=\"309.5\">\n",
       "    <tspan class=\"displacy-word\" fill=\"currentColor\" x=\"750\">with</tspan>\n",
       "    <tspan class=\"displacy-tag\" dy=\"2em\" fill=\"currentColor\" x=\"750\">ADP</tspan>\n",
       "</text>\n",
       "\n",
       "<text class=\"displacy-token\" fill=\"currentColor\" text-anchor=\"middle\" y=\"309.5\">\n",
       "    <tspan class=\"displacy-word\" fill=\"currentColor\" x=\"925\">senior</tspan>\n",
       "    <tspan class=\"displacy-tag\" dy=\"2em\" fill=\"currentColor\" x=\"925\">ADJ</tspan>\n",
       "</text>\n",
       "\n",
       "<text class=\"displacy-token\" fill=\"currentColor\" text-anchor=\"middle\" y=\"309.5\">\n",
       "    <tspan class=\"displacy-word\" fill=\"currentColor\" x=\"1100\">product</tspan>\n",
       "    <tspan class=\"displacy-tag\" dy=\"2em\" fill=\"currentColor\" x=\"1100\">NOUN</tspan>\n",
       "</text>\n",
       "\n",
       "<text class=\"displacy-token\" fill=\"currentColor\" text-anchor=\"middle\" y=\"309.5\">\n",
       "    <tspan class=\"displacy-word\" fill=\"currentColor\" x=\"1275\">leaders</tspan>\n",
       "    <tspan class=\"displacy-tag\" dy=\"2em\" fill=\"currentColor\" x=\"1275\">NOUN</tspan>\n",
       "</text>\n",
       "\n",
       "<g class=\"displacy-arrow\">\n",
       "    <path class=\"displacy-arc\" id=\"arrow-13d0bbbcd6f849c2b17314912dff569e-0-0\" stroke-width=\"2px\" d=\"M245,264.5 C245,177.0 390.0,177.0 390.0,264.5\" fill=\"none\" stroke=\"currentColor\"/>\n",
       "    <text dy=\"1.25em\" style=\"font-size: 0.8em; letter-spacing: 1px\">\n",
       "        <textPath xlink:href=\"#arrow-13d0bbbcd6f849c2b17314912dff569e-0-0\" class=\"displacy-label\" startOffset=\"50%\" side=\"left\" fill=\"currentColor\" text-anchor=\"middle\">amod</textPath>\n",
       "    </text>\n",
       "    <path class=\"displacy-arrowhead\" d=\"M245,266.5 L237,254.5 253,254.5\" fill=\"currentColor\"/>\n",
       "</g>\n",
       "\n",
       "<g class=\"displacy-arrow\">\n",
       "    <path class=\"displacy-arc\" id=\"arrow-13d0bbbcd6f849c2b17314912dff569e-0-1\" stroke-width=\"2px\" d=\"M70,264.5 C70,89.5 395.0,89.5 395.0,264.5\" fill=\"none\" stroke=\"currentColor\"/>\n",
       "    <text dy=\"1.25em\" style=\"font-size: 0.8em; letter-spacing: 1px\">\n",
       "        <textPath xlink:href=\"#arrow-13d0bbbcd6f849c2b17314912dff569e-0-1\" class=\"displacy-label\" startOffset=\"50%\" side=\"left\" fill=\"currentColor\" text-anchor=\"middle\">dobj</textPath>\n",
       "    </text>\n",
       "    <path class=\"displacy-arrowhead\" d=\"M395.0,266.5 L403.0,254.5 387.0,254.5\" fill=\"currentColor\"/>\n",
       "</g>\n",
       "\n",
       "<g class=\"displacy-arrow\">\n",
       "    <path class=\"displacy-arc\" id=\"arrow-13d0bbbcd6f849c2b17314912dff569e-0-2\" stroke-width=\"2px\" d=\"M595,264.5 C595,177.0 740.0,177.0 740.0,264.5\" fill=\"none\" stroke=\"currentColor\"/>\n",
       "    <text dy=\"1.25em\" style=\"font-size: 0.8em; letter-spacing: 1px\">\n",
       "        <textPath xlink:href=\"#arrow-13d0bbbcd6f849c2b17314912dff569e-0-2\" class=\"displacy-label\" startOffset=\"50%\" side=\"left\" fill=\"currentColor\" text-anchor=\"middle\">prep</textPath>\n",
       "    </text>\n",
       "    <path class=\"displacy-arrowhead\" d=\"M740.0,266.5 L748.0,254.5 732.0,254.5\" fill=\"currentColor\"/>\n",
       "</g>\n",
       "\n",
       "<g class=\"displacy-arrow\">\n",
       "    <path class=\"displacy-arc\" id=\"arrow-13d0bbbcd6f849c2b17314912dff569e-0-3\" stroke-width=\"2px\" d=\"M945,264.5 C945,89.5 1270.0,89.5 1270.0,264.5\" fill=\"none\" stroke=\"currentColor\"/>\n",
       "    <text dy=\"1.25em\" style=\"font-size: 0.8em; letter-spacing: 1px\">\n",
       "        <textPath xlink:href=\"#arrow-13d0bbbcd6f849c2b17314912dff569e-0-3\" class=\"displacy-label\" startOffset=\"50%\" side=\"left\" fill=\"currentColor\" text-anchor=\"middle\">amod</textPath>\n",
       "    </text>\n",
       "    <path class=\"displacy-arrowhead\" d=\"M945,266.5 L937,254.5 953,254.5\" fill=\"currentColor\"/>\n",
       "</g>\n",
       "\n",
       "<g class=\"displacy-arrow\">\n",
       "    <path class=\"displacy-arc\" id=\"arrow-13d0bbbcd6f849c2b17314912dff569e-0-4\" stroke-width=\"2px\" d=\"M1120,264.5 C1120,177.0 1265.0,177.0 1265.0,264.5\" fill=\"none\" stroke=\"currentColor\"/>\n",
       "    <text dy=\"1.25em\" style=\"font-size: 0.8em; letter-spacing: 1px\">\n",
       "        <textPath xlink:href=\"#arrow-13d0bbbcd6f849c2b17314912dff569e-0-4\" class=\"displacy-label\" startOffset=\"50%\" side=\"left\" fill=\"currentColor\" text-anchor=\"middle\">compound</textPath>\n",
       "    </text>\n",
       "    <path class=\"displacy-arrowhead\" d=\"M1120,266.5 L1112,254.5 1128,254.5\" fill=\"currentColor\"/>\n",
       "</g>\n",
       "\n",
       "<g class=\"displacy-arrow\">\n",
       "    <path class=\"displacy-arc\" id=\"arrow-13d0bbbcd6f849c2b17314912dff569e-0-5\" stroke-width=\"2px\" d=\"M770,264.5 C770,2.0 1275.0,2.0 1275.0,264.5\" fill=\"none\" stroke=\"currentColor\"/>\n",
       "    <text dy=\"1.25em\" style=\"font-size: 0.8em; letter-spacing: 1px\">\n",
       "        <textPath xlink:href=\"#arrow-13d0bbbcd6f849c2b17314912dff569e-0-5\" class=\"displacy-label\" startOffset=\"50%\" side=\"left\" fill=\"currentColor\" text-anchor=\"middle\">pobj</textPath>\n",
       "    </text>\n",
       "    <path class=\"displacy-arrowhead\" d=\"M1275.0,266.5 L1283.0,254.5 1267.0,254.5\" fill=\"currentColor\"/>\n",
       "</g>\n",
       "</svg></span>"
      ],
      "text/plain": [
       "<IPython.core.display.HTML object>"
      ]
     },
     "metadata": {},
     "output_type": "display_data"
    }
   ],
   "source": [
    "nlp = spacy.load(\"en_core_web_sm\")\n",
    "displacy.render(nlp(\"propose strategic solution. collaborate with senior product leaders\"), style='dep', jupyter=True)\n"
   ]
  },
  {
   "cell_type": "code",
   "execution_count": 60,
   "id": "34b64c66",
   "metadata": {},
   "outputs": [
    {
     "name": "stdout",
     "output_type": "stream",
     "text": [
      "propose strategic solution\n",
      "collaborate with senior product\n",
      "collaborate with senior product leaders\n"
     ]
    }
   ],
   "source": [
    "patterns = [{\"POS\": \"VERB\"}, {\"POS\": {\"IN\": [\"ADP\", \"ADJ\"]}, \"OP\": \"+\"}, {\"POS\":\"NOUN\", \"OP\": \"+\"}]\n",
    "#patterns = [\"POS:VERB:+ POS:ADP:? POS:ADJ:? POS:NOUN:*\"]\n",
    "doc = nlp(\"propose strategic solution. collaborate with senior product leaders\")\n",
    "\n",
    "verb_chunks = textacy.extract.token_matches(doc, patterns)\n",
    "for verb_chunk in verb_chunks:\n",
    "    print(verb_chunk)\n"
   ]
  },
  {
   "cell_type": "code",
   "execution_count": 42,
   "id": "a5dd9ca8",
   "metadata": {},
   "outputs": [
    {
     "name": "stdout",
     "output_type": "stream",
     "text": [
      "[(7324372616739864093, [2, 1, 0])]\n"
     ]
    }
   ],
   "source": [
    "doc = nlp(\"propose strategic solution. collaborate with senior product leaders\")\n",
    "matcher = DependencyMatcher(nlp.vocab)\n",
    "patterns = [\n",
    "  [\n",
    "      {\n",
    "          \"RIGHT_ID\": \"verb_adj_noun_noun_noun\",       # unique name\n",
    "          \"RIGHT_ATTRS\": {\"POS\": \"VERB\"}  # token pattern for \"founded\"\n",
    "      },\n",
    "      {\n",
    "          \"LEFT_ID\": \"verb_adj_noun_noun_noun\",\n",
    "          \"REL_OP\": \">\",\n",
    "          \"RIGHT_ID\": \"adposition\", \n",
    "          \"RIGHT_ATTRS\": {\"POS\":{\"IN\": [\"ADP\"]}}\n",
    "      },\n",
    "      {\n",
    "          \"LEFT_ID\": \"adposition\",\n",
    "          \"REL_OP\": \">\",\n",
    "          \"RIGHT_ID\": \"adjectives\", \n",
    "          \"RIGHT_ATTRS\": {\"POS\":{\"IN\": [\"ADJ\", \"ADV\"]}}\n",
    "      },\n",
    "  ],\n",
    "  [\n",
    "      {\n",
    "          \"RIGHT_ID\": \"noun_amod_verb\",       # unique name\n",
    "          \"RIGHT_ATTRS\": {\"POS\": \"NOUN\"}  # token pattern for \"founded\"\n",
    "      },\n",
    "      {\n",
    "          \"LEFT_ID\": \"noun_amod_verb\",\n",
    "          \"REL_OP\": \">\",\n",
    "          \"RIGHT_ID\": \"modifier\", \n",
    "          \"RIGHT_ATTRS\": {\"DEP\":{\"IN\": [\"amod\"]}}\n",
    "      },\n",
    "      {\n",
    "          \"LEFT_ID\": \"noun_amod_verb\",\n",
    "          \"REL_OP\": \"<\",\n",
    "          \"RIGHT_ID\": \"verb\", \n",
    "          \"RIGHT_ATTRS\": {\"POS\": \"VERB\"}\n",
    "      }\n",
    "  ]\n",
    "]\n",
    "\n",
    "matcher.add(\"EXPERIENCE\", patterns)\n",
    "matches = matcher(doc)\n",
    "print(matches)\n",
    "\n",
    "match_id, token_ids = matches[0]\n",
    "#for i in range(len(token_ids)):\n",
    "    #print(patterns[i][0][\"RIGHT_ID\"] + \":\", doc[token_ids[i]].text)"
   ]
  },
  {
   "cell_type": "code",
   "execution_count": 15,
   "id": "3a3aef53",
   "metadata": {},
   "outputs": [
    {
     "data": {
      "text/plain": [
       "7324372616739864093"
      ]
     },
     "execution_count": 15,
     "metadata": {},
     "output_type": "execute_result"
    }
   ],
   "source": [
    "match_id"
   ]
  },
  {
   "cell_type": "code",
   "execution_count": 16,
   "id": "96c47cb5",
   "metadata": {},
   "outputs": [
    {
     "data": {
      "text/plain": [
       "[2, 1, 0]"
      ]
     },
     "execution_count": 16,
     "metadata": {},
     "output_type": "execute_result"
    }
   ],
   "source": [
    "token_ids"
   ]
  },
  {
   "cell_type": "code",
   "execution_count": 18,
   "id": "c983c78c",
   "metadata": {},
   "outputs": [
    {
     "data": {
      "text/plain": [
       "solution"
      ]
     },
     "execution_count": 18,
     "metadata": {},
     "output_type": "execute_result"
    }
   ],
   "source": [
    "doc[token_ids[0]]"
   ]
  },
  {
   "cell_type": "code",
   "execution_count": 25,
   "id": "22c67da7",
   "metadata": {},
   "outputs": [
    {
     "data": {
      "text/plain": [
       "'noun_amod_verb'"
      ]
     },
     "execution_count": 25,
     "metadata": {},
     "output_type": "execute_result"
    }
   ],
   "source": [
    "patterns[1][0][\"RIGHT_ID\"]"
   ]
  },
  {
   "cell_type": "code",
   "execution_count": 26,
   "id": "ab8e9065",
   "metadata": {},
   "outputs": [
    {
     "data": {
      "text/plain": [
       "3"
      ]
     },
     "execution_count": 26,
     "metadata": {},
     "output_type": "execute_result"
    }
   ],
   "source": [
    "len(token_ids)"
   ]
  },
  {
   "cell_type": "code",
   "execution_count": 47,
   "id": "6a7f5433",
   "metadata": {},
   "outputs": [
    {
     "name": "stdout",
     "output_type": "stream",
     "text": [
      "strategic solution\n",
      "senior product leaders\n",
      "\n",
      " ----------------------- \n",
      "\n",
      "propose ROOT propose VERB [solution, .]\n",
      "strategic amod solution NOUN []\n",
      "solution dobj propose VERB [strategic]\n",
      ". punct propose VERB []\n",
      "collaborate ROOT collaborate VERB [with]\n",
      "with prep collaborate VERB [leaders]\n",
      "senior amod leaders NOUN []\n",
      "product compound leaders NOUN []\n",
      "leaders pobj with ADP [senior, product]\n"
     ]
    }
   ],
   "source": [
    "doc = nlp(\"propose strategic solution. collaborate with senior product leaders\")\n",
    "for chunk in doc.noun_chunks:\n",
    "    print(chunk)\n",
    "\n",
    "print(\"\\n ----------------------- \\n\")\n",
    "for token in doc:\n",
    "    print(token.text, token.dep_, token.head.text, token.head.pos_,\n",
    "            [child for child in token.children])"
   ]
  },
  {
   "cell_type": "code",
   "execution_count": null,
   "id": "588c2b94",
   "metadata": {},
   "outputs": [],
   "source": []
  }
 ],
 "metadata": {
  "kernelspec": {
   "display_name": "Python 3 (ipykernel)",
   "language": "python",
   "name": "python3"
  },
  "language_info": {
   "codemirror_mode": {
    "name": "ipython",
    "version": 3
   },
   "file_extension": ".py",
   "mimetype": "text/x-python",
   "name": "python",
   "nbconvert_exporter": "python",
   "pygments_lexer": "ipython3",
   "version": "3.8.11"
  }
 },
 "nbformat": 4,
 "nbformat_minor": 5
}
