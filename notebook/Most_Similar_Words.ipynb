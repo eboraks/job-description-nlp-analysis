{
 "cells": [
  {
   "cell_type": "code",
   "execution_count": 25,
   "id": "944b35bc",
   "metadata": {},
   "outputs": [],
   "source": [
    "import spacy\n",
    "import numpy as np\n",
    "from sense2vec import Sense2VecComponent\n",
    "nlp = spacy.load(\"en_core_web_lg\")\n",
    "\n",
    "# Source: https://towardsdatascience.com/how-to-build-a-fast-most-similar-words-method-in-spacy-32ed104fe498\n"
   ]
  },
  {
   "cell_type": "code",
   "execution_count": 34,
   "id": "ba6dcffe",
   "metadata": {},
   "outputs": [],
   "source": [
    "doc = nlp(\"A sentence about natural language processing.\")\n",
    "assert doc[3:6].text == \"natural language processing\"\n",
    "freq = doc[3:6]._.s2v_freq\n",
    "vector = doc[3:6]._.s2v_vec\n",
    "most_similar = doc[3:6]._.s2v_most_similar(10)"
   ]
  },
  {
   "cell_type": "code",
   "execution_count": 35,
   "id": "2db4bf01",
   "metadata": {
    "scrolled": true
   },
   "outputs": [
    {
     "data": {
      "text/plain": [
       "[(('machine learning', 'NOUN'), 0.772),\n",
       " (('NLP', 'ORG'), 0.7007),\n",
       " (('computer vision', 'NOUN'), 0.6968),\n",
       " (('text mining', 'NOUN'), 0.693),\n",
       " (('deep learning', 'NOUN'), 0.6911),\n",
       " (('Machine Learning', 'ORG'), 0.691),\n",
       " (('speech recognition', 'NOUN'), 0.682),\n",
       " (('image generation', 'NOUN'), 0.6809),\n",
       " (('machine learning algorithms', 'NOUN'), 0.6793),\n",
       " (('deep reinforcement learning', 'NOUN'), 0.6761)]"
      ]
     },
     "execution_count": 35,
     "metadata": {},
     "output_type": "execute_result"
    }
   ],
   "source": [
    "most_similar"
   ]
  },
  {
   "cell_type": "code",
   "execution_count": 56,
   "id": "667d03a1",
   "metadata": {},
   "outputs": [
    {
     "data": {
      "text/plain": [
       "1.0"
      ]
     },
     "execution_count": 56,
     "metadata": {},
     "output_type": "execute_result"
    }
   ],
   "source": [
    "\n",
    "a = nlp('natural language processing')\n",
    "b = nlp('natural language processing')\n",
    "a.similarity(b)\n",
    "#a._.s2v_similarity(b[0])\n",
    "# doc[3:6].similarity(t)\n",
    "#doc[3:6]._.s2v_similarity(t[0])"
   ]
  },
  {
   "cell_type": "code",
   "execution_count": 18,
   "id": "d31a3f92",
   "metadata": {},
   "outputs": [],
   "source": [
    "def most_similar(word, topn=5):\n",
    "    word = nlp.vocab[str(word)]\n",
    "\n",
    "    # removed and w.prob >= -15 from the if statement\n",
    "    queries = [\n",
    "        w for w in word.vocab \n",
    "        if w.is_lower == word.is_lower and np.count_nonzero(w.vector)\n",
    "    ]\n",
    "\n",
    "    by_similarity = sorted(queries, key=lambda w: word.similarity(w), reverse=True)\n",
    "    return [(w.lower_,w.similarity(word)) for w in by_similarity[:topn+1] if w.lower_ != word.lower_]\n",
    "\n"
   ]
  },
  {
   "cell_type": "code",
   "execution_count": 19,
   "id": "09e13d54",
   "metadata": {},
   "outputs": [
    {
     "data": {
      "text/plain": [
       "[('she', 0.4152419),\n",
       " ('when', 0.40957537),\n",
       " ('he', 0.39067104),\n",
       " ('how', 0.38315147),\n",
       " ('does', 0.37388524)]"
      ]
     },
     "execution_count": 19,
     "metadata": {},
     "output_type": "execute_result"
    }
   ],
   "source": [
    "most_similar(\"dog\", topn=5)"
   ]
  },
  {
   "cell_type": "code",
   "execution_count": 8,
   "id": "64c912c8",
   "metadata": {},
   "outputs": [
    {
     "data": {
      "text/plain": [
       "<spacy.lexeme.Lexeme at 0x7fa482f08180>"
      ]
     },
     "execution_count": 8,
     "metadata": {},
     "output_type": "execute_result"
    }
   ],
   "source": [
    "nlp.vocab[str(\"boston\")]"
   ]
  },
  {
   "cell_type": "code",
   "execution_count": 24,
   "id": "2aa5d3a1",
   "metadata": {},
   "outputs": [
    {
     "data": {
      "text/plain": [
       "['KIng',\n",
       " 'king',\n",
       " 'KING',\n",
       " 'King',\n",
       " 'kings',\n",
       " 'Kings',\n",
       " 'KINGS',\n",
       " 'prince',\n",
       " 'Prince',\n",
       " 'PRINCE']"
      ]
     },
     "execution_count": 24,
     "metadata": {},
     "output_type": "execute_result"
    }
   ],
   "source": [
    "# source https://github.com/explosion/spaCy/issues/4741\n",
    "ms = nlp.vocab.vectors.most_similar(np.asarray([nlp.vocab.vectors[nlp.vocab.strings['king']]]), n=10)\n",
    "[nlp.vocab.strings[w] for w in ms[0][0]]\n"
   ]
  },
  {
   "cell_type": "code",
   "execution_count": 28,
   "id": "5083abc3",
   "metadata": {},
   "outputs": [
    {
     "data": {
      "text/plain": [
       "<sense2vec.component.Sense2VecComponent at 0x7fa461e30310>"
      ]
     },
     "execution_count": 28,
     "metadata": {},
     "output_type": "execute_result"
    }
   ],
   "source": [
    "# to read - https://explosion.ai/blog/sense2vec-reloaded\n",
    "\n",
    "#s2v = nlp.add_pipe(\"sense2vec\")\n",
    "s2v.from_disk(\"/Users/eliranboraks/projects/models/s2v_reddit_2019_lg\")"
   ]
  },
  {
   "cell_type": "code",
   "execution_count": 29,
   "id": "ae39944f",
   "metadata": {},
   "outputs": [],
   "source": [
    "doc = nlp(\"A sentence about natural language processing.\")\n",
    "assert doc[3:6].text == \"natural language processing\"\n",
    "freq = doc[3:6]._.s2v_freq\n",
    "vector = doc[3:6]._.s2v_vec\n",
    "most_similar = doc[3:6]._.s2v_most_similar(3)"
   ]
  },
  {
   "cell_type": "code",
   "execution_count": 30,
   "id": "dc6d1dcd",
   "metadata": {},
   "outputs": [
    {
     "data": {
      "text/plain": [
       "[(('machine learning', 'NOUN'), 0.772),\n",
       " (('NLP', 'ORG'), 0.7007),\n",
       " (('computer vision', 'NOUN'), 0.6968)]"
      ]
     },
     "execution_count": 30,
     "metadata": {},
     "output_type": "execute_result"
    }
   ],
   "source": [
    "most_similar"
   ]
  },
  {
   "cell_type": "code",
   "execution_count": null,
   "id": "eda0d7af",
   "metadata": {},
   "outputs": [],
   "source": []
  }
 ],
 "metadata": {
  "kernelspec": {
   "display_name": "Python 3 (ipykernel)",
   "language": "python",
   "name": "python3"
  },
  "language_info": {
   "codemirror_mode": {
    "name": "ipython",
    "version": 3
   },
   "file_extension": ".py",
   "mimetype": "text/x-python",
   "name": "python",
   "nbconvert_exporter": "python",
   "pygments_lexer": "ipython3",
   "version": "3.8.11"
  }
 },
 "nbformat": 4,
 "nbformat_minor": 5
}
