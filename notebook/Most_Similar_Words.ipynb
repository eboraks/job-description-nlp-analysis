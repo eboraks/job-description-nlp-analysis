{
 "cells": [
  {
   "cell_type": "code",
   "execution_count": 1,
   "id": "944b35bc",
   "metadata": {},
   "outputs": [],
   "source": [
    "import spacy\n",
    "import numpy as np\n",
    "from sense2vec import Sense2VecComponent\n",
    "nlp = spacy.load(\"en_core_web_lg\")\n",
    "\n",
    "# Source: https://towardsdatascience.com/how-to-build-a-fast-most-similar-words-method-in-spacy-32ed104fe498\n"
   ]
  },
  {
   "cell_type": "code",
   "execution_count": 2,
   "id": "c8cc34c8",
   "metadata": {},
   "outputs": [
    {
     "data": {
      "text/plain": [
       "<sense2vec.component.Sense2VecComponent at 0x7fd8a184b4f0>"
      ]
     },
     "execution_count": 2,
     "metadata": {},
     "output_type": "execute_result"
    }
   ],
   "source": [
    "s2v = nlp.add_pipe(\"sense2vec\")\n",
    "s2v.from_disk(\"/Users/eliranboraks/projects/models/s2v_reddit_2019_lg\")"
   ]
  },
  {
   "cell_type": "code",
   "execution_count": 10,
   "id": "ba6dcffe",
   "metadata": {},
   "outputs": [
    {
     "data": {
      "text/plain": [
       "[(('machine learning', 'NOUN'), 0.772),\n",
       " (('NLP', 'ORG'), 0.7007),\n",
       " (('computer vision', 'NOUN'), 0.6968),\n",
       " (('text mining', 'NOUN'), 0.693),\n",
       " (('deep learning', 'NOUN'), 0.6911),\n",
       " (('Machine Learning', 'ORG'), 0.691),\n",
       " (('speech recognition', 'NOUN'), 0.682),\n",
       " (('image generation', 'NOUN'), 0.6809),\n",
       " (('machine learning algorithms', 'NOUN'), 0.6793),\n",
       " (('deep reinforcement learning', 'NOUN'), 0.6761)]"
      ]
     },
     "execution_count": 10,
     "metadata": {},
     "output_type": "execute_result"
    }
   ],
   "source": [
    "doc = nlp(\"A sentence about natural language processing.\")\n",
    "assert doc[3:6].text == \"natural language processing\"\n",
    "freq = doc[3:6]._.s2v_freq\n",
    "vector = doc[3:6]._.s2v_vec\n",
    "most_similar = doc[3:6]._.s2v_most_similar(10)\n",
    "most_similar"
   ]
  },
  {
   "cell_type": "code",
   "execution_count": 13,
   "id": "cba6e9ce",
   "metadata": {},
   "outputs": [
    {
     "data": {
      "text/plain": [
       "'A sentence about natural language processing.'"
      ]
     },
     "execution_count": 13,
     "metadata": {},
     "output_type": "execute_result"
    }
   ],
   "source": [
    "doc[0:].text"
   ]
  },
  {
   "cell_type": "code",
   "execution_count": 16,
   "id": "2db4bf01",
   "metadata": {
    "scrolled": true
   },
   "outputs": [
    {
     "ename": "ValueError",
     "evalue": "Can't find key solution_architecture|NOUN in table",
     "output_type": "error",
     "traceback": [
      "\u001b[0;31m---------------------------------------------------------------------------\u001b[0m",
      "\u001b[0;31mValueError\u001b[0m                                Traceback (most recent call last)",
      "\u001b[0;32m/var/folders/7g/_mtrfg1d7qd9x9npv4fwkd9c0000gn/T/ipykernel_41366/42394708.py\u001b[0m in \u001b[0;36m<module>\u001b[0;34m\u001b[0m\n\u001b[1;32m      2\u001b[0m \u001b[0mfreq\u001b[0m \u001b[0;34m=\u001b[0m \u001b[0mdoc\u001b[0m\u001b[0;34m[\u001b[0m\u001b[0;36m0\u001b[0m\u001b[0;34m:\u001b[0m\u001b[0;34m]\u001b[0m\u001b[0;34m.\u001b[0m\u001b[0m_\u001b[0m\u001b[0;34m.\u001b[0m\u001b[0ms2v_freq\u001b[0m\u001b[0;34m\u001b[0m\u001b[0;34m\u001b[0m\u001b[0m\n\u001b[1;32m      3\u001b[0m \u001b[0mvector\u001b[0m \u001b[0;34m=\u001b[0m \u001b[0mdoc\u001b[0m\u001b[0;34m[\u001b[0m\u001b[0;36m0\u001b[0m\u001b[0;34m:\u001b[0m\u001b[0;34m]\u001b[0m\u001b[0;34m.\u001b[0m\u001b[0m_\u001b[0m\u001b[0;34m.\u001b[0m\u001b[0ms2v_vec\u001b[0m\u001b[0;34m\u001b[0m\u001b[0;34m\u001b[0m\u001b[0m\n\u001b[0;32m----> 4\u001b[0;31m \u001b[0mmost_similar\u001b[0m \u001b[0;34m=\u001b[0m \u001b[0mdoc\u001b[0m\u001b[0;34m[\u001b[0m\u001b[0;36m0\u001b[0m\u001b[0;34m:\u001b[0m\u001b[0;34m]\u001b[0m\u001b[0;34m.\u001b[0m\u001b[0m_\u001b[0m\u001b[0;34m.\u001b[0m\u001b[0ms2v_most_similar\u001b[0m\u001b[0;34m(\u001b[0m\u001b[0;36m10\u001b[0m\u001b[0;34m)\u001b[0m\u001b[0;34m\u001b[0m\u001b[0;34m\u001b[0m\u001b[0m\n\u001b[0m\u001b[1;32m      5\u001b[0m \u001b[0mmost_similar\u001b[0m\u001b[0;34m\u001b[0m\u001b[0;34m\u001b[0m\u001b[0m\n",
      "\u001b[0;32m~/opt/anaconda3/envs/python38/lib/python3.8/site-packages/sense2vec/component.py\u001b[0m in \u001b[0;36ms2v_most_similar\u001b[0;34m(self, obj, n)\u001b[0m\n\u001b[1;32m    205\u001b[0m         \"\"\"\n\u001b[1;32m    206\u001b[0m         \u001b[0mkey\u001b[0m \u001b[0;34m=\u001b[0m \u001b[0mself\u001b[0m\u001b[0;34m.\u001b[0m\u001b[0ms2v_key\u001b[0m\u001b[0;34m(\u001b[0m\u001b[0mobj\u001b[0m\u001b[0;34m)\u001b[0m\u001b[0;34m\u001b[0m\u001b[0;34m\u001b[0m\u001b[0m\n\u001b[0;32m--> 207\u001b[0;31m         \u001b[0mresults\u001b[0m \u001b[0;34m=\u001b[0m \u001b[0mobj\u001b[0m\u001b[0;34m.\u001b[0m\u001b[0mdoc\u001b[0m\u001b[0;34m.\u001b[0m\u001b[0m_\u001b[0m\u001b[0;34m.\u001b[0m\u001b[0m_s2v\u001b[0m\u001b[0;34m.\u001b[0m\u001b[0mmost_similar\u001b[0m\u001b[0;34m(\u001b[0m\u001b[0;34m[\u001b[0m\u001b[0mkey\u001b[0m\u001b[0;34m]\u001b[0m\u001b[0;34m,\u001b[0m \u001b[0mn\u001b[0m\u001b[0;34m=\u001b[0m\u001b[0mn\u001b[0m\u001b[0;34m)\u001b[0m\u001b[0;34m\u001b[0m\u001b[0;34m\u001b[0m\u001b[0m\n\u001b[0m\u001b[1;32m    208\u001b[0m         \u001b[0;32mreturn\u001b[0m \u001b[0;34m[\u001b[0m\u001b[0;34m(\u001b[0m\u001b[0mself\u001b[0m\u001b[0;34m.\u001b[0m\u001b[0ms2v\u001b[0m\u001b[0;34m.\u001b[0m\u001b[0msplit_key\u001b[0m\u001b[0;34m(\u001b[0m\u001b[0mresult\u001b[0m\u001b[0;34m)\u001b[0m\u001b[0;34m,\u001b[0m \u001b[0mscore\u001b[0m\u001b[0;34m)\u001b[0m \u001b[0;32mfor\u001b[0m \u001b[0mresult\u001b[0m\u001b[0;34m,\u001b[0m \u001b[0mscore\u001b[0m \u001b[0;32min\u001b[0m \u001b[0mresults\u001b[0m\u001b[0;34m]\u001b[0m\u001b[0;34m\u001b[0m\u001b[0;34m\u001b[0m\u001b[0m\n\u001b[1;32m    209\u001b[0m \u001b[0;34m\u001b[0m\u001b[0m\n",
      "\u001b[0;32m~/opt/anaconda3/envs/python38/lib/python3.8/site-packages/sense2vec/sense2vec.py\u001b[0m in \u001b[0;36mmost_similar\u001b[0;34m(self, keys, n, batch_size)\u001b[0m\n\u001b[1;32m    207\u001b[0m         \u001b[0;32mfor\u001b[0m \u001b[0mkey\u001b[0m \u001b[0;32min\u001b[0m \u001b[0mkeys\u001b[0m\u001b[0;34m:\u001b[0m\u001b[0;34m\u001b[0m\u001b[0;34m\u001b[0m\u001b[0m\n\u001b[1;32m    208\u001b[0m             \u001b[0;32mif\u001b[0m \u001b[0mkey\u001b[0m \u001b[0;32mnot\u001b[0m \u001b[0;32min\u001b[0m \u001b[0mself\u001b[0m\u001b[0;34m:\u001b[0m\u001b[0;34m\u001b[0m\u001b[0;34m\u001b[0m\u001b[0m\n\u001b[0;32m--> 209\u001b[0;31m                 \u001b[0;32mraise\u001b[0m \u001b[0mValueError\u001b[0m\u001b[0;34m(\u001b[0m\u001b[0;34mf\"Can't find key {key} in table\"\u001b[0m\u001b[0;34m)\u001b[0m\u001b[0;34m\u001b[0m\u001b[0;34m\u001b[0m\u001b[0m\n\u001b[0m\u001b[1;32m    210\u001b[0m         \u001b[0;32mif\u001b[0m \u001b[0mself\u001b[0m\u001b[0;34m.\u001b[0m\u001b[0mcache\u001b[0m \u001b[0;32mand\u001b[0m \u001b[0mself\u001b[0m\u001b[0;34m.\u001b[0m\u001b[0mcache\u001b[0m\u001b[0;34m[\u001b[0m\u001b[0;34m\"indices\"\u001b[0m\u001b[0;34m]\u001b[0m\u001b[0;34m.\u001b[0m\u001b[0mshape\u001b[0m\u001b[0;34m[\u001b[0m\u001b[0;36m1\u001b[0m\u001b[0;34m]\u001b[0m \u001b[0;34m>=\u001b[0m \u001b[0mn\u001b[0m\u001b[0;34m:\u001b[0m\u001b[0;34m\u001b[0m\u001b[0;34m\u001b[0m\u001b[0m\n\u001b[1;32m    211\u001b[0m             \u001b[0mn\u001b[0m \u001b[0;34m=\u001b[0m \u001b[0mmin\u001b[0m\u001b[0;34m(\u001b[0m\u001b[0mlen\u001b[0m\u001b[0;34m(\u001b[0m\u001b[0mself\u001b[0m\u001b[0;34m.\u001b[0m\u001b[0mvectors\u001b[0m\u001b[0;34m)\u001b[0m\u001b[0;34m,\u001b[0m \u001b[0mn\u001b[0m\u001b[0;34m)\u001b[0m\u001b[0;34m\u001b[0m\u001b[0;34m\u001b[0m\u001b[0m\n",
      "\u001b[0;31mValueError\u001b[0m: Can't find key solution_architecture|NOUN in table"
     ]
    }
   ],
   "source": [
    "doc = nlp(\"solutions architecture\")\n",
    "freq = doc[0:]._.s2v_freq\n",
    "vector = doc[0:]._.s2v_vec\n",
    "most_similar = doc[0:]._.s2v_most_similar(10)\n",
    "most_similar"
   ]
  },
  {
   "cell_type": "code",
   "execution_count": 56,
   "id": "667d03a1",
   "metadata": {},
   "outputs": [
    {
     "data": {
      "text/plain": [
       "1.0"
      ]
     },
     "execution_count": 56,
     "metadata": {},
     "output_type": "execute_result"
    }
   ],
   "source": [
    "\n",
    "a = nlp('natural language processing')\n",
    "b = nlp('natural language processing')\n",
    "a.similarity(b)\n",
    "#a._.s2v_similarity(b[0])\n",
    "# doc[3:6].similarity(t)\n",
    "#doc[3:6]._.s2v_similarity(t[0])"
   ]
  },
  {
   "cell_type": "code",
   "execution_count": 18,
   "id": "d31a3f92",
   "metadata": {},
   "outputs": [],
   "source": [
    "def most_similar(word, topn=5):\n",
    "    word = nlp.vocab[str(word)]\n",
    "\n",
    "    # removed and w.prob >= -15 from the if statement\n",
    "    queries = [\n",
    "        w for w in word.vocab \n",
    "        if w.is_lower == word.is_lower and np.count_nonzero(w.vector)\n",
    "    ]\n",
    "\n",
    "    by_similarity = sorted(queries, key=lambda w: word.similarity(w), reverse=True)\n",
    "    return [(w.lower_,w.similarity(word)) for w in by_similarity[:topn+1] if w.lower_ != word.lower_]\n",
    "\n"
   ]
  },
  {
   "cell_type": "code",
   "execution_count": 19,
   "id": "09e13d54",
   "metadata": {},
   "outputs": [
    {
     "data": {
      "text/plain": [
       "[('she', 0.4152419),\n",
       " ('when', 0.40957537),\n",
       " ('he', 0.39067104),\n",
       " ('how', 0.38315147),\n",
       " ('does', 0.37388524)]"
      ]
     },
     "execution_count": 19,
     "metadata": {},
     "output_type": "execute_result"
    }
   ],
   "source": [
    "most_similar(\"dog\", topn=5)"
   ]
  },
  {
   "cell_type": "code",
   "execution_count": 8,
   "id": "64c912c8",
   "metadata": {},
   "outputs": [
    {
     "data": {
      "text/plain": [
       "<spacy.lexeme.Lexeme at 0x7fa482f08180>"
      ]
     },
     "execution_count": 8,
     "metadata": {},
     "output_type": "execute_result"
    }
   ],
   "source": [
    "nlp.vocab[str(\"boston\")]"
   ]
  },
  {
   "cell_type": "code",
   "execution_count": 24,
   "id": "2aa5d3a1",
   "metadata": {},
   "outputs": [
    {
     "data": {
      "text/plain": [
       "['KIng',\n",
       " 'king',\n",
       " 'KING',\n",
       " 'King',\n",
       " 'kings',\n",
       " 'Kings',\n",
       " 'KINGS',\n",
       " 'prince',\n",
       " 'Prince',\n",
       " 'PRINCE']"
      ]
     },
     "execution_count": 24,
     "metadata": {},
     "output_type": "execute_result"
    }
   ],
   "source": [
    "# source https://github.com/explosion/spaCy/issues/4741\n",
    "ms = nlp.vocab.vectors.most_similar(np.asarray([nlp.vocab.vectors[nlp.vocab.strings['king']]]), n=10)\n",
    "[nlp.vocab.strings[w] for w in ms[0][0]]\n"
   ]
  },
  {
   "cell_type": "code",
   "execution_count": 28,
   "id": "5083abc3",
   "metadata": {},
   "outputs": [
    {
     "data": {
      "text/plain": [
       "<sense2vec.component.Sense2VecComponent at 0x7fa461e30310>"
      ]
     },
     "execution_count": 28,
     "metadata": {},
     "output_type": "execute_result"
    }
   ],
   "source": [
    "# to read - https://explosion.ai/blog/sense2vec-reloaded\n",
    "\n",
    "#s2v = nlp.add_pipe(\"sense2vec\")\n",
    "s2v.from_disk(\"/Users/eliranboraks/projects/models/s2v_reddit_2019_lg\")"
   ]
  },
  {
   "cell_type": "code",
   "execution_count": 29,
   "id": "ae39944f",
   "metadata": {},
   "outputs": [],
   "source": [
    "doc = nlp(\"A sentence about natural language processing.\")\n",
    "assert doc[3:6].text == \"natural language processing\"\n",
    "freq = doc[3:6]._.s2v_freq\n",
    "vector = doc[3:6]._.s2v_vec\n",
    "most_similar = doc[3:6]._.s2v_most_similar(3)"
   ]
  },
  {
   "cell_type": "code",
   "execution_count": 30,
   "id": "dc6d1dcd",
   "metadata": {},
   "outputs": [
    {
     "data": {
      "text/plain": [
       "[(('machine learning', 'NOUN'), 0.772),\n",
       " (('NLP', 'ORG'), 0.7007),\n",
       " (('computer vision', 'NOUN'), 0.6968)]"
      ]
     },
     "execution_count": 30,
     "metadata": {},
     "output_type": "execute_result"
    }
   ],
   "source": [
    "most_similar"
   ]
  },
  {
   "cell_type": "code",
   "execution_count": null,
   "id": "eda0d7af",
   "metadata": {},
   "outputs": [],
   "source": []
  }
 ],
 "metadata": {
  "kernelspec": {
   "display_name": "Python 3 (ipykernel)",
   "language": "python",
   "name": "python3"
  },
  "language_info": {
   "codemirror_mode": {
    "name": "ipython",
    "version": 3
   },
   "file_extension": ".py",
   "mimetype": "text/x-python",
   "name": "python",
   "nbconvert_exporter": "python",
   "pygments_lexer": "ipython3",
   "version": "3.8.11"
  }
 },
 "nbformat": 4,
 "nbformat_minor": 5
}
