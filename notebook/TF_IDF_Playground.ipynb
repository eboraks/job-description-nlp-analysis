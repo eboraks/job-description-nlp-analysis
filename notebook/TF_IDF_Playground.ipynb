{
 "cells": [
  {
   "cell_type": "code",
   "execution_count": 5,
   "id": "789447d1",
   "metadata": {},
   "outputs": [],
   "source": [
    "import textacy\n",
    "import spacy\n",
    "import pandas as pd\n",
    "import numpy as np\n",
    "from sklearn.feature_extraction.text import CountVectorizer\n",
    "from sklearn.feature_extraction.text import TfidfTransformer\n",
    "from sklearn.feature_extraction.text import TfidfVectorizer"
   ]
  },
  {
   "cell_type": "code",
   "execution_count": 4,
   "id": "043488aa",
   "metadata": {},
   "outputs": [],
   "source": [
    "text=[\"kolkata big city india trade\",\"mumbai financial capital india\",\"delhi capital india\",\"kolkata capital colonial times\",\n",
    "     \"bangalore tech hub india software\",\"mumbai hub trade commerce stock exchange\",\"kolkata victoria memorial\",\"delhi india gate\",\n",
    "      \"mumbai gate way india trade business\",\"delhi red fort india\",\"kolkata metro oldest india\",\n",
    "      \"delhi metro largest metro network india\"]"
   ]
  },
  {
   "cell_type": "code",
   "execution_count": 23,
   "id": "efbe25c9",
   "metadata": {},
   "outputs": [],
   "source": [
    "count_vec = CountVectorizer(ngram_range=(2,2))\n",
    "word_count = count_vec.fit_transform(text)"
   ]
  },
  {
   "cell_type": "code",
   "execution_count": 24,
   "id": "cd01bbe5",
   "metadata": {},
   "outputs": [
    {
     "data": {
      "text/plain": [
       "array([[0, 1, 0, 0, 1, 0, 0, 0, 0, 0, 0, 0, 0, 0, 0, 0, 0, 0, 1, 1, 0, 0,\n",
       "        0, 0, 0, 0, 0, 0, 0, 0, 0, 0, 0, 0, 0, 0, 0, 0, 0],\n",
       "       [0, 0, 0, 1, 0, 0, 0, 0, 0, 0, 0, 1, 0, 0, 0, 0, 0, 0, 0, 0, 0, 0,\n",
       "        0, 0, 0, 0, 0, 1, 0, 0, 0, 0, 0, 0, 0, 0, 0, 0, 0],\n",
       "       [0, 0, 0, 1, 0, 0, 0, 1, 0, 0, 0, 0, 0, 0, 0, 0, 0, 0, 0, 0, 0, 0,\n",
       "        0, 0, 0, 0, 0, 0, 0, 0, 0, 0, 0, 0, 0, 0, 0, 0, 0],\n",
       "       [0, 0, 1, 0, 0, 1, 0, 0, 0, 0, 0, 0, 0, 0, 0, 0, 0, 0, 0, 0, 1, 0,\n",
       "        0, 0, 0, 0, 0, 0, 0, 0, 0, 0, 0, 0, 0, 0, 0, 0, 0],\n",
       "       [1, 0, 0, 0, 0, 0, 0, 0, 0, 0, 0, 0, 0, 0, 1, 0, 0, 1, 0, 0, 0, 0,\n",
       "        0, 0, 0, 0, 0, 0, 0, 0, 0, 0, 0, 0, 1, 0, 0, 0, 0],\n",
       "       [0, 0, 0, 0, 0, 0, 1, 0, 0, 0, 0, 0, 0, 0, 0, 1, 0, 0, 0, 0, 0, 0,\n",
       "        0, 0, 0, 0, 0, 0, 0, 1, 0, 0, 0, 1, 0, 0, 1, 0, 0],\n",
       "       [0, 0, 0, 0, 0, 0, 0, 0, 0, 0, 0, 0, 0, 0, 0, 0, 0, 0, 0, 0, 0, 0,\n",
       "        1, 0, 0, 0, 0, 0, 0, 0, 0, 0, 0, 0, 0, 0, 0, 1, 0],\n",
       "       [0, 0, 0, 0, 0, 0, 0, 0, 1, 0, 0, 0, 0, 0, 0, 0, 1, 0, 0, 0, 0, 0,\n",
       "        0, 0, 0, 0, 0, 0, 0, 0, 0, 0, 0, 0, 0, 0, 0, 0, 0],\n",
       "       [0, 0, 0, 0, 0, 0, 0, 0, 0, 0, 0, 0, 0, 1, 0, 0, 0, 0, 1, 0, 0, 0,\n",
       "        0, 0, 0, 0, 0, 0, 1, 0, 0, 0, 0, 0, 0, 1, 0, 0, 1],\n",
       "       [0, 0, 0, 0, 0, 0, 0, 0, 0, 0, 1, 0, 1, 0, 0, 0, 0, 0, 0, 0, 0, 0,\n",
       "        0, 0, 0, 0, 0, 0, 0, 0, 0, 0, 1, 0, 0, 0, 0, 0, 0],\n",
       "       [0, 0, 0, 0, 0, 0, 0, 0, 0, 0, 0, 0, 0, 0, 0, 0, 0, 0, 0, 0, 0, 1,\n",
       "        0, 0, 0, 0, 1, 0, 0, 0, 0, 1, 0, 0, 0, 0, 0, 0, 0],\n",
       "       [0, 0, 0, 0, 0, 0, 0, 0, 0, 1, 0, 0, 0, 0, 0, 0, 0, 0, 0, 0, 0, 0,\n",
       "        0, 1, 1, 1, 0, 0, 0, 0, 1, 0, 0, 0, 0, 0, 0, 0, 0]])"
      ]
     },
     "execution_count": 24,
     "metadata": {},
     "output_type": "execute_result"
    }
   ],
   "source": [
    "word_count.toarray()"
   ]
  },
  {
   "cell_type": "code",
   "execution_count": 25,
   "id": "a9877737",
   "metadata": {},
   "outputs": [
    {
     "data": {
      "text/plain": [
       "TfidfTransformer()"
      ]
     },
     "execution_count": 25,
     "metadata": {},
     "output_type": "execute_result"
    }
   ],
   "source": [
    "tfidf_transformer=TfidfTransformer(smooth_idf=True,use_idf=True)\n",
    "tfidf_transformer.fit(word_count)"
   ]
  },
  {
   "cell_type": "code",
   "execution_count": 26,
   "id": "b3ed0ed3",
   "metadata": {},
   "outputs": [
    {
     "name": "stdout",
     "output_type": "stream",
     "text": [
      "[2.87180218 2.87180218 2.87180218 2.46633707 2.87180218 2.87180218\n",
      " 2.87180218 2.87180218 2.87180218 2.87180218 2.87180218 2.87180218\n",
      " 2.87180218 2.87180218 2.87180218 2.87180218 2.87180218 2.87180218\n",
      " 2.46633707 2.87180218 2.87180218 2.87180218 2.87180218 2.87180218\n",
      " 2.87180218 2.87180218 2.87180218 2.87180218 2.87180218 2.87180218\n",
      " 2.87180218 2.87180218 2.87180218 2.87180218 2.87180218 2.87180218\n",
      " 2.87180218 2.87180218 2.87180218]\n",
      "['bangalore tech', 'big city', 'capital colonial', 'capital india', 'city india', 'colonial times', 'commerce stock', 'delhi capital', 'delhi india', 'delhi metro', 'delhi red', 'financial capital', 'fort india', 'gate way', 'hub india', 'hub trade', 'india gate', 'india software', 'india trade', 'kolkata big', 'kolkata capital', 'kolkata metro', 'kolkata victoria', 'largest metro', 'metro largest', 'metro network', 'metro oldest', 'mumbai financial', 'mumbai gate', 'mumbai hub', 'network india', 'oldest india', 'red fort', 'stock exchange', 'tech hub', 'trade business', 'trade commerce', 'victoria memorial', 'way india']\n"
     ]
    },
    {
     "name": "stderr",
     "output_type": "stream",
     "text": [
      "/Users/eliranboraks/opt/anaconda3/envs/python38/lib/python3.8/site-packages/sklearn/utils/deprecation.py:87: FutureWarning: Function get_feature_names is deprecated; get_feature_names is deprecated in 1.0 and will be removed in 1.2. Please use get_feature_names_out instead.\n",
      "  warnings.warn(msg, category=FutureWarning)\n"
     ]
    }
   ],
   "source": [
    "print(tfidf_transformer.idf_)\n",
    "print(count_vec.get_feature_names())"
   ]
  },
  {
   "cell_type": "code",
   "execution_count": 27,
   "id": "f210874e",
   "metadata": {},
   "outputs": [],
   "source": [
    "df_idf = pd.DataFrame(tfidf_transformer.idf_, index=count_vec.get_feature_names(),columns=[\"idf_weights\"])\n",
    "df_idf = df_idf.sort_values(by=['idf_weights'])"
   ]
  },
  {
   "cell_type": "code",
   "execution_count": 35,
   "id": "86c4a4fd",
   "metadata": {},
   "outputs": [
    {
     "data": {
      "text/html": [
       "<div>\n",
       "<style scoped>\n",
       "    .dataframe tbody tr th:only-of-type {\n",
       "        vertical-align: middle;\n",
       "    }\n",
       "\n",
       "    .dataframe tbody tr th {\n",
       "        vertical-align: top;\n",
       "    }\n",
       "\n",
       "    .dataframe thead th {\n",
       "        text-align: right;\n",
       "    }\n",
       "</style>\n",
       "<table border=\"1\" class=\"dataframe\">\n",
       "  <thead>\n",
       "    <tr style=\"text-align: right;\">\n",
       "      <th></th>\n",
       "      <th>idf_weights</th>\n",
       "    </tr>\n",
       "  </thead>\n",
       "  <tbody>\n",
       "    <tr>\n",
       "      <th>capital india</th>\n",
       "      <td>2.466337</td>\n",
       "    </tr>\n",
       "    <tr>\n",
       "      <th>india trade</th>\n",
       "      <td>2.466337</td>\n",
       "    </tr>\n",
       "    <tr>\n",
       "      <th>bangalore tech</th>\n",
       "      <td>2.871802</td>\n",
       "    </tr>\n",
       "    <tr>\n",
       "      <th>kolkata metro</th>\n",
       "      <td>2.871802</td>\n",
       "    </tr>\n",
       "    <tr>\n",
       "      <th>kolkata victoria</th>\n",
       "      <td>2.871802</td>\n",
       "    </tr>\n",
       "  </tbody>\n",
       "</table>\n",
       "</div>"
      ],
      "text/plain": [
       "                  idf_weights\n",
       "capital india        2.466337\n",
       "india trade          2.466337\n",
       "bangalore tech       2.871802\n",
       "kolkata metro        2.871802\n",
       "kolkata victoria     2.871802"
      ]
     },
     "execution_count": 35,
     "metadata": {},
     "output_type": "execute_result"
    }
   ],
   "source": [
    "df_idf.head(5)"
   ]
  },
  {
   "cell_type": "code",
   "execution_count": 29,
   "id": "59d96eac",
   "metadata": {},
   "outputs": [
    {
     "data": {
      "text/plain": [
       "<12x39 sparse matrix of type '<class 'numpy.float64'>'\n",
       "\twith 41 stored elements in Compressed Sparse Row format>"
      ]
     },
     "execution_count": 29,
     "metadata": {},
     "output_type": "execute_result"
    }
   ],
   "source": [
    "tfidf_vec = tfidf_transformer.transform(word_count)\n"
   ]
  },
  {
   "cell_type": "code",
   "execution_count": 36,
   "id": "24fbebeb",
   "metadata": {},
   "outputs": [
    {
     "name": "stdout",
     "output_type": "stream",
     "text": [
      "(12, 39)\n"
     ]
    }
   ],
   "source": [
    "print(tfidf_vec.shape) "
   ]
  },
  {
   "cell_type": "code",
   "execution_count": 43,
   "id": "e4e331b5",
   "metadata": {},
   "outputs": [
    {
     "name": "stdout",
     "output_type": "stream",
     "text": [
      "  (0, 27)\t0.6043915496769748\n",
      "  (0, 11)\t0.6043915496769748\n",
      "  (0, 3)\t0.5190584835624306\n",
      "[[0.        ]\n",
      " [0.        ]\n",
      " [0.        ]\n",
      " [0.51905848]\n",
      " [0.        ]\n",
      " [0.        ]\n",
      " [0.        ]\n",
      " [0.        ]\n",
      " [0.        ]\n",
      " [0.        ]\n",
      " [0.        ]\n",
      " [0.60439155]\n",
      " [0.        ]\n",
      " [0.        ]\n",
      " [0.        ]\n",
      " [0.        ]\n",
      " [0.        ]\n",
      " [0.        ]\n",
      " [0.        ]\n",
      " [0.        ]\n",
      " [0.        ]\n",
      " [0.        ]\n",
      " [0.        ]\n",
      " [0.        ]\n",
      " [0.        ]\n",
      " [0.        ]\n",
      " [0.        ]\n",
      " [0.60439155]\n",
      " [0.        ]\n",
      " [0.        ]\n",
      " [0.        ]\n",
      " [0.        ]\n",
      " [0.        ]\n",
      " [0.        ]\n",
      " [0.        ]\n",
      " [0.        ]\n",
      " [0.        ]\n",
      " [0.        ]\n",
      " [0.        ]]\n"
     ]
    }
   ],
   "source": [
    "first_doc_vec = tfidf_vec[1]\n",
    "print(first_doc_vec)\n",
    "print(first_doc_vec.T.todense())"
   ]
  },
  {
   "cell_type": "code",
   "execution_count": 61,
   "id": "f2969f08",
   "metadata": {},
   "outputs": [
    {
     "name": "stderr",
     "output_type": "stream",
     "text": [
      "/Users/eliranboraks/opt/anaconda3/envs/python38/lib/python3.8/site-packages/sklearn/utils/deprecation.py:87: FutureWarning: Function get_feature_names is deprecated; get_feature_names is deprecated in 1.0 and will be removed in 1.2. Please use get_feature_names_out instead.\n",
      "  warnings.warn(msg, category=FutureWarning)\n"
     ]
    },
    {
     "data": {
      "text/html": [
       "<div>\n",
       "<style scoped>\n",
       "    .dataframe tbody tr th:only-of-type {\n",
       "        vertical-align: middle;\n",
       "    }\n",
       "\n",
       "    .dataframe tbody tr th {\n",
       "        vertical-align: top;\n",
       "    }\n",
       "\n",
       "    .dataframe thead th {\n",
       "        text-align: right;\n",
       "    }\n",
       "</style>\n",
       "<table border=\"1\" class=\"dataframe\">\n",
       "  <thead>\n",
       "    <tr style=\"text-align: right;\">\n",
       "      <th></th>\n",
       "      <th>td_idf</th>\n",
       "    </tr>\n",
       "  </thead>\n",
       "  <tbody>\n",
       "    <tr>\n",
       "      <th>kolkata big</th>\n",
       "      <td>0.517257</td>\n",
       "    </tr>\n",
       "    <tr>\n",
       "      <th>big city</th>\n",
       "      <td>0.517257</td>\n",
       "    </tr>\n",
       "    <tr>\n",
       "      <th>city india</th>\n",
       "      <td>0.517257</td>\n",
       "    </tr>\n",
       "    <tr>\n",
       "      <th>india trade</th>\n",
       "      <td>0.444226</td>\n",
       "    </tr>\n",
       "    <tr>\n",
       "      <th>mumbai hub</th>\n",
       "      <td>0.000000</td>\n",
       "    </tr>\n",
       "    <tr>\n",
       "      <th>largest metro</th>\n",
       "      <td>0.000000</td>\n",
       "    </tr>\n",
       "    <tr>\n",
       "      <th>metro largest</th>\n",
       "      <td>0.000000</td>\n",
       "    </tr>\n",
       "    <tr>\n",
       "      <th>metro network</th>\n",
       "      <td>0.000000</td>\n",
       "    </tr>\n",
       "    <tr>\n",
       "      <th>metro oldest</th>\n",
       "      <td>0.000000</td>\n",
       "    </tr>\n",
       "    <tr>\n",
       "      <th>mumbai financial</th>\n",
       "      <td>0.000000</td>\n",
       "    </tr>\n",
       "    <tr>\n",
       "      <th>mumbai gate</th>\n",
       "      <td>0.000000</td>\n",
       "    </tr>\n",
       "    <tr>\n",
       "      <th>network india</th>\n",
       "      <td>0.000000</td>\n",
       "    </tr>\n",
       "    <tr>\n",
       "      <th>kolkata metro</th>\n",
       "      <td>0.000000</td>\n",
       "    </tr>\n",
       "    <tr>\n",
       "      <th>oldest india</th>\n",
       "      <td>0.000000</td>\n",
       "    </tr>\n",
       "    <tr>\n",
       "      <th>red fort</th>\n",
       "      <td>0.000000</td>\n",
       "    </tr>\n",
       "    <tr>\n",
       "      <th>stock exchange</th>\n",
       "      <td>0.000000</td>\n",
       "    </tr>\n",
       "    <tr>\n",
       "      <th>tech hub</th>\n",
       "      <td>0.000000</td>\n",
       "    </tr>\n",
       "    <tr>\n",
       "      <th>trade business</th>\n",
       "      <td>0.000000</td>\n",
       "    </tr>\n",
       "    <tr>\n",
       "      <th>trade commerce</th>\n",
       "      <td>0.000000</td>\n",
       "    </tr>\n",
       "    <tr>\n",
       "      <th>victoria memorial</th>\n",
       "      <td>0.000000</td>\n",
       "    </tr>\n",
       "    <tr>\n",
       "      <th>kolkata victoria</th>\n",
       "      <td>0.000000</td>\n",
       "    </tr>\n",
       "    <tr>\n",
       "      <th>bangalore tech</th>\n",
       "      <td>0.000000</td>\n",
       "    </tr>\n",
       "    <tr>\n",
       "      <th>kolkata capital</th>\n",
       "      <td>0.000000</td>\n",
       "    </tr>\n",
       "    <tr>\n",
       "      <th>delhi metro</th>\n",
       "      <td>0.000000</td>\n",
       "    </tr>\n",
       "    <tr>\n",
       "      <th>capital colonial</th>\n",
       "      <td>0.000000</td>\n",
       "    </tr>\n",
       "    <tr>\n",
       "      <th>capital india</th>\n",
       "      <td>0.000000</td>\n",
       "    </tr>\n",
       "    <tr>\n",
       "      <th>colonial times</th>\n",
       "      <td>0.000000</td>\n",
       "    </tr>\n",
       "    <tr>\n",
       "      <th>commerce stock</th>\n",
       "      <td>0.000000</td>\n",
       "    </tr>\n",
       "    <tr>\n",
       "      <th>delhi capital</th>\n",
       "      <td>0.000000</td>\n",
       "    </tr>\n",
       "    <tr>\n",
       "      <th>delhi india</th>\n",
       "      <td>0.000000</td>\n",
       "    </tr>\n",
       "    <tr>\n",
       "      <th>delhi red</th>\n",
       "      <td>0.000000</td>\n",
       "    </tr>\n",
       "    <tr>\n",
       "      <th>india software</th>\n",
       "      <td>0.000000</td>\n",
       "    </tr>\n",
       "    <tr>\n",
       "      <th>financial capital</th>\n",
       "      <td>0.000000</td>\n",
       "    </tr>\n",
       "    <tr>\n",
       "      <th>fort india</th>\n",
       "      <td>0.000000</td>\n",
       "    </tr>\n",
       "    <tr>\n",
       "      <th>gate way</th>\n",
       "      <td>0.000000</td>\n",
       "    </tr>\n",
       "    <tr>\n",
       "      <th>hub india</th>\n",
       "      <td>0.000000</td>\n",
       "    </tr>\n",
       "    <tr>\n",
       "      <th>hub trade</th>\n",
       "      <td>0.000000</td>\n",
       "    </tr>\n",
       "    <tr>\n",
       "      <th>india gate</th>\n",
       "      <td>0.000000</td>\n",
       "    </tr>\n",
       "    <tr>\n",
       "      <th>way india</th>\n",
       "      <td>0.000000</td>\n",
       "    </tr>\n",
       "  </tbody>\n",
       "</table>\n",
       "</div>"
      ],
      "text/plain": [
       "                     td_idf\n",
       "kolkata big        0.517257\n",
       "big city           0.517257\n",
       "city india         0.517257\n",
       "india trade        0.444226\n",
       "mumbai hub         0.000000\n",
       "largest metro      0.000000\n",
       "metro largest      0.000000\n",
       "metro network      0.000000\n",
       "metro oldest       0.000000\n",
       "mumbai financial   0.000000\n",
       "mumbai gate        0.000000\n",
       "network india      0.000000\n",
       "kolkata metro      0.000000\n",
       "oldest india       0.000000\n",
       "red fort           0.000000\n",
       "stock exchange     0.000000\n",
       "tech hub           0.000000\n",
       "trade business     0.000000\n",
       "trade commerce     0.000000\n",
       "victoria memorial  0.000000\n",
       "kolkata victoria   0.000000\n",
       "bangalore tech     0.000000\n",
       "kolkata capital    0.000000\n",
       "delhi metro        0.000000\n",
       "capital colonial   0.000000\n",
       "capital india      0.000000\n",
       "colonial times     0.000000\n",
       "commerce stock     0.000000\n",
       "delhi capital      0.000000\n",
       "delhi india        0.000000\n",
       "delhi red          0.000000\n",
       "india software     0.000000\n",
       "financial capital  0.000000\n",
       "fort india         0.000000\n",
       "gate way           0.000000\n",
       "hub india          0.000000\n",
       "hub trade          0.000000\n",
       "india gate         0.000000\n",
       "way india          0.000000"
      ]
     },
     "execution_count": 61,
     "metadata": {},
     "output_type": "execute_result"
    }
   ],
   "source": [
    "df_tf_idf = pd.DataFrame(tfidf_vec[0].T.todense(), index=count_vec.get_feature_names(), columns=[\"td_idf\"])\n",
    "df_tf_idf = df_tf_idf.sort_values(by=[\"td_idf\"],ascending=False)\n",
    "df_tf_idf"
   ]
  },
  {
   "cell_type": "code",
   "execution_count": 51,
   "id": "40839fe0",
   "metadata": {},
   "outputs": [],
   "source": [
    "vectorizer = TfidfVectorizer(ngram_range=(2,2), stop_words=['english'])"
   ]
  },
  {
   "cell_type": "code",
   "execution_count": 52,
   "id": "879a76a0",
   "metadata": {},
   "outputs": [],
   "source": [
    "X = vectorizer.fit_transform(text)"
   ]
  },
  {
   "cell_type": "code",
   "execution_count": 53,
   "id": "0b0c0ca0",
   "metadata": {},
   "outputs": [
    {
     "data": {
      "text/plain": [
       "<12x39 sparse matrix of type '<class 'numpy.float64'>'\n",
       "\twith 41 stored elements in Compressed Sparse Row format>"
      ]
     },
     "execution_count": 53,
     "metadata": {},
     "output_type": "execute_result"
    }
   ],
   "source": [
    "X"
   ]
  },
  {
   "cell_type": "code",
   "execution_count": 57,
   "id": "128faf24",
   "metadata": {},
   "outputs": [],
   "source": [
    "text_vec = vectorizer.transform(text)"
   ]
  },
  {
   "cell_type": "code",
   "execution_count": 58,
   "id": "ae53ac3a",
   "metadata": {},
   "outputs": [
    {
     "data": {
      "text/plain": [
       "<1x39 sparse matrix of type '<class 'numpy.float64'>'\n",
       "\twith 4 stored elements in Compressed Sparse Row format>"
      ]
     },
     "execution_count": 58,
     "metadata": {},
     "output_type": "execute_result"
    }
   ],
   "source": [
    "text_vec[0]"
   ]
  },
  {
   "cell_type": "code",
   "execution_count": 59,
   "id": "f88c6280",
   "metadata": {},
   "outputs": [
    {
     "data": {
      "text/plain": [
       "[array(['kolkata big', 'india trade', 'city india', 'big city'],\n",
       "       dtype='<U17')]"
      ]
     },
     "execution_count": 59,
     "metadata": {},
     "output_type": "execute_result"
    }
   ],
   "source": [
    "vectorizer.inverse_transform(text_vec[0])"
   ]
  },
  {
   "cell_type": "code",
   "execution_count": 60,
   "id": "ff5cc7e0",
   "metadata": {},
   "outputs": [
    {
     "data": {
      "text/plain": [
       "'kolkata big city india trade'"
      ]
     },
     "execution_count": 60,
     "metadata": {},
     "output_type": "execute_result"
    }
   ],
   "source": [
    "text[0]"
   ]
  },
  {
   "cell_type": "code",
   "execution_count": null,
   "id": "07d29d7b",
   "metadata": {},
   "outputs": [],
   "source": []
  }
 ],
 "metadata": {
  "kernelspec": {
   "display_name": "Python 3 (ipykernel)",
   "language": "python",
   "name": "python3"
  },
  "language_info": {
   "codemirror_mode": {
    "name": "ipython",
    "version": 3
   },
   "file_extension": ".py",
   "mimetype": "text/x-python",
   "name": "python",
   "nbconvert_exporter": "python",
   "pygments_lexer": "ipython3",
   "version": "3.8.11"
  }
 },
 "nbformat": 4,
 "nbformat_minor": 5
}
