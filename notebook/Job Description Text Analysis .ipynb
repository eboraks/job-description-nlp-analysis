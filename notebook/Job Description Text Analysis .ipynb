{
 "cells": [
  {
   "cell_type": "code",
   "execution_count": 4,
   "id": "ae2bd1e7",
   "metadata": {},
   "outputs": [],
   "source": [
    "import spacy\n",
    "from textacy import preprocessing\n",
    "from textacy import extract\n",
    "\n",
    "nlp = spacy.load(\"en_core_web_lg\")\n"
   ]
  },
  {
   "cell_type": "code",
   "execution_count": 5,
   "id": "21cbf355",
   "metadata": {},
   "outputs": [],
   "source": [
    "text = \"About the job\\nDescription\\n\\nWe’re seeking an experienced product leader to join us in our Boston, MA office to lead product management for AWS’s newest hybrid storage service. AWS Outposts provide fully managed AWS infrastructure and services to customers in their on-premises data centers. Amazon S3 on Outposts, launched in 2020, provides hybrid object storage enabling customers to store and retrieve data on-premises using the S3 programming model and features.\\n\\nOur team is responsible for delivering this hybrid storage platform on Outposts. As part of the team, you will help shape object storage for the next generation hybrid computing platform.\\n\\nProduct Management at AWS is an opportunity to collaborate with engineering, design, and business development teams. We are looking for an entrepreneurial product leader who is passionate about delivering solutions to customers and excited about growing a new AWS business. Successful candidates will be able to build strategic roadmap for the business, dive into technical details working closely with the engineering team and drive the delivery of features that will delight our customers.\\n\\nYou will be joining an experienced team of engineers and product managers who have built and scaled services at Amazon and beyond. We’re looking for a new teammate who is enthusiastic, empathetic, curious, motivated, reliable, and able to collaborate effectively with a diverse team of peers.\\n\\nWork/Life Balance\\n\\nOur team puts a high value on work-life balance. Our entire team is co-located in the Boston Seaport office, but we’re also flexible when people occasionally need to work from home. We generally keep core in-office hours from 10am to 4pm.\\n\\nMentorship and Career Growth\\n\\nOur team is dedicated to supporting new team members. Our team has a broad mix of experience levels and Amazon tenures, and we’re building an environment that celebrates knowledge sharing and mentorship. Our senior members truly enjoy mentoring others through one-on-one sessions helping them with their career growth.\\n\\nInclusive Team Culture\\n\\nHere at AWS, we embrace our differences. We are committed to furthering our culture of inclusion. We have ten employee-led affinity groups, reaching 40,000 employees in over 190 chapters globally. We have innovative benefit offerings, and we host annual and ongoing learning experiences, including our Conversations on Race and Ethnicity (CORE) and AmazeCon (gender diversity) conferences. Amazon’s culture of inclusion is reinforced within our 14 Leadership Principles, which remind team members to seek diverse perspectives, learn and be curious, and earn trust\\n\\n\\nBasic Qualifications\\nBachelor’s Degree in Computer Science or related field.\\n10+ years of product management experience including defining product vision, roadmap and driving product investment decisions.\\n10+ years of work experience with launching large scale software products and driving adoption.\\nDemonstrable experience delivering through large teams.\\nDemonstrable experience delivering strategies and insights to VP-level leadership.\\n\\nPreferred Qualifications\\n\\nAmazon is committed to a diverse and inclusive workforce. Amazon is an equal opportunity employer and does not discriminate on the basis of race, ethnicity, gender, gender identity, sexual orientation, protected veteran status, disability, age, or other legally protected status. For individuals with disabilities who would like to request an accommodation, please visit https://www.amazon.jobs/en/disability/us\\n\\n\\nCompany - Amazon Dev Center U.S., Inc.\\n\\nJob ID: A1584516\"\n",
    "\n",
    "\n"
   ]
  },
  {
   "cell_type": "code",
   "execution_count": 9,
   "id": "b5b61151",
   "metadata": {},
   "outputs": [],
   "source": [
    "def remove_stop_words(text: str):\n",
    "    \n",
    "    doc = nlp(text)\n",
    "    tokens = [token.text for token in doc if not token.is_stop]\n",
    "    return \" \".join(tokens)"
   ]
  },
  {
   "cell_type": "code",
   "execution_count": 11,
   "id": "1e4502e6",
   "metadata": {},
   "outputs": [],
   "source": [
    "preproc = preprocessing.make_pipeline(\n",
    "    preprocessing.remove.html_tags,\n",
    "    remove_stop_words,\n",
    "    preprocessing.normalize.whitespace, \n",
    "    preprocessing.replace.urls, \n",
    "    preprocessing.replace.numbers, \n",
    "    preprocessing.normalize.unicode\n",
    ")"
   ]
  },
  {
   "cell_type": "code",
   "execution_count": 14,
   "id": "a3fd8231",
   "metadata": {
    "scrolled": true
   },
   "outputs": [],
   "source": [
    "text = preproc(text)"
   ]
  },
  {
   "cell_type": "code",
   "execution_count": 15,
   "id": "f7b67194",
   "metadata": {},
   "outputs": [],
   "source": [
    "doc = nlp(text)\n",
    "\n"
   ]
  },
  {
   "cell_type": "code",
   "execution_count": 16,
   "id": "988f9ab8",
   "metadata": {},
   "outputs": [
    {
     "name": "stdout",
     "output_type": "stream",
     "text": [
      "[seeking experienced, experienced product, product leader, leader join, join Boston, MA office, office lead, lead product, product management, management AWS, AWS newest, newest hybrid, hybrid storage, storage service, AWS Outposts, Outposts provide, provide fully, fully managed, managed AWS, AWS infrastructure, infrastructure services, services customers, premises data, data centers, Amazon S3, S3 Outposts, provides hybrid, hybrid object, object storage, storage enabling, enabling customers, customers store, store retrieve, retrieve data, premises S3, S3 programming, programming model, model features, team responsible, responsible delivering, delivering hybrid, hybrid storage, storage platform, platform Outposts, help shape, shape object, object storage, storage generation, generation hybrid, hybrid computing, computing platform, Product Management, Management AWS, AWS opportunity, opportunity collaborate, collaborate engineering, business development, development teams, looking entrepreneurial, entrepreneurial product, product leader, leader passionate, passionate delivering, delivering solutions, solutions customers, customers excited, excited growing, growing new, new AWS, AWS business, Successful candidates, candidates able, able build, build strategic, strategic roadmap, roadmap business, dive technical, technical details, details working, working closely, closely engineering, engineering team, team drive, drive delivery, delivery features, features delight, delight customers, joining experienced, experienced team, team engineers, engineers product, product managers, managers built, built scaled, scaled services, services Amazon, looking new, new teammate, teammate enthusiastic, able collaborate, collaborate effectively, effectively diverse, diverse team, team peers, Life Balance, team puts, puts high, high value, value work, life balance, entire team, team co, located Boston, Boston Seaport, Seaport office, flexible people, people occasionally, occasionally need, need work, work home, generally core, office hours, Mentorship Career, Career Growth, team dedicated, dedicated supporting, supporting new, new team, team members, team broad, broad mix, mix experience, experience levels, levels Amazon, Amazon tenures, building environment, environment celebrates, celebrates knowledge, knowledge sharing, sharing mentorship, senior members, members truly, truly enjoy, enjoy mentoring, sessions helping, helping career, career growth, Inclusive Team, Team Culture, embrace differences, committed furthering, furthering culture, culture inclusion, led affinity, affinity groups, chapters globally, innovative benefit, benefit offerings, host annual, annual ongoing, ongoing learning, learning experiences, including Conversations, Conversations Race, Race Ethnicity, gender diversity, Amazon culture, culture inclusion, inclusion reinforced, Leadership Principles, remind team, team members, members seek, seek diverse, diverse perspectives, learn curious, earn trust, Basic Qualifications, Bachelor Degree, Degree Computer, Computer Science, Science related, related field, + years, years product, product management, management experience, experience including, including defining, defining product, product vision, roadmap driving, driving product, product investment, investment decisions, + years, years work, work experience, experience launching, launching large, large scale, scale software, software products, products driving, driving adoption, Demonstrable experience, experience delivering, delivering large, large teams, Demonstrable experience, experience delivering, delivering strategies, strategies insights, insights VP, level leadership, Preferred Qualifications, Amazon committed, committed diverse, diverse inclusive, inclusive workforce, Amazon equal, equal opportunity, opportunity employer, employer discriminate, discriminate basis, basis race, gender identity, sexual orientation, protected veteran, veteran status, legally protected, protected status, individuals disabilities, disabilities like, like request, request accommodation, Amazon Dev, Dev Center, Center U.S., Job ID]\n"
     ]
    }
   ],
   "source": [
    "ngrams = list(extract.basics.ngrams(doc, 2, min_freq=1))\n",
    "\n",
    "print(ngrams)"
   ]
  },
  {
   "cell_type": "code",
   "execution_count": 20,
   "id": "62692bfa",
   "metadata": {},
   "outputs": [
    {
     "data": {
      "text/plain": [
       "[('team broad mix experience level Amazon tenure', 0.05733918061952075),\n",
       " ('product management AWS new hybrid storage service', 0.057301199018178844),\n",
       " ('experienced team engineer product manager', 0.04579972829531097),\n",
       " ('new team member', 0.035476930169832444),\n",
       " ('engineering team drive delivery', 0.034840512530384185),\n",
       " ('year product management experience', 0.033031493846633744),\n",
       " ('diverse team peer', 0.031041252051884963),\n",
       " ('business development team', 0.029618639321989347),\n",
       " ('object storage generation hybrid computing platform', 0.02818529526638929),\n",
       " ('year work experience', 0.027068080310591304),\n",
       " ('entire team co', 0.02654570651829166),\n",
       " ('large scale software product', 0.02645724070228912),\n",
       " ('large team', 0.02606526383911489),\n",
       " ('hybrid storage platform Outposts', 0.02582969426891928),\n",
       " ('team dedicated', 0.02429669915825536),\n",
       " ('team responsible', 0.024093444371154897),\n",
       " ('entrepreneurial product leader passionate', 0.023679327481375887),\n",
       " ('new AWS business', 0.023353713797800144),\n",
       " ('Amazon equal opportunity employer', 0.023060357915581264),\n",
       " ('experienced product leader', 0.0228277819000422)]"
      ]
     },
     "execution_count": 20,
     "metadata": {},
     "output_type": "execute_result"
    }
   ],
   "source": [
    "extract.keyterms.textrank(doc, topn=20)"
   ]
  },
  {
   "cell_type": "code",
   "execution_count": 23,
   "id": "0f9097ec",
   "metadata": {},
   "outputs": [
    {
     "data": {
      "text/plain": [
       "[('AWS Outposts', 0.33535029962362023),\n",
       " ('S3 Outposts', 0.3358823445298114),\n",
       " ('Management AWS', 0.47710677362521514),\n",
       " ('MA office', 0.4976193058355266),\n",
       " ('Amazon S3', 0.5499260756855417),\n",
       " ('Product Management', 0.5577982887721558),\n",
       " ('Boston Seaport', 0.594677896047488),\n",
       " ('platform Outposts', 0.6453287289960133),\n",
       " ('demonstrable experience', 0.6488832973133655),\n",
       " ('Life Balance', 0.6929220664343416),\n",
       " ('Mentorship Career', 0.7286004600001447),\n",
       " ('Basic Qualifications', 0.7469508637308947),\n",
       " ('Career Growth', 0.7576764069853977),\n",
       " ('aws infrastructure', 0.763161011077047),\n",
       " ('Inclusive Team', 0.7669879246918987),\n",
       " ('premise s3', 0.7875640799590194),\n",
       " ('Team Culture', 0.7974164201091544),\n",
       " ('AWS business', 0.8082069387685239),\n",
       " ('AWS new', 0.8333908809174942),\n",
       " ('Conversations Race', 0.8456097603283527),\n",
       " ('Race Ethnicity', 0.8456097603283527),\n",
       " ('Amazon Dev', 0.8517756659977193),\n",
       " ('Job ID', 0.8538776164331809),\n",
       " ('Bachelor Degree', 0.8643478581383885),\n",
       " ('Degree Computer', 0.8802761592995986),\n",
       " ('Computer Science', 0.8966391585918823),\n",
       " ('Dev Center', 0.9167344960495662),\n",
       " ('Center U.S.', 0.9167344960495662),\n",
       " ('AWS opportunity', 0.9205366315987904),\n",
       " ('s3 programming', 0.9220563111523878)]"
      ]
     },
     "execution_count": 23,
     "metadata": {},
     "output_type": "execute_result"
    }
   ],
   "source": [
    "extract.keyterms.yake(doc, normalize=\"lemma\", ngrams=2, topn=30)"
   ]
  },
  {
   "cell_type": "code",
   "execution_count": null,
   "id": "18cce7fb",
   "metadata": {},
   "outputs": [],
   "source": []
  }
 ],
 "metadata": {
  "kernelspec": {
   "display_name": "Python 3 (ipykernel)",
   "language": "python",
   "name": "python3"
  },
  "language_info": {
   "codemirror_mode": {
    "name": "ipython",
    "version": 3
   },
   "file_extension": ".py",
   "mimetype": "text/x-python",
   "name": "python",
   "nbconvert_exporter": "python",
   "pygments_lexer": "ipython3",
   "version": "3.8.11"
  }
 },
 "nbformat": 4,
 "nbformat_minor": 5
}
