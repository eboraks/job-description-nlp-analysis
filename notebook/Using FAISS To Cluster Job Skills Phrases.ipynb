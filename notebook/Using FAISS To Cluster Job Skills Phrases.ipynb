{
 "cells": [
  {
   "cell_type": "markdown",
   "id": "8e8ba999",
   "metadata": {},
   "source": [
    "# Using FAISS to Cluster Job Skills Phrases"
   ]
  },
  {
   "cell_type": "markdown",
   "id": "2fd67fb3",
   "metadata": {},
   "source": [
    "The first step is to create sample data. I am going to use the sample information from the KMean Clusters. This is done for education purposes. "
   ]
  },
  {
   "cell_type": "code",
   "execution_count": 2,
   "id": "073e4307",
   "metadata": {},
   "outputs": [],
   "source": [
    "cluster1 = ['Experience developing product roadmaps',\n",
    " 'developing new capabilities',\n",
    " 'develop creative solutions',\n",
    " 'build new capabilities',\n",
    " 'overcome complex systems integration challenges',\n",
    " 'overcome complex systems integration',\n",
    " 'power of emerging technologies',\n",
    " 'principles to developing marketing technology solutions',\n",
    " 'principles to developing marketing technology',\n",
    " 'incorporate key technologies']\n",
    "\n",
    "cluster2 = ['protected by law',\n",
    " 'participate in certain work',\n",
    " 'vaccinated against COVID-19',\n",
    " 'adoption within identified segments',\n",
    " 'work -related activities',\n",
    " 'protected under applicable law',\n",
    " 'serves through programs',\n",
    " 'responsibility for setting individual',\n",
    " 'given current COVID19 restrictions',\n",
    " 'depending on COVID-19 related restrictions']\n",
    "\n",
    "cluster3 = ['working across global markets',\n",
    " 'leading through influence',\n",
    " 'works with product development teams',\n",
    " 'organization with demonstrated ability',\n",
    " 'experience managing teams',\n",
    " 'working with relevant stakeholders',\n",
    " 'working with technology',\n",
    " 'involve multiple stakeholder teams',\n",
    " 'experience leading project',\n",
    " 'individual manages people']"
   ]
  },
  {
   "cell_type": "code",
   "execution_count": 185,
   "id": "9a689345",
   "metadata": {},
   "outputs": [],
   "source": [
    "import spacy\n",
    "import pandas as pd\n",
    "import numpy as np\n",
    "import faiss\n",
    "import matplotlib.pyplot as plt\n",
    "from text_util import remove_stop_words\n",
    "from text_util import token_counter"
   ]
  },
  {
   "cell_type": "code",
   "execution_count": 170,
   "id": "781603e8",
   "metadata": {},
   "outputs": [],
   "source": [
    "# Spacy model to convert the phrases in the clusters to vectors\n",
    "nlp = spacy.load(\"en_core_web_lg\")"
   ]
  },
  {
   "cell_type": "code",
   "execution_count": 5,
   "id": "ca751d73",
   "metadata": {},
   "outputs": [
    {
     "data": {
      "text/plain": [
       "['Experience developing product roadmaps',\n",
       " 'developing new capabilities',\n",
       " 'develop creative solutions',\n",
       " 'build new capabilities',\n",
       " 'overcome complex systems integration challenges',\n",
       " 'overcome complex systems integration',\n",
       " 'power of emerging technologies',\n",
       " 'principles to developing marketing technology solutions',\n",
       " 'principles to developing marketing technology',\n",
       " 'incorporate key technologies']"
      ]
     },
     "execution_count": 5,
     "metadata": {},
     "output_type": "execute_result"
    }
   ],
   "source": [
    "phrases = cluster1 + cluster2 + cluster3\n",
    "phrases[:10]"
   ]
  },
  {
   "cell_type": "code",
   "execution_count": 13,
   "id": "31dc55b2",
   "metadata": {},
   "outputs": [],
   "source": [
    "vector_phrases = np.array([nlp(p).vector for p in phrases])"
   ]
  },
  {
   "cell_type": "code",
   "execution_count": 14,
   "id": "e1386ecb",
   "metadata": {},
   "outputs": [
    {
     "data": {
      "text/plain": [
       "array([[-0.08788   ,  0.10864751,  0.05093225, ...,  0.16550675,\n",
       "         0.16161324,  0.211032  ],\n",
       "       [-0.00593667,  0.09985947,  0.02157   , ..., -0.020008  ,\n",
       "        -0.22197999,  0.38148332],\n",
       "       [-0.31821832,  0.235391  , -0.12508667, ..., -0.18607335,\n",
       "         0.05699332,  0.20529866],\n",
       "       ...,\n",
       "       [-0.27660277, -0.1703355 , -0.16975951, ..., -0.09986001,\n",
       "         0.234346  , -0.07670999],\n",
       "       [ 0.194552  , -0.04580001,  0.07059   , ...,  0.06184734,\n",
       "        -0.10131234,  0.03543533],\n",
       "       [-0.12643532,  0.03645667, -0.17206335, ..., -0.35727465,\n",
       "         0.065333  ,  0.07911543]], dtype=float32)"
      ]
     },
     "execution_count": 14,
     "metadata": {},
     "output_type": "execute_result"
    }
   ],
   "source": [
    "vector_phrases"
   ]
  },
  {
   "cell_type": "code",
   "execution_count": 15,
   "id": "3aa6d0c1",
   "metadata": {},
   "outputs": [
    {
     "data": {
      "text/plain": [
       "(30, 300)"
      ]
     },
     "execution_count": 15,
     "metadata": {},
     "output_type": "execute_result"
    }
   ],
   "source": [
    "vector_phrases.shape"
   ]
  },
  {
   "cell_type": "code",
   "execution_count": 16,
   "id": "256ead41",
   "metadata": {},
   "outputs": [
    {
     "data": {
      "application/vnd.jupyter.widget-view+json": {
       "model_id": "a5bb24b21c2843a28ba29054bc50736a",
       "version_major": 2,
       "version_minor": 0
      },
      "text/plain": [
       "Downloading:   0%|          | 0.00/1.18k [00:00<?, ?B/s]"
      ]
     },
     "metadata": {},
     "output_type": "display_data"
    },
    {
     "data": {
      "application/vnd.jupyter.widget-view+json": {
       "model_id": "3e39d49c31ed4b15b9630b8376cb212a",
       "version_major": 2,
       "version_minor": 0
      },
      "text/plain": [
       "Downloading:   0%|          | 0.00/10.2k [00:00<?, ?B/s]"
      ]
     },
     "metadata": {},
     "output_type": "display_data"
    },
    {
     "data": {
      "application/vnd.jupyter.widget-view+json": {
       "model_id": "3b6680e3336c44fa8a1e7ddcfbc779a1",
       "version_major": 2,
       "version_minor": 0
      },
      "text/plain": [
       "Downloading:   0%|          | 0.00/573 [00:00<?, ?B/s]"
      ]
     },
     "metadata": {},
     "output_type": "display_data"
    },
    {
     "data": {
      "application/vnd.jupyter.widget-view+json": {
       "model_id": "0dad737949014aad93f4b845aa73555e",
       "version_major": 2,
       "version_minor": 0
      },
      "text/plain": [
       "Downloading:   0%|          | 0.00/116 [00:00<?, ?B/s]"
      ]
     },
     "metadata": {},
     "output_type": "display_data"
    },
    {
     "data": {
      "application/vnd.jupyter.widget-view+json": {
       "model_id": "614ac93b364e41158272bb76a6276dd0",
       "version_major": 2,
       "version_minor": 0
      },
      "text/plain": [
       "Downloading:   0%|          | 0.00/39.3k [00:00<?, ?B/s]"
      ]
     },
     "metadata": {},
     "output_type": "display_data"
    },
    {
     "data": {
      "application/vnd.jupyter.widget-view+json": {
       "model_id": "dcaae7852cfd4872ba245f644fdc7308",
       "version_major": 2,
       "version_minor": 0
      },
      "text/plain": [
       "Downloading:   0%|          | 0.00/349 [00:00<?, ?B/s]"
      ]
     },
     "metadata": {},
     "output_type": "display_data"
    },
    {
     "data": {
      "application/vnd.jupyter.widget-view+json": {
       "model_id": "98f5303402a246c48c2aabe729936491",
       "version_major": 2,
       "version_minor": 0
      },
      "text/plain": [
       "Downloading:   0%|          | 0.00/134M [00:00<?, ?B/s]"
      ]
     },
     "metadata": {},
     "output_type": "display_data"
    },
    {
     "data": {
      "application/vnd.jupyter.widget-view+json": {
       "model_id": "9d0adc1f740c4f69bd698f50dfdf67d1",
       "version_major": 2,
       "version_minor": 0
      },
      "text/plain": [
       "Downloading:   0%|          | 0.00/53.0 [00:00<?, ?B/s]"
      ]
     },
     "metadata": {},
     "output_type": "display_data"
    },
    {
     "data": {
      "application/vnd.jupyter.widget-view+json": {
       "model_id": "f1eb73ff4d91449c9f94e6e6faa2ec8b",
       "version_major": 2,
       "version_minor": 0
      },
      "text/plain": [
       "Downloading:   0%|          | 0.00/112 [00:00<?, ?B/s]"
      ]
     },
     "metadata": {},
     "output_type": "display_data"
    },
    {
     "data": {
      "application/vnd.jupyter.widget-view+json": {
       "model_id": "d766015392204fcda71444427ac968e0",
       "version_major": 2,
       "version_minor": 0
      },
      "text/plain": [
       "Downloading:   0%|          | 0.00/466k [00:00<?, ?B/s]"
      ]
     },
     "metadata": {},
     "output_type": "display_data"
    },
    {
     "data": {
      "application/vnd.jupyter.widget-view+json": {
       "model_id": "b4bd479ae06140a0bc20faabdfbc7532",
       "version_major": 2,
       "version_minor": 0
      },
      "text/plain": [
       "Downloading:   0%|          | 0.00/352 [00:00<?, ?B/s]"
      ]
     },
     "metadata": {},
     "output_type": "display_data"
    },
    {
     "data": {
      "application/vnd.jupyter.widget-view+json": {
       "model_id": "2d15aff7d7234a00b40d21aef59d1267",
       "version_major": 2,
       "version_minor": 0
      },
      "text/plain": [
       "Downloading:   0%|          | 0.00/13.2k [00:00<?, ?B/s]"
      ]
     },
     "metadata": {},
     "output_type": "display_data"
    },
    {
     "data": {
      "application/vnd.jupyter.widget-view+json": {
       "model_id": "4ab7685bc1254455ac072a58c573b62d",
       "version_major": 2,
       "version_minor": 0
      },
      "text/plain": [
       "Downloading:   0%|          | 0.00/232k [00:00<?, ?B/s]"
      ]
     },
     "metadata": {},
     "output_type": "display_data"
    },
    {
     "data": {
      "application/vnd.jupyter.widget-view+json": {
       "model_id": "8f3c8fde03604a3b81eba7591bbfddfd",
       "version_major": 2,
       "version_minor": 0
      },
      "text/plain": [
       "Downloading:   0%|          | 0.00/190 [00:00<?, ?B/s]"
      ]
     },
     "metadata": {},
     "output_type": "display_data"
    },
    {
     "name": "stdout",
     "output_type": "stream",
     "text": [
      "Ignored unknown kwarg option direction\n"
     ]
    },
    {
     "data": {
      "text/plain": [
       "(30, 384)"
      ]
     },
     "execution_count": 16,
     "metadata": {},
     "output_type": "execute_result"
    }
   ],
   "source": [
    "from sentence_transformers import SentenceTransformer\n",
    "# initialize sentence transformer model\n",
    "model = SentenceTransformer('all-MiniLM-L12-v2')\n",
    "# create sentence embeddings\n",
    "sentence_embeddings = model.encode(phrases)\n",
    "sentence_embeddings.shape"
   ]
  },
  {
   "cell_type": "code",
   "execution_count": 10,
   "id": "f4d8e877",
   "metadata": {},
   "outputs": [
    {
     "data": {
      "text/plain": [
       "numpy.ndarray"
      ]
     },
     "execution_count": 10,
     "metadata": {},
     "output_type": "execute_result"
    }
   ],
   "source": [
    "type(sentence_embeddings[0])"
   ]
  },
  {
   "cell_type": "code",
   "execution_count": 17,
   "id": "f8f20b79",
   "metadata": {},
   "outputs": [
    {
     "name": "stdout",
     "output_type": "stream",
     "text": [
      "Vectors dimenstion is 384\n"
     ]
    }
   ],
   "source": [
    "dimension = sentence_embeddings.shape[1]\n",
    "print(\"Vectors dimenstion is {}\".format(str(dimension)))"
   ]
  },
  {
   "cell_type": "code",
   "execution_count": 18,
   "id": "f2724777",
   "metadata": {},
   "outputs": [
    {
     "data": {
      "text/plain": [
       "True"
      ]
     },
     "execution_count": 18,
     "metadata": {},
     "output_type": "execute_result"
    }
   ],
   "source": [
    "# Initiate Faiss index\n",
    "index = faiss.IndexFlatL2(dimension)\n",
    "index.is_trained"
   ]
  },
  {
   "cell_type": "code",
   "execution_count": 19,
   "id": "c5b5dc2e",
   "metadata": {},
   "outputs": [
    {
     "data": {
      "text/plain": [
       "30"
      ]
     },
     "execution_count": 19,
     "metadata": {},
     "output_type": "execute_result"
    }
   ],
   "source": [
    "index.add(sentence_embeddings)\n",
    "index.ntotal"
   ]
  },
  {
   "cell_type": "code",
   "execution_count": 20,
   "id": "b9385059",
   "metadata": {},
   "outputs": [
    {
     "name": "stdout",
     "output_type": "stream",
     "text": [
      "Ignored unknown kwarg option direction\n"
     ]
    }
   ],
   "source": [
    "vector_query = model.encode([\"leading team through example\"])"
   ]
  },
  {
   "cell_type": "code",
   "execution_count": 21,
   "id": "361345a2",
   "metadata": {},
   "outputs": [
    {
     "name": "stdout",
     "output_type": "stream",
     "text": [
      "[[0.8828541 0.9400553 0.9919175 1.0196805 1.033725 ]]\n",
      "[[24 21 22 27 23]]\n",
      "CPU times: user 6.8 ms, sys: 567 µs, total: 7.36 ms\n",
      "Wall time: 1.3 ms\n"
     ]
    }
   ],
   "source": [
    "%%time\n",
    "D, I = index.search(vector_query, 5)\n",
    "print(D)\n",
    "print(I)"
   ]
  },
  {
   "cell_type": "code",
   "execution_count": 22,
   "id": "431422af",
   "metadata": {},
   "outputs": [
    {
     "data": {
      "text/plain": [
       "numpy.ndarray"
      ]
     },
     "execution_count": 22,
     "metadata": {},
     "output_type": "execute_result"
    }
   ],
   "source": [
    "type(I)"
   ]
  },
  {
   "cell_type": "code",
   "execution_count": 26,
   "id": "e60a8077",
   "metadata": {},
   "outputs": [
    {
     "name": "stdout",
     "output_type": "stream",
     "text": [
      "experience managing teams\n",
      "leading through influence\n",
      "works with product development teams\n",
      "involve multiple stakeholder teams\n",
      "organization with demonstrated ability\n"
     ]
    }
   ],
   "source": [
    "for i in I[0]:\n",
    "    print(phrases[i])"
   ]
  },
  {
   "cell_type": "code",
   "execution_count": 24,
   "id": "389ccac0",
   "metadata": {},
   "outputs": [
    {
     "data": {
      "text/plain": [
       "array([24, 21, 22, 27, 23])"
      ]
     },
     "execution_count": 24,
     "metadata": {},
     "output_type": "execute_result"
    }
   ],
   "source": [
    "I[0]"
   ]
  },
  {
   "cell_type": "code",
   "execution_count": 28,
   "id": "3a4ed4df",
   "metadata": {},
   "outputs": [
    {
     "name": "stdout",
     "output_type": "stream",
     "text": [
      "False\n",
      "True\n"
     ]
    },
    {
     "name": "stderr",
     "output_type": "stream",
     "text": [
      "WARNING clustering 30 points to 3 centroids: please provide at least 117 training points\n"
     ]
    }
   ],
   "source": [
    "## Partition the Index into cells (or clusters)\n",
    "nlist = 3\n",
    "quantizer = faiss.IndexFlatL2(dimension)\n",
    "index = faiss.IndexIVFFlat(quantizer, dimension, nlist)\n",
    "print(index.is_trained)\n",
    "index.train(sentence_embeddings)\n",
    "print(index.is_trained)"
   ]
  },
  {
   "cell_type": "code",
   "execution_count": 29,
   "id": "3d290594",
   "metadata": {},
   "outputs": [
    {
     "data": {
      "text/plain": [
       "30"
      ]
     },
     "execution_count": 29,
     "metadata": {},
     "output_type": "execute_result"
    }
   ],
   "source": [
    "index.add(sentence_embeddings)\n",
    "index.ntotal"
   ]
  },
  {
   "cell_type": "code",
   "execution_count": 31,
   "id": "fb0b7b1a",
   "metadata": {},
   "outputs": [
    {
     "name": "stdout",
     "output_type": "stream",
     "text": [
      "[[24 21 22 27 23]]\n",
      "CPU times: user 5.02 ms, sys: 777 µs, total: 5.8 ms\n",
      "Wall time: 992 µs\n"
     ]
    }
   ],
   "source": [
    "%%time\n",
    "D, I = index.search(vector_query, 5)\n",
    "print(I)"
   ]
  },
  {
   "cell_type": "code",
   "execution_count": 60,
   "id": "88aec552",
   "metadata": {},
   "outputs": [
    {
     "name": "stderr",
     "output_type": "stream",
     "text": [
      "WARNING clustering 30 points to 4 centroids: please provide at least 156 training points\n",
      "WARNING clustering 30 points to 5 centroids: please provide at least 195 training points\n",
      "WARNING clustering 30 points to 6 centroids: please provide at least 234 training points\n",
      "WARNING clustering 30 points to 7 centroids: please provide at least 273 training points\n",
      "WARNING clustering 30 points to 8 centroids: please provide at least 312 training points\n",
      "WARNING clustering 30 points to 9 centroids: please provide at least 351 training points\n",
      "WARNING clustering 30 points to 10 centroids: please provide at least 390 training points\n",
      "WARNING clustering 30 points to 11 centroids: please provide at least 429 training points\n",
      "WARNING clustering 30 points to 12 centroids: please provide at least 468 training points\n",
      "WARNING clustering 30 points to 13 centroids: please provide at least 507 training points\n",
      "WARNING clustering 30 points to 14 centroids: please provide at least 546 training points\n",
      "WARNING clustering 30 points to 15 centroids: please provide at least 585 training points\n",
      "WARNING clustering 30 points to 16 centroids: please provide at least 624 training points\n",
      "WARNING clustering 30 points to 17 centroids: please provide at least 663 training points\n",
      "WARNING clustering 30 points to 18 centroids: please provide at least 702 training points\n",
      "WARNING clustering 30 points to 19 centroids: please provide at least 741 training points\n",
      "WARNING clustering 30 points to 20 centroids: please provide at least 780 training points\n",
      "WARNING clustering 30 points to 21 centroids: please provide at least 819 training points\n",
      "WARNING clustering 30 points to 22 centroids: please provide at least 858 training points\n",
      "WARNING clustering 30 points to 23 centroids: please provide at least 897 training points\n",
      "WARNING clustering 30 points to 24 centroids: please provide at least 936 training points\n",
      "WARNING clustering 30 points to 25 centroids: please provide at least 975 training points\n"
     ]
    }
   ],
   "source": [
    "MIN_N = 4\n",
    "MAX_N = 26\n",
    "\n",
    "#n_clusters = 20\n",
    "#n_init = 10\n",
    "#max_iter = 300\n",
    "\n",
    "kmeans_kwargs = {\n",
    "    \"d\": dimension,\n",
    "    \"nredo\": 10,\n",
    "    \"niter\": 300\n",
    "}\n",
    "\n",
    "sse = []\n",
    "for k in range(MIN_N,MAX_N):\n",
    "    kmeans = faiss.Kmeans(k = k, **kmeans_kwargs)\n",
    "    kmeans.train(sentence_embeddings.astype(np.float32))\n",
    "    sse.append(kmeans.obj[-1])"
   ]
  },
  {
   "cell_type": "code",
   "execution_count": 61,
   "id": "f9e207d4",
   "metadata": {},
   "outputs": [
    {
     "data": {
      "image/png": "[encoded data removed]",
      "text/plain": [
       "<Figure size 432x288 with 1 Axes>"
      ]
     },
     "metadata": {},
     "output_type": "display_data"
    }
   ],
   "source": [
    "plt.style.use(\"fivethirtyeight\")\n",
    "plt.plot(range(MIN_N,MAX_N), sse)\n",
    "plt.xticks(range(MIN_N,MAX_N))\n",
    "plt.xlabel(\"Number of Clusters\")\n",
    "plt.ylabel(\"SSE\")\n",
    "plt.show()"
   ]
  },
  {
   "cell_type": "code",
   "execution_count": 47,
   "id": "e28778e6",
   "metadata": {},
   "outputs": [
    {
     "name": "stdout",
     "output_type": "stream",
     "text": [
      "2\n",
      "[[0.7216257]]\n"
     ]
    }
   ],
   "source": [
    "D, I = kmeans.index.search(vector_query, 1)\n",
    "print(I[0][0])\n",
    "print(D)"
   ]
  },
  {
   "cell_type": "code",
   "execution_count": 66,
   "id": "b91f681a",
   "metadata": {},
   "outputs": [],
   "source": [
    "from remove_stop_words import remove"
   ]
  },
  {
   "cell_type": "code",
   "execution_count": 67,
   "id": "70028eb9",
   "metadata": {},
   "outputs": [
    {
     "name": "stdout",
     "output_type": "stream",
     "text": [
      "like Amazon\n"
     ]
    }
   ],
   "source": [
    "print(remove(\"She like Amazon\"))"
   ]
  },
  {
   "cell_type": "code",
   "execution_count": 85,
   "id": "cf931b5e",
   "metadata": {
    "scrolled": true
   },
   "outputs": [
    {
     "name": "stdout",
     "output_type": "stream",
     "text": [
      "Ignored unknown kwarg option direction\n"
     ]
    },
    {
     "data": {
      "text/plain": [
       "numpy.ndarray"
      ]
     },
     "execution_count": 85,
     "metadata": {},
     "output_type": "execute_result"
    }
   ],
   "source": [
    "vector_query = model.encode([\"require by law and covid\"])\n",
    "type(vector_query)"
   ]
  },
  {
   "cell_type": "code",
   "execution_count": 50,
   "id": "aa8a2ad6",
   "metadata": {},
   "outputs": [
    {
     "name": "stdout",
     "output_type": "stream",
     "text": [
      "Ignored unknown kwarg option direction\n",
      "Experience developing product roadmaps --- 0\n",
      "Ignored unknown kwarg option direction\n",
      "developing new capabilities --- 0\n",
      "Ignored unknown kwarg option direction\n",
      "develop creative solutions --- 0\n",
      "Ignored unknown kwarg option direction\n",
      "build new capabilities --- 0\n",
      "Ignored unknown kwarg option direction\n",
      "overcome complex systems integration challenges --- 0\n",
      "Ignored unknown kwarg option direction\n",
      "overcome complex systems integration --- 0\n",
      "Ignored unknown kwarg option direction\n",
      "power of emerging technologies --- 0\n",
      "Ignored unknown kwarg option direction\n",
      "principles to developing marketing technology solutions --- 0\n",
      "Ignored unknown kwarg option direction\n",
      "principles to developing marketing technology --- 0\n",
      "Ignored unknown kwarg option direction\n",
      "incorporate key technologies --- 0\n",
      "Ignored unknown kwarg option direction\n",
      "protected by law --- 2\n",
      "Ignored unknown kwarg option direction\n",
      "participate in certain work --- 1\n",
      "Ignored unknown kwarg option direction\n",
      "vaccinated against COVID-19 --- 2\n",
      "Ignored unknown kwarg option direction\n",
      "adoption within identified segments --- 0\n",
      "Ignored unknown kwarg option direction\n",
      "work -related activities --- 1\n",
      "Ignored unknown kwarg option direction\n",
      "protected under applicable law --- 2\n",
      "Ignored unknown kwarg option direction\n",
      "serves through programs --- 0\n",
      "Ignored unknown kwarg option direction\n",
      "responsibility for setting individual --- 1\n",
      "Ignored unknown kwarg option direction\n",
      "given current COVID19 restrictions --- 2\n",
      "Ignored unknown kwarg option direction\n",
      "depending on COVID-19 related restrictions --- 2\n",
      "Ignored unknown kwarg option direction\n",
      "working across global markets --- 1\n",
      "Ignored unknown kwarg option direction\n",
      "leading through influence --- 1\n",
      "Ignored unknown kwarg option direction\n",
      "works with product development teams --- 0\n",
      "Ignored unknown kwarg option direction\n",
      "organization with demonstrated ability --- 0\n",
      "Ignored unknown kwarg option direction\n",
      "experience managing teams --- 1\n",
      "Ignored unknown kwarg option direction\n",
      "working with relevant stakeholders --- 1\n",
      "Ignored unknown kwarg option direction\n",
      "working with technology --- 0\n",
      "Ignored unknown kwarg option direction\n",
      "involve multiple stakeholder teams --- 0\n",
      "Ignored unknown kwarg option direction\n",
      "experience leading project --- 1\n",
      "Ignored unknown kwarg option direction\n",
      "individual manages people --- 1\n"
     ]
    }
   ],
   "source": [
    "for p in phrases:\n",
    "    ## Compute the phrase vector\n",
    "    q = model.encode([p])\n",
    "    _, I = kmeans.index.search(q, 1)\n",
    "    print(\"{} --- {}\".format(p, str(I[0][0])))"
   ]
  },
  {
   "cell_type": "code",
   "execution_count": 68,
   "id": "39496351",
   "metadata": {},
   "outputs": [],
   "source": [
    "df = pd.read_csv(\"../data/verb_noun_phrases.csv\")"
   ]
  },
  {
   "cell_type": "code",
   "execution_count": 72,
   "id": "ca62c3ca",
   "metadata": {},
   "outputs": [
    {
     "data": {
      "text/html": [
       "<div>\n",
       "<style scoped>\n",
       "    .dataframe tbody tr th:only-of-type {\n",
       "        vertical-align: middle;\n",
       "    }\n",
       "\n",
       "    .dataframe tbody tr th {\n",
       "        vertical-align: top;\n",
       "    }\n",
       "\n",
       "    .dataframe thead th {\n",
       "        text-align: right;\n",
       "    }\n",
       "</style>\n",
       "<table border=\"1\" class=\"dataframe\">\n",
       "  <thead>\n",
       "    <tr style=\"text-align: right;\">\n",
       "      <th></th>\n",
       "      <th>Phrases</th>\n",
       "    </tr>\n",
       "  </thead>\n",
       "  <tbody>\n",
       "    <tr>\n",
       "      <th>0</th>\n",
       "      <td>leads cross-functional teams</td>\n",
       "    </tr>\n",
       "    <tr>\n",
       "      <th>1</th>\n",
       "      <td>Manages overall product health</td>\n",
       "    </tr>\n",
       "    <tr>\n",
       "      <th>2</th>\n",
       "      <td>achieve broad adoption</td>\n",
       "    </tr>\n",
       "    <tr>\n",
       "      <th>3</th>\n",
       "      <td>protected by law</td>\n",
       "    </tr>\n",
       "    <tr>\n",
       "      <th>4</th>\n",
       "      <td>working across global markets</td>\n",
       "    </tr>\n",
       "    <tr>\n",
       "      <th>...</th>\n",
       "      <td>...</td>\n",
       "    </tr>\n",
       "    <tr>\n",
       "      <th>668</th>\n",
       "      <td>incorporated into analytic approaches</td>\n",
       "    </tr>\n",
       "    <tr>\n",
       "      <th>669</th>\n",
       "      <td>experience accessing data</td>\n",
       "    </tr>\n",
       "    <tr>\n",
       "      <th>670</th>\n",
       "      <td>experience using programming</td>\n",
       "    </tr>\n",
       "    <tr>\n",
       "      <th>671</th>\n",
       "      <td>scale distributed computing environments</td>\n",
       "    </tr>\n",
       "    <tr>\n",
       "      <th>672</th>\n",
       "      <td>problems using TensorFlow</td>\n",
       "    </tr>\n",
       "  </tbody>\n",
       "</table>\n",
       "<p>673 rows × 1 columns</p>\n",
       "</div>"
      ],
      "text/plain": [
       "                                      Phrases\n",
       "0                leads cross-functional teams\n",
       "1              Manages overall product health\n",
       "2                      achieve broad adoption\n",
       "3                            protected by law\n",
       "4               working across global markets\n",
       "..                                        ...\n",
       "668     incorporated into analytic approaches\n",
       "669                 experience accessing data\n",
       "670              experience using programming\n",
       "671  scale distributed computing environments\n",
       "672                 problems using TensorFlow\n",
       "\n",
       "[673 rows x 1 columns]"
      ]
     },
     "execution_count": 72,
     "metadata": {},
     "output_type": "execute_result"
    }
   ],
   "source": [
    "df"
   ]
  },
  {
   "cell_type": "code",
   "execution_count": 80,
   "id": "4d666ae1",
   "metadata": {},
   "outputs": [
    {
     "name": "stdout",
     "output_type": "stream",
     "text": [
      "Ignored unknown kwarg option direction\n",
      "Ignored unknown kwarg option direction\n",
      "Ignored unknown kwarg option direction\n",
      "Ignored unknown kwarg option direction\n",
      "Ignored unknown kwarg option direction\n",
      "Ignored unknown kwarg option direction\n",
      "Ignored unknown kwarg option direction\n",
      "Ignored unknown kwarg option direction\n",
      "Ignored unknown kwarg option direction\n",
      "Ignored unknown kwarg option direction\n",
      "Ignored unknown kwarg option direction\n",
      "Ignored unknown kwarg option direction\n",
      "Ignored unknown kwarg option direction\n",
      "Ignored unknown kwarg option direction\n",
      "Ignored unknown kwarg option direction\n",
      "Ignored unknown kwarg option direction\n",
      "Ignored unknown kwarg option direction\n",
      "Ignored unknown kwarg option direction\n",
      "Ignored unknown kwarg option direction\n",
      "Ignored unknown kwarg option direction\n",
      "Ignored unknown kwarg option direction\n",
      "Ignored unknown kwarg option direction\n"
     ]
    },
    {
     "data": {
      "text/plain": [
       "(673, 384)"
      ]
     },
     "execution_count": 80,
     "metadata": {},
     "output_type": "execute_result"
    }
   ],
   "source": [
    "vectorized_phrases = model.encode([p for p in df[\"Phrases\"]])\n",
    "vectorized_phrases.shape"
   ]
  },
  {
   "cell_type": "code",
   "execution_count": 100,
   "id": "8d1129da",
   "metadata": {},
   "outputs": [
    {
     "data": {
      "text/html": [
       "<div>\n",
       "<style scoped>\n",
       "    .dataframe tbody tr th:only-of-type {\n",
       "        vertical-align: middle;\n",
       "    }\n",
       "\n",
       "    .dataframe tbody tr th {\n",
       "        vertical-align: top;\n",
       "    }\n",
       "\n",
       "    .dataframe thead th {\n",
       "        text-align: right;\n",
       "    }\n",
       "</style>\n",
       "<table border=\"1\" class=\"dataframe\">\n",
       "  <thead>\n",
       "    <tr style=\"text-align: right;\">\n",
       "      <th></th>\n",
       "      <th>Phrases</th>\n",
       "      <th>vectors</th>\n",
       "      <th>Vectors</th>\n",
       "    </tr>\n",
       "  </thead>\n",
       "  <tbody>\n",
       "    <tr>\n",
       "      <th>0</th>\n",
       "      <td>leads cross-functional teams</td>\n",
       "      <td>[-0.03018447, -0.033869676, -0.050169475, -0.0...</td>\n",
       "      <td>[-0.03018447, -0.033869676, -0.050169475, -0.0...</td>\n",
       "    </tr>\n",
       "    <tr>\n",
       "      <th>1</th>\n",
       "      <td>Manages overall product health</td>\n",
       "      <td>[-0.060903586, 0.0024004246, 0.028241606, -0.0...</td>\n",
       "      <td>[-0.060903586, 0.0024004246, 0.028241606, -0.0...</td>\n",
       "    </tr>\n",
       "    <tr>\n",
       "      <th>2</th>\n",
       "      <td>achieve broad adoption</td>\n",
       "      <td>[0.0071686516, -0.035724785, 0.022013795, -0.0...</td>\n",
       "      <td>[0.0071686516, -0.035724785, 0.022013795, -0.0...</td>\n",
       "    </tr>\n",
       "    <tr>\n",
       "      <th>3</th>\n",
       "      <td>protected by law</td>\n",
       "      <td>[0.005880476, 0.09795321, -0.059121605, -0.035...</td>\n",
       "      <td>[0.005880476, 0.09795321, -0.059121605, -0.035...</td>\n",
       "    </tr>\n",
       "    <tr>\n",
       "      <th>4</th>\n",
       "      <td>working across global markets</td>\n",
       "      <td>[0.026870374, -0.035063125, -0.007222106, -0.0...</td>\n",
       "      <td>[0.026870374, -0.035063125, -0.007222106, -0.0...</td>\n",
       "    </tr>\n",
       "  </tbody>\n",
       "</table>\n",
       "</div>"
      ],
      "text/plain": [
       "                          Phrases  \\\n",
       "0    leads cross-functional teams   \n",
       "1  Manages overall product health   \n",
       "2          achieve broad adoption   \n",
       "3                protected by law   \n",
       "4   working across global markets   \n",
       "\n",
       "                                             vectors  \\\n",
       "0  [-0.03018447, -0.033869676, -0.050169475, -0.0...   \n",
       "1  [-0.060903586, 0.0024004246, 0.028241606, -0.0...   \n",
       "2  [0.0071686516, -0.035724785, 0.022013795, -0.0...   \n",
       "3  [0.005880476, 0.09795321, -0.059121605, -0.035...   \n",
       "4  [0.026870374, -0.035063125, -0.007222106, -0.0...   \n",
       "\n",
       "                                             Vectors  \n",
       "0  [-0.03018447, -0.033869676, -0.050169475, -0.0...  \n",
       "1  [-0.060903586, 0.0024004246, 0.028241606, -0.0...  \n",
       "2  [0.0071686516, -0.035724785, 0.022013795, -0.0...  \n",
       "3  [0.005880476, 0.09795321, -0.059121605, -0.035...  \n",
       "4  [0.026870374, -0.035063125, -0.007222106, -0.0...  "
      ]
     },
     "execution_count": 100,
     "metadata": {},
     "output_type": "execute_result"
    }
   ],
   "source": [
    "lv = list(vectorized_phrases)\n",
    "df[\"Vectors\"] = lv\n",
    "df.head()"
   ]
  },
  {
   "cell_type": "code",
   "execution_count": 81,
   "id": "8e28c73f",
   "metadata": {},
   "outputs": [
    {
     "name": "stderr",
     "output_type": "stream",
     "text": [
      "WARNING clustering 673 points to 18 centroids: please provide at least 702 training points\n",
      "WARNING clustering 673 points to 19 centroids: please provide at least 741 training points\n",
      "WARNING clustering 673 points to 20 centroids: please provide at least 780 training points\n",
      "WARNING clustering 673 points to 21 centroids: please provide at least 819 training points\n",
      "WARNING clustering 673 points to 22 centroids: please provide at least 858 training points\n",
      "WARNING clustering 673 points to 23 centroids: please provide at least 897 training points\n",
      "WARNING clustering 673 points to 24 centroids: please provide at least 936 training points\n",
      "WARNING clustering 673 points to 25 centroids: please provide at least 975 training points\n"
     ]
    }
   ],
   "source": [
    "MIN_N = 4\n",
    "MAX_N = 26\n",
    "\n",
    "#n_clusters = 20\n",
    "#n_init = 10\n",
    "#max_iter = 300\n",
    "\n",
    "kmeans_kwargs = {\n",
    "    \"d\": vectorized_phrases.shape[1],\n",
    "    \"nredo\": 10,\n",
    "    \"niter\": 300\n",
    "}\n",
    "\n",
    "sse = []\n",
    "for k in range(MIN_N,MAX_N):\n",
    "    kmeans = faiss.Kmeans(k = k, **kmeans_kwargs)\n",
    "    kmeans.train(vectorized_phrases.astype(np.float32))\n",
    "    sse.append(kmeans.obj[-1])"
   ]
  },
  {
   "cell_type": "code",
   "execution_count": 83,
   "id": "fc0de38c",
   "metadata": {},
   "outputs": [
    {
     "data": {
      "image/png": "[encoded data removed]",
      "text/plain": [
       "<Figure size 1080x720 with 1 Axes>"
      ]
     },
     "metadata": {},
     "output_type": "display_data"
    }
   ],
   "source": [
    "plt.style.use(\"fivethirtyeight\")\n",
    "plt.figure(figsize=(15,10))\n",
    "plt.plot(range(MIN_N,MAX_N), sse)\n",
    "plt.xticks(range(MIN_N,MAX_N))\n",
    "plt.xlabel(\"Number of Clusters\")\n",
    "plt.ylabel(\"SSE\")\n",
    "plt.show()"
   ]
  },
  {
   "cell_type": "code",
   "execution_count": 90,
   "id": "32b45e50",
   "metadata": {},
   "outputs": [
    {
     "name": "stderr",
     "output_type": "stream",
     "text": [
      "WARNING clustering 673 points to 19 centroids: please provide at least 741 training points\n"
     ]
    },
    {
     "data": {
      "text/plain": [
       "True"
      ]
     },
     "execution_count": 90,
     "metadata": {},
     "output_type": "execute_result"
    }
   ],
   "source": [
    "kmeans = faiss.Kmeans(k = 19, **kmeans_kwargs)\n",
    "kmeans.train(vectorized_phrases.astype(np.float32))\n",
    "kmeans.index.is_trained"
   ]
  },
  {
   "cell_type": "code",
   "execution_count": 112,
   "id": "803f767b",
   "metadata": {},
   "outputs": [],
   "source": [
    "def phrase_cluster(text):\n",
    "\n",
    "    ## the phrase is string\n",
    "    if type(text) == str:\n",
    "        q = model.encode([text])\n",
    "        print(q)\n",
    "    else:\n",
    "        q = text\n",
    "        \n",
    "    ## Find the cluster assoicate with the phrase\n",
    "    _, I = kmeans.index.search(q, 1)\n",
    "    \n",
    "    return I[0][0]\n"
   ]
  },
  {
   "cell_type": "code",
   "execution_count": 117,
   "id": "9d9f8cee",
   "metadata": {},
   "outputs": [
    {
     "name": "stdout",
     "output_type": "stream",
     "text": [
      "[[-3.01844701e-02 -3.38696763e-02 -5.01694754e-02 -4.99247126e-02\n",
      "   1.07682084e-04  2.88850106e-02 -2.43756585e-02 -3.48585024e-02\n",
      "   3.43238041e-02 -6.81840926e-02 -6.98046312e-02 -2.81668194e-02\n",
      "   5.99267799e-03 -7.26923533e-03  9.56788138e-02 -4.99622785e-02\n",
      "  -2.57882345e-02 -4.00707033e-03 -1.82630401e-02 -5.13645634e-02\n",
      "  -3.91720086e-02 -1.04999058e-02 -1.66784450e-02 -6.61786944e-02\n",
      "   3.78903723e-03 -5.89902587e-02 -1.11598168e-02  3.27357650e-03\n",
      "  -1.29699036e-02 -1.10203415e-01 -1.49750877e-02 -6.18758872e-02\n",
      "  -1.23429680e-02 -1.01607991e-02  2.24123113e-02  1.02868296e-01\n",
      "  -6.17692620e-02 -1.05512915e-02 -3.18709202e-02 -3.35947089e-02\n",
      "   1.54521957e-03 -2.24306230e-02  8.77290592e-03 -2.51967963e-02\n",
      "  -7.08214939e-02 -8.79410654e-02 -5.47903180e-02  7.87791610e-03\n",
      "  -6.07332587e-02 -4.08924941e-04 -2.43393537e-02 -5.83818629e-02\n",
      "   1.25129884e-02 -2.33102846e-03  2.23648679e-02  6.89595789e-02\n",
      "   8.13064575e-02  4.29755747e-02  3.04725878e-02  3.99162509e-02\n",
      "  -1.08691705e-02  2.86842622e-02 -2.91032065e-02 -4.62391824e-02\n",
      "   4.03281488e-02 -9.50021148e-02 -5.23892678e-02  1.74832102e-02\n",
      "  -6.34036288e-02 -5.54480888e-02 -3.64590548e-02 -5.47945537e-02\n",
      "  -8.98172483e-02 -5.16520403e-02  8.10869709e-02  7.34700114e-02\n",
      "   4.10051905e-02 -2.27943268e-02  6.63687885e-02 -6.24628626e-02\n",
      "   6.89117089e-02 -4.79718344e-03 -3.26743051e-02  6.01441227e-02\n",
      "   7.08411783e-02  7.82983974e-02  2.35468964e-03  2.45400649e-02\n",
      "   3.95963639e-02  5.50058205e-03  1.13093504e-03  5.34202605e-02\n",
      "   4.91877049e-02 -5.56912981e-02 -1.52356662e-02  5.19743860e-02\n",
      "  -2.41319630e-02 -6.44067153e-02 -4.49468121e-02  1.61630973e-01\n",
      "   2.24044137e-02  5.25872186e-02  5.80066554e-02 -5.27807884e-03\n",
      "  -3.51981679e-03 -4.09992523e-02  5.48932739e-02  6.12282790e-02\n",
      "  -1.23825958e-02 -8.81108362e-03 -5.07850153e-03  2.01219171e-02\n",
      "  -9.29951221e-02 -9.15792361e-02 -2.13264469e-02 -9.84325819e-03\n",
      "  -6.65839985e-02 -2.30656266e-02  6.36306778e-02 -7.41406456e-02\n",
      "   6.54945672e-02  7.87214711e-02  3.01544834e-03 -3.98963988e-02\n",
      "   7.12590441e-02  5.26766554e-02 -5.23204170e-02  1.45680765e-02\n",
      "   4.67226617e-02 -6.07564226e-02  7.04518110e-02  8.88399631e-02\n",
      "   5.77517133e-03 -2.40008850e-02  4.01986502e-02 -1.49262734e-02\n",
      "  -5.88429943e-02  1.64792698e-03  1.66001525e-02  1.09463498e-01\n",
      "   7.82200247e-02 -4.04225662e-02  6.79164752e-02  8.82689189e-03\n",
      "  -1.04721278e-01  2.30731070e-02 -5.82859218e-02 -3.84027604e-03\n",
      "   1.48569588e-02  9.45936237e-03 -5.11642657e-02  3.78197432e-02\n",
      "   3.14129740e-02 -2.91382615e-02 -3.57094109e-02  1.87790412e-02\n",
      "   4.25269864e-02 -2.78049279e-02 -3.57686020e-02  4.50454745e-03\n",
      "   2.33336575e-02  1.03828870e-01 -2.86254678e-02  3.19414336e-04\n",
      "   6.53328821e-02 -3.33165079e-02  3.44766416e-02  1.57265607e-02\n",
      "  -1.12415694e-01  2.72562206e-02  5.78245707e-03 -9.96535495e-02\n",
      "   7.55297765e-03 -7.49950390e-03 -4.22719568e-02  3.25911306e-03\n",
      "   1.94653356e-03 -3.48466747e-02  2.82718372e-02 -3.94407362e-02\n",
      "   8.27717930e-02 -6.29867762e-02  6.80760667e-02 -3.62678766e-02\n",
      "   1.00302026e-01  9.84426513e-02  1.20563321e-02  1.27136370e-03\n",
      "   2.07519159e-02  5.91808334e-02 -2.76882332e-02  1.29020005e-01\n",
      "  -1.16441846e-02  4.53427508e-02  8.56876746e-02  2.28594579e-02\n",
      "   1.02203012e-01 -6.90113977e-02 -1.52330548e-02  5.00895083e-02\n",
      "  -5.01788482e-02  4.72449213e-02 -4.13305499e-02  2.77147163e-02\n",
      "  -7.92643279e-02  3.38985510e-02  3.49727646e-02 -6.20901510e-02\n",
      "   5.42714596e-02 -1.84877834e-03 -6.12706393e-02  8.30580387e-03\n",
      "   1.07761973e-03  1.75108928e-02 -2.40678601e-02 -1.63370967e-02\n",
      "   8.59601237e-03  1.27811030e-01 -6.17594048e-02  2.10446063e-02\n",
      "   3.02018877e-03  5.30858412e-02 -6.34371117e-02  8.23637759e-34\n",
      "  -4.53928933e-02  7.17979893e-02  1.33150861e-01  3.44099775e-02\n",
      "   1.60168018e-02 -8.26402530e-02  3.75132412e-02 -3.74554284e-02\n",
      "   2.69965138e-02  7.55122453e-02  2.27791332e-02 -8.88344795e-02\n",
      "   9.83810704e-03 -1.50332730e-02 -1.95857380e-02 -3.99919450e-02\n",
      "   3.62935513e-02 -4.40912433e-02 -7.39041790e-02 -2.73300172e-03\n",
      "   2.64260042e-02  1.00724891e-01 -4.37288396e-02  4.80276272e-02\n",
      "  -6.46807849e-02  3.94768268e-02  5.95391132e-02 -1.09080359e-01\n",
      "  -3.23705524e-02  3.48048136e-02 -5.62827615e-03 -6.35228008e-02\n",
      "   1.05886701e-02  2.74584759e-02  8.36199336e-03  6.36225343e-02\n",
      "  -8.74031782e-02  7.15781050e-03 -4.15489636e-02 -9.47109703e-03\n",
      "   2.44171377e-02 -3.28955315e-02 -6.21316247e-02  7.28056803e-02\n",
      "   2.00695414e-02  7.69506171e-02 -3.95859890e-02 -7.10793063e-02\n",
      "  -6.76976964e-02 -2.08688620e-02 -4.37282138e-02  9.73188281e-02\n",
      "  -3.93301323e-02 -1.14372954e-01 -1.47451591e-02  2.23996267e-02\n",
      "  -1.99037232e-02 -6.48872703e-02  3.43792699e-02  1.53225306e-02\n",
      "   4.10013646e-02 -8.92491117e-02  7.04543591e-02  7.93586820e-02\n",
      "   1.39615461e-02  2.49049198e-02  5.00094742e-02 -6.55886834e-04\n",
      "   3.57746147e-02  4.32206765e-02  4.91310693e-02 -3.27851507e-03\n",
      "  -3.82732451e-02 -2.38487404e-02 -3.46964300e-02 -3.04311663e-02\n",
      "  -2.15828009e-02  1.88134443e-02 -2.06621718e-02  8.21417496e-02\n",
      "  -8.43336247e-03 -3.15529085e-03 -1.17610916e-02  1.19301610e-01\n",
      "   3.06750368e-02  3.07551865e-02  4.44843359e-02  3.18677202e-02\n",
      "  -2.91892067e-02 -4.72156890e-02  6.64013484e-03 -6.73793778e-02\n",
      "   5.77704683e-02 -3.21345218e-02  4.87486385e-02  2.93244022e-32\n",
      "   3.71663272e-02 -6.19215425e-03 -8.62354636e-02 -2.17019059e-02\n",
      "  -5.85263688e-03  1.26723321e-02 -2.30695829e-02 -9.94484499e-02\n",
      "   6.53438568e-02  8.57779235e-02  2.75016837e-02  1.77012105e-02\n",
      "   3.71283591e-02 -1.94975771e-02  9.85805616e-02 -3.13713551e-02\n",
      "  -1.01143941e-01  9.15553868e-02 -1.90573800e-02 -2.94991229e-02\n",
      "   1.12382518e-02  4.39346619e-02 -1.06981412e-01 -7.47272372e-03\n",
      "  -9.10310727e-03 -3.82477753e-02 -8.01407993e-02 -4.93503883e-02\n",
      "  -3.18591334e-02 -5.53787732e-03 -7.79186413e-02 -2.33873501e-02\n",
      "  -2.12452579e-02 -3.62838507e-02  7.22042024e-02 -8.57828092e-03\n",
      "  -1.35425385e-02 -2.93811411e-02 -1.81694534e-02  3.23861241e-02\n",
      "  -5.25884070e-02  3.48361842e-02 -3.63709591e-02  2.38095988e-02\n",
      "   5.02431951e-03  3.61221358e-02 -4.33337800e-02  1.90566841e-03\n",
      "  -4.80460413e-02  1.10683939e-03 -6.69555739e-02 -7.95735139e-03\n",
      "  -8.00281316e-02  1.56257097e-02  1.33571087e-03  6.38770983e-02\n",
      "  -1.40749998e-02 -6.49575051e-03 -1.34276748e-02  1.83061918e-03\n",
      "  -2.22291201e-02 -1.88429132e-02  1.45592213e-01  4.67817746e-02]]\n"
     ]
    }
   ],
   "source": [
    "print(vectorized_phrases[:1])"
   ]
  },
  {
   "cell_type": "code",
   "execution_count": 127,
   "id": "137c7307",
   "metadata": {},
   "outputs": [
    {
     "data": {
      "text/plain": [
       "array([[-6.09035864e-02,  2.40042456e-03,  2.82416064e-02,\n",
       "        -8.44644196e-03,  4.21605110e-02,  1.33952694e-02,\n",
       "         8.04270506e-02, -2.72191456e-03, -8.80761221e-02,\n",
       "        -5.77760078e-02,  9.86451581e-02,  4.16600285e-03,\n",
       "        -3.12899053e-02, -1.11787496e-02, -1.63373556e-02,\n",
       "        -3.43125276e-02,  1.01219751e-01, -3.62907015e-02,\n",
       "         4.20418894e-03, -2.47074831e-02,  1.60753615e-02,\n",
       "        -2.17761938e-02,  4.69819307e-02, -6.40586764e-03,\n",
       "        -4.62509133e-02,  5.82236126e-02, -1.52029777e-02,\n",
       "        -2.06166171e-02,  1.43095839e-03, -3.82853337e-02,\n",
       "        -1.24042258e-01, -2.04349346e-02,  5.26629314e-02,\n",
       "         2.37904042e-02, -3.08334827e-02,  2.40538754e-02,\n",
       "        -3.69842560e-03, -5.95597327e-02, -5.17583154e-02,\n",
       "        -1.21569075e-02, -4.20120871e-03,  1.14257457e-02,\n",
       "        -2.74303481e-02, -3.90231088e-02, -2.47461814e-03,\n",
       "        -4.30614986e-02,  2.61400938e-02, -5.31816706e-02,\n",
       "         1.03577310e-02,  3.71518321e-02, -1.51023855e-02,\n",
       "        -4.56387438e-02,  3.70705537e-02, -8.01237952e-03,\n",
       "         1.67524628e-02,  3.85278799e-02, -6.93921670e-02,\n",
       "         7.39067234e-03, -2.45223362e-02,  4.37902957e-02,\n",
       "         6.48320168e-02, -3.32029052e-02, -1.27021205e-02,\n",
       "        -3.98899503e-02,  9.06734318e-02, -5.08222729e-02,\n",
       "        -4.70121726e-02, -2.08828342e-03, -5.54056987e-02,\n",
       "        -1.02172811e-02, -6.04055822e-02, -7.79094771e-02,\n",
       "         8.16313084e-03,  2.92050932e-02, -1.72095653e-02,\n",
       "         4.17381153e-02,  6.88368967e-03,  1.43236024e-02,\n",
       "         5.54192811e-02, -2.04846580e-02,  1.16030425e-01,\n",
       "         1.05072828e-02,  9.94379818e-02,  4.51644473e-02,\n",
       "        -4.49581668e-02,  3.97534221e-02,  2.31581595e-04,\n",
       "        -4.39464524e-02,  2.68772207e-02,  9.50905532e-02,\n",
       "         2.78028697e-02, -1.87452808e-02,  2.60956921e-02,\n",
       "        -6.19147792e-02,  5.13013415e-02,  5.50683215e-02,\n",
       "        -2.01152917e-02, -1.04302846e-01,  1.78280715e-02,\n",
       "         1.30455315e-01, -2.82758772e-02, -1.93725398e-03,\n",
       "         4.69010770e-02, -1.24965616e-01, -5.21309674e-02,\n",
       "         3.67577076e-02, -1.18591618e-02,  1.06319800e-01,\n",
       "         3.99868079e-02,  9.65540931e-02, -6.54764548e-02,\n",
       "         2.48989575e-02, -5.73274083e-02, -4.86700125e-02,\n",
       "        -5.58967004e-03,  3.41730528e-02, -1.92313679e-02,\n",
       "         3.48278545e-02,  2.65775397e-02,  2.87464983e-03,\n",
       "        -3.37547958e-02,  6.40879199e-02,  8.48125145e-02,\n",
       "         2.08662543e-02,  6.65995851e-02,  2.81395596e-02,\n",
       "         3.77045125e-02, -3.59867699e-02, -6.22769725e-03,\n",
       "        -6.01749029e-03,  5.32090738e-02, -1.21881021e-02,\n",
       "        -1.79482754e-02,  2.21750680e-02, -6.47115558e-02,\n",
       "        -5.06293215e-03,  8.31366777e-02, -6.68421679e-04,\n",
       "         2.51289643e-02,  5.63202873e-02, -9.30776726e-03,\n",
       "        -4.13080957e-03,  7.69237429e-02, -3.43093313e-02,\n",
       "        -7.16257766e-02,  8.37505609e-02, -2.54043657e-02,\n",
       "        -1.16048090e-01, -2.74268072e-02, -5.31616993e-02,\n",
       "         2.70343162e-02,  8.54867548e-02,  9.08749178e-03,\n",
       "         3.45307700e-02, -2.63456777e-02,  4.03983109e-02,\n",
       "         4.66500446e-02, -4.26919386e-02,  3.64911603e-03,\n",
       "        -4.56114206e-03, -9.24282428e-03, -6.23267554e-02,\n",
       "        -4.52857185e-03,  1.38207721e-02, -1.15958393e-01,\n",
       "        -7.21605401e-03, -1.72406668e-03,  1.69646181e-02,\n",
       "        -9.57112294e-03, -7.84230381e-02,  9.15696621e-02,\n",
       "         4.98477966e-02,  2.95429281e-03, -1.45421345e-02,\n",
       "        -4.35204692e-02,  1.59459375e-02, -3.31965014e-02,\n",
       "        -2.43847016e-02, -8.69167224e-02, -3.56347188e-02,\n",
       "         1.08968452e-01, -3.27746868e-02, -2.35439017e-02,\n",
       "        -1.90444216e-02,  4.09887768e-02, -6.91121295e-02,\n",
       "         2.21915208e-02,  2.05271393e-02, -5.37606329e-02,\n",
       "         7.49610141e-02, -5.88605590e-02, -2.29233969e-02,\n",
       "        -2.08293721e-02,  4.47379723e-02,  1.87139269e-02,\n",
       "        -2.31702104e-02,  4.65191714e-03,  7.53517821e-02,\n",
       "         3.55245769e-02,  4.64321114e-02, -6.07374832e-02,\n",
       "         3.46893594e-02, -2.20048800e-02, -2.77033523e-02,\n",
       "        -4.80304379e-03,  1.14937266e-02, -9.43631530e-02,\n",
       "        -1.82606149e-02,  4.27813008e-02, -2.29201559e-03,\n",
       "         1.69245005e-02,  2.95089614e-02,  3.29499617e-02,\n",
       "        -4.87339101e-04,  8.16539861e-03,  3.99604663e-02,\n",
       "         4.99314861e-03,  5.96778616e-02, -1.21456757e-01,\n",
       "         4.40011658e-02,  1.94343310e-02,  9.83735174e-02,\n",
       "        -4.15655263e-02,  3.90655601e-33,  1.23951063e-02,\n",
       "        -8.91944114e-03,  1.26966275e-03,  5.19597977e-02,\n",
       "        -5.18290848e-02, -7.22460300e-02, -5.85119650e-02,\n",
       "         5.65648861e-02,  5.34086414e-02,  4.35106307e-02,\n",
       "         7.33655021e-02,  1.76710077e-02, -5.17524108e-02,\n",
       "        -3.14003341e-02, -4.13331538e-02,  1.53190158e-02,\n",
       "         1.41520137e-02, -1.00942068e-01,  8.18283670e-03,\n",
       "        -2.49087065e-02,  2.04608287e-03,  8.73605087e-02,\n",
       "         1.45147583e-02,  8.94465968e-02, -1.14662588e-01,\n",
       "         7.75639787e-02, -6.52089715e-02, -8.07442889e-03,\n",
       "         1.71388593e-02, -8.22855905e-02, -4.53627519e-02,\n",
       "        -4.61612232e-02, -1.09170983e-02,  9.51759592e-02,\n",
       "        -1.13345496e-02, -6.79482073e-02, -1.79229472e-02,\n",
       "        -4.20078412e-02, -4.05659825e-02, -1.97559148e-02,\n",
       "         1.48480445e-01, -1.30769459e-03, -2.43746992e-02,\n",
       "         6.12044260e-02,  5.53838611e-02, -4.04419713e-02,\n",
       "         2.93523557e-02, -9.67868939e-02, -2.95246262e-02,\n",
       "        -2.99268235e-02, -1.56240212e-02, -2.18433812e-02,\n",
       "        -8.80174525e-03,  2.42736246e-02, -2.01429427e-02,\n",
       "         6.58142641e-02,  3.89049063e-04, -1.67662352e-02,\n",
       "        -5.49173914e-02, -7.27976933e-02,  4.56263125e-02,\n",
       "         6.86218962e-02,  1.44841447e-02,  9.36687589e-02,\n",
       "        -7.69124106e-02,  2.98400931e-02,  1.10287763e-01,\n",
       "         3.56789120e-03,  8.99938270e-02, -8.02443102e-02,\n",
       "        -5.09056561e-02,  8.16048495e-03, -1.00672208e-01,\n",
       "        -7.27341473e-02, -3.06197014e-02, -2.96607297e-02,\n",
       "        -1.58772524e-02, -5.45977540e-02, -9.41395760e-02,\n",
       "         4.94079553e-02, -4.63403389e-02, -1.82089414e-02,\n",
       "        -2.36383490e-02,  4.01016884e-02, -2.52133440e-02,\n",
       "        -6.03894927e-02,  8.23319517e-03, -6.92792013e-02,\n",
       "         3.41428593e-02,  7.89278075e-02, -4.60340418e-02,\n",
       "        -1.05007493e-03, -7.56217837e-02, -4.22921702e-02,\n",
       "         3.59674245e-02,  2.76314788e-32,  1.07105197e-02,\n",
       "        -4.54681814e-02,  7.60764210e-03, -7.66815543e-02,\n",
       "         8.57714191e-03, -5.41175157e-02, -1.92451570e-02,\n",
       "         4.55155484e-02,  3.75581235e-02,  7.45817125e-02,\n",
       "        -8.92179385e-02,  5.89348236e-03, -4.99919802e-02,\n",
       "        -2.75262352e-03, -3.89688723e-02, -3.64457965e-02,\n",
       "        -5.70212826e-02,  9.16348398e-02, -4.98217391e-03,\n",
       "         3.29320855e-03,  4.54592817e-02,  7.63871744e-02,\n",
       "         6.47637695e-02, -1.87776145e-02, -2.63745431e-02,\n",
       "        -4.53305021e-02,  2.96389628e-02, -4.50812913e-02,\n",
       "         3.71454284e-02,  2.90715154e-02,  8.46279934e-02,\n",
       "        -3.05651017e-02,  9.12802070e-02,  8.26431066e-03,\n",
       "         2.44622324e-02, -8.92166123e-02, -1.45988502e-02,\n",
       "         1.27741396e-01,  2.55562887e-02,  1.07070664e-02,\n",
       "        -7.76138380e-02,  1.52175993e-01, -1.59358066e-02,\n",
       "         2.04647519e-02,  2.65083816e-02, -5.54263368e-02,\n",
       "         1.65945366e-02, -9.42075276e-04,  6.53238036e-03,\n",
       "        -4.95291092e-02, -1.06753670e-02, -1.37838535e-02,\n",
       "        -5.09983208e-03,  6.00202233e-02, -6.92124069e-02,\n",
       "         2.50217300e-02,  9.26891435e-03, -1.85524288e-03,\n",
       "         3.46758664e-02, -5.77080771e-02,  2.74522137e-02,\n",
       "        -1.28834844e-01,  8.63848925e-02,  4.35336232e-02]], dtype=float32)"
      ]
     },
     "execution_count": 127,
     "metadata": {},
     "output_type": "execute_result"
    }
   ],
   "source": [
    "np.array([vectorized_phrases[1]])"
   ]
  },
  {
   "cell_type": "code",
   "execution_count": 134,
   "id": "732b418e",
   "metadata": {},
   "outputs": [],
   "source": [
    "df[\"Clusters\"] = df[\"Vectors\"].apply(lambda c: phrase_cluster(np.array([c])))"
   ]
  },
  {
   "cell_type": "code",
   "execution_count": 138,
   "id": "282f114e",
   "metadata": {},
   "outputs": [
    {
     "data": {
      "text/html": [
       "<div>\n",
       "<style scoped>\n",
       "    .dataframe tbody tr th:only-of-type {\n",
       "        vertical-align: middle;\n",
       "    }\n",
       "\n",
       "    .dataframe tbody tr th {\n",
       "        vertical-align: top;\n",
       "    }\n",
       "\n",
       "    .dataframe thead th {\n",
       "        text-align: right;\n",
       "    }\n",
       "</style>\n",
       "<table border=\"1\" class=\"dataframe\">\n",
       "  <thead>\n",
       "    <tr style=\"text-align: right;\">\n",
       "      <th></th>\n",
       "      <th>Phrases</th>\n",
       "      <th>Vectors</th>\n",
       "      <th>Clusters</th>\n",
       "    </tr>\n",
       "  </thead>\n",
       "  <tbody>\n",
       "    <tr>\n",
       "      <th>0</th>\n",
       "      <td>leads cross-functional teams</td>\n",
       "      <td>[-0.03018447, -0.033869676, -0.050169475, -0.0...</td>\n",
       "      <td>7</td>\n",
       "    </tr>\n",
       "    <tr>\n",
       "      <th>1</th>\n",
       "      <td>Manages overall product health</td>\n",
       "      <td>[-0.060903586, 0.0024004246, 0.028241606, -0.0...</td>\n",
       "      <td>0</td>\n",
       "    </tr>\n",
       "    <tr>\n",
       "      <th>2</th>\n",
       "      <td>achieve broad adoption</td>\n",
       "      <td>[0.0071686516, -0.035724785, 0.022013795, -0.0...</td>\n",
       "      <td>16</td>\n",
       "    </tr>\n",
       "    <tr>\n",
       "      <th>3</th>\n",
       "      <td>protected by law</td>\n",
       "      <td>[0.005880476, 0.09795321, -0.059121605, -0.035...</td>\n",
       "      <td>6</td>\n",
       "    </tr>\n",
       "    <tr>\n",
       "      <th>4</th>\n",
       "      <td>working across global markets</td>\n",
       "      <td>[0.026870374, -0.035063125, -0.007222106, -0.0...</td>\n",
       "      <td>6</td>\n",
       "    </tr>\n",
       "  </tbody>\n",
       "</table>\n",
       "</div>"
      ],
      "text/plain": [
       "                          Phrases  \\\n",
       "0    leads cross-functional teams   \n",
       "1  Manages overall product health   \n",
       "2          achieve broad adoption   \n",
       "3                protected by law   \n",
       "4   working across global markets   \n",
       "\n",
       "                                             Vectors  Clusters  \n",
       "0  [-0.03018447, -0.033869676, -0.050169475, -0.0...         7  \n",
       "1  [-0.060903586, 0.0024004246, 0.028241606, -0.0...         0  \n",
       "2  [0.0071686516, -0.035724785, 0.022013795, -0.0...        16  \n",
       "3  [0.005880476, 0.09795321, -0.059121605, -0.035...         6  \n",
       "4  [0.026870374, -0.035063125, -0.007222106, -0.0...         6  "
      ]
     },
     "execution_count": 138,
     "metadata": {},
     "output_type": "execute_result"
    }
   ],
   "source": [
    "df = df.drop(columns=[\"vectors\"])\n",
    "df.head()"
   ]
  },
  {
   "cell_type": "code",
   "execution_count": 141,
   "id": "29365cee",
   "metadata": {},
   "outputs": [],
   "source": [
    "cluster_list = np.array([c for c in df[\"Clusters\"]])"
   ]
  },
  {
   "cell_type": "code",
   "execution_count": 156,
   "id": "4a0d6d99",
   "metadata": {},
   "outputs": [
    {
     "data": {
      "image/png": "[encoded data removed]",
      "text/plain": [
       "<Figure size 1080x720 with 1 Axes>"
      ]
     },
     "metadata": {},
     "output_type": "display_data"
    }
   ],
   "source": [
    "plt.figure(figsize=(15,10))\n",
    "plt.hist(cluster_list, bins=range(21),ec=\"red\",alpha=0.7,  align='mid')\n",
    "plt.xticks(range(21))\n",
    "plt.show()"
   ]
  },
  {
   "cell_type": "code",
   "execution_count": 157,
   "id": "d14c6702",
   "metadata": {},
   "outputs": [],
   "source": [
    "dfc = df.groupby([\"Clusters\"])"
   ]
  },
  {
   "cell_type": "code",
   "execution_count": 159,
   "id": "ea3e2f89",
   "metadata": {},
   "outputs": [
    {
     "data": {
      "text/html": [
       "<div>\n",
       "<style scoped>\n",
       "    .dataframe tbody tr th:only-of-type {\n",
       "        vertical-align: middle;\n",
       "    }\n",
       "\n",
       "    .dataframe tbody tr th {\n",
       "        vertical-align: top;\n",
       "    }\n",
       "\n",
       "    .dataframe thead th {\n",
       "        text-align: right;\n",
       "    }\n",
       "</style>\n",
       "<table border=\"1\" class=\"dataframe\">\n",
       "  <thead>\n",
       "    <tr style=\"text-align: right;\">\n",
       "      <th></th>\n",
       "      <th>Phrases</th>\n",
       "      <th>Vectors</th>\n",
       "      <th>Clusters</th>\n",
       "    </tr>\n",
       "  </thead>\n",
       "  <tbody>\n",
       "    <tr>\n",
       "      <th>1</th>\n",
       "      <td>Manages overall product health</td>\n",
       "      <td>[-0.060903586, 0.0024004246, 0.028241606, -0.0...</td>\n",
       "      <td>0</td>\n",
       "    </tr>\n",
       "    <tr>\n",
       "      <th>8</th>\n",
       "      <td>writing comprehensive product epics</td>\n",
       "      <td>[-0.115708224, -0.031953033, 0.07900626, -0.04...</td>\n",
       "      <td>0</td>\n",
       "    </tr>\n",
       "    <tr>\n",
       "      <th>12</th>\n",
       "      <td>works with product development</td>\n",
       "      <td>[-0.1094693, 0.00775779, 0.054126505, -0.04093...</td>\n",
       "      <td>0</td>\n",
       "    </tr>\n",
       "    <tr>\n",
       "      <th>16</th>\n",
       "      <td>Experience developing product roadmaps</td>\n",
       "      <td>[-0.033489704, -0.083294995, 0.022879334, 0.00...</td>\n",
       "      <td>0</td>\n",
       "    </tr>\n",
       "    <tr>\n",
       "      <th>46</th>\n",
       "      <td>bugs of assigned products</td>\n",
       "      <td>[-0.07492019, -0.05118036, 0.032809064, 0.0098...</td>\n",
       "      <td>0</td>\n",
       "    </tr>\n",
       "    <tr>\n",
       "      <th>48</th>\n",
       "      <td>plans of assigned products</td>\n",
       "      <td>[-0.061229795, -0.022720244, -0.010536698, -0....</td>\n",
       "      <td>0</td>\n",
       "    </tr>\n",
       "    <tr>\n",
       "      <th>66</th>\n",
       "      <td>products in consulting projects</td>\n",
       "      <td>[-0.037009813, -0.009407767, -0.0002593226, 0....</td>\n",
       "      <td>0</td>\n",
       "    </tr>\n",
       "    <tr>\n",
       "      <th>84</th>\n",
       "      <td>related to product development</td>\n",
       "      <td>[-0.098073855, 0.06665912, 0.010557784, -0.028...</td>\n",
       "      <td>0</td>\n",
       "    </tr>\n",
       "    <tr>\n",
       "      <th>89</th>\n",
       "      <td>products with satisfying user experiences</td>\n",
       "      <td>[-0.048511196, -0.00701578, 0.035485495, 0.035...</td>\n",
       "      <td>0</td>\n",
       "    </tr>\n",
       "    <tr>\n",
       "      <th>93</th>\n",
       "      <td>excitement for seeing software products</td>\n",
       "      <td>[-0.09432446, -0.010877746, 0.053646192, -0.03...</td>\n",
       "      <td>0</td>\n",
       "    </tr>\n",
       "    <tr>\n",
       "      <th>97</th>\n",
       "      <td>evaluate potential new product opportunities</td>\n",
       "      <td>[-0.05376556, -0.07424108, -0.02484118, -0.009...</td>\n",
       "      <td>0</td>\n",
       "    </tr>\n",
       "    <tr>\n",
       "      <th>98</th>\n",
       "      <td>Leads new product introduction process</td>\n",
       "      <td>[-0.07280171, -0.11058045, -0.0235165, -0.0372...</td>\n",
       "      <td>0</td>\n",
       "    </tr>\n",
       "    <tr>\n",
       "      <th>100</th>\n",
       "      <td>Leads new product introduction</td>\n",
       "      <td>[-0.07699505, -0.1197418, -0.017876888, -0.010...</td>\n",
       "      <td>0</td>\n",
       "    </tr>\n",
       "    <tr>\n",
       "      <th>101</th>\n",
       "      <td>monitoring key component lifecycles</td>\n",
       "      <td>[-0.12937853, -7.206731e-05, -0.010231759, -0....</td>\n",
       "      <td>0</td>\n",
       "    </tr>\n",
       "    <tr>\n",
       "      <th>106</th>\n",
       "      <td>finance on establishing product</td>\n",
       "      <td>[-0.015408948, -0.019490458, -0.07029256, -0.0...</td>\n",
       "      <td>0</td>\n",
       "    </tr>\n",
       "    <tr>\n",
       "      <th>119</th>\n",
       "      <td>defining future product direction</td>\n",
       "      <td>[-0.03893435, -7.640567e-05, -0.022621173, -0....</td>\n",
       "      <td>0</td>\n",
       "    </tr>\n",
       "    <tr>\n",
       "      <th>166</th>\n",
       "      <td>diagnose monthly product performance metrics</td>\n",
       "      <td>[-0.061658323, -0.08291832, -0.094394036, -0.0...</td>\n",
       "      <td>0</td>\n",
       "    </tr>\n",
       "    <tr>\n",
       "      <th>171</th>\n",
       "      <td>diagnose monthly product performance</td>\n",
       "      <td>[-0.069713496, -0.06767281, -0.089751236, 0.00...</td>\n",
       "      <td>0</td>\n",
       "    </tr>\n",
       "    <tr>\n",
       "      <th>192</th>\n",
       "      <td>developing new products</td>\n",
       "      <td>[-0.10322996, -0.07599679, 0.018675668, -0.020...</td>\n",
       "      <td>0</td>\n",
       "    </tr>\n",
       "    <tr>\n",
       "      <th>201</th>\n",
       "      <td>communicate new product development</td>\n",
       "      <td>[-0.093362, -0.05990021, 0.011836646, -0.08137...</td>\n",
       "      <td>0</td>\n",
       "    </tr>\n",
       "    <tr>\n",
       "      <th>202</th>\n",
       "      <td>delivering new software products</td>\n",
       "      <td>[-0.090940215, -0.11512401, 0.03791238, -0.072...</td>\n",
       "      <td>0</td>\n",
       "    </tr>\n",
       "    <tr>\n",
       "      <th>210</th>\n",
       "      <td>manage multiple products</td>\n",
       "      <td>[0.0009944503, -0.013927313, -0.013879455, -0....</td>\n",
       "      <td>0</td>\n",
       "    </tr>\n",
       "    <tr>\n",
       "      <th>497</th>\n",
       "      <td>celebrate diverse products</td>\n",
       "      <td>[-0.01513363, 0.07848429, 0.042999413, -0.0855...</td>\n",
       "      <td>0</td>\n",
       "    </tr>\n",
       "    <tr>\n",
       "      <th>605</th>\n",
       "      <td>contributing to product codebases</td>\n",
       "      <td>[-0.04163377, -0.10011957, 0.018012496, -0.055...</td>\n",
       "      <td>0</td>\n",
       "    </tr>\n",
       "  </tbody>\n",
       "</table>\n",
       "</div>"
      ],
      "text/plain": [
       "                                          Phrases  \\\n",
       "1                  Manages overall product health   \n",
       "8             writing comprehensive product epics   \n",
       "12                 works with product development   \n",
       "16         Experience developing product roadmaps   \n",
       "46                      bugs of assigned products   \n",
       "48                     plans of assigned products   \n",
       "66                products in consulting projects   \n",
       "84                 related to product development   \n",
       "89      products with satisfying user experiences   \n",
       "93        excitement for seeing software products   \n",
       "97   evaluate potential new product opportunities   \n",
       "98         Leads new product introduction process   \n",
       "100                Leads new product introduction   \n",
       "101           monitoring key component lifecycles   \n",
       "106               finance on establishing product   \n",
       "119             defining future product direction   \n",
       "166  diagnose monthly product performance metrics   \n",
       "171          diagnose monthly product performance   \n",
       "192                       developing new products   \n",
       "201           communicate new product development   \n",
       "202              delivering new software products   \n",
       "210                      manage multiple products   \n",
       "497                    celebrate diverse products   \n",
       "605             contributing to product codebases   \n",
       "\n",
       "                                               Vectors  Clusters  \n",
       "1    [-0.060903586, 0.0024004246, 0.028241606, -0.0...         0  \n",
       "8    [-0.115708224, -0.031953033, 0.07900626, -0.04...         0  \n",
       "12   [-0.1094693, 0.00775779, 0.054126505, -0.04093...         0  \n",
       "16   [-0.033489704, -0.083294995, 0.022879334, 0.00...         0  \n",
       "46   [-0.07492019, -0.05118036, 0.032809064, 0.0098...         0  \n",
       "48   [-0.061229795, -0.022720244, -0.010536698, -0....         0  \n",
       "66   [-0.037009813, -0.009407767, -0.0002593226, 0....         0  \n",
       "84   [-0.098073855, 0.06665912, 0.010557784, -0.028...         0  \n",
       "89   [-0.048511196, -0.00701578, 0.035485495, 0.035...         0  \n",
       "93   [-0.09432446, -0.010877746, 0.053646192, -0.03...         0  \n",
       "97   [-0.05376556, -0.07424108, -0.02484118, -0.009...         0  \n",
       "98   [-0.07280171, -0.11058045, -0.0235165, -0.0372...         0  \n",
       "100  [-0.07699505, -0.1197418, -0.017876888, -0.010...         0  \n",
       "101  [-0.12937853, -7.206731e-05, -0.010231759, -0....         0  \n",
       "106  [-0.015408948, -0.019490458, -0.07029256, -0.0...         0  \n",
       "119  [-0.03893435, -7.640567e-05, -0.022621173, -0....         0  \n",
       "166  [-0.061658323, -0.08291832, -0.094394036, -0.0...         0  \n",
       "171  [-0.069713496, -0.06767281, -0.089751236, 0.00...         0  \n",
       "192  [-0.10322996, -0.07599679, 0.018675668, -0.020...         0  \n",
       "201  [-0.093362, -0.05990021, 0.011836646, -0.08137...         0  \n",
       "202  [-0.090940215, -0.11512401, 0.03791238, -0.072...         0  \n",
       "210  [0.0009944503, -0.013927313, -0.013879455, -0....         0  \n",
       "497  [-0.01513363, 0.07848429, 0.042999413, -0.0855...         0  \n",
       "605  [-0.04163377, -0.10011957, 0.018012496, -0.055...         0  "
      ]
     },
     "execution_count": 159,
     "metadata": {},
     "output_type": "execute_result"
    }
   ],
   "source": [
    "dfc.get_group(0)"
   ]
  },
  {
   "cell_type": "code",
   "execution_count": 160,
   "id": "aed6ffe9",
   "metadata": {},
   "outputs": [
    {
     "data": {
      "text/html": [
       "<div>\n",
       "<style scoped>\n",
       "    .dataframe tbody tr th:only-of-type {\n",
       "        vertical-align: middle;\n",
       "    }\n",
       "\n",
       "    .dataframe tbody tr th {\n",
       "        vertical-align: top;\n",
       "    }\n",
       "\n",
       "    .dataframe thead th {\n",
       "        text-align: right;\n",
       "    }\n",
       "</style>\n",
       "<table border=\"1\" class=\"dataframe\">\n",
       "  <thead>\n",
       "    <tr style=\"text-align: right;\">\n",
       "      <th></th>\n",
       "      <th>Phrases</th>\n",
       "      <th>Vectors</th>\n",
       "      <th>Clusters</th>\n",
       "    </tr>\n",
       "  </thead>\n",
       "  <tbody>\n",
       "    <tr>\n",
       "      <th>41</th>\n",
       "      <td>experience leading project</td>\n",
       "      <td>[0.004391328, -0.041653875, -0.016577872, -0.0...</td>\n",
       "      <td>1</td>\n",
       "    </tr>\n",
       "    <tr>\n",
       "      <th>43</th>\n",
       "      <td>experience in executing world</td>\n",
       "      <td>[-0.0006217085, 0.03524395, -0.0433087, -0.045...</td>\n",
       "      <td>1</td>\n",
       "    </tr>\n",
       "    <tr>\n",
       "      <th>45</th>\n",
       "      <td>Experience providing guidance</td>\n",
       "      <td>[0.050198846, -0.012382353, -0.013040883, 0.04...</td>\n",
       "      <td>1</td>\n",
       "    </tr>\n",
       "    <tr>\n",
       "      <th>55</th>\n",
       "      <td>combined with solid business experience</td>\n",
       "      <td>[0.061225712, 0.07978893, 0.0006501018, 0.0274...</td>\n",
       "      <td>1</td>\n",
       "    </tr>\n",
       "    <tr>\n",
       "      <th>70</th>\n",
       "      <td>hone current skills</td>\n",
       "      <td>[-0.014360291, 0.029374905, 0.013937197, -0.02...</td>\n",
       "      <td>1</td>\n",
       "    </tr>\n",
       "    <tr>\n",
       "      <th>76</th>\n",
       "      <td>related additional experience</td>\n",
       "      <td>[-0.016887784, 0.021289146, 0.020106016, 0.047...</td>\n",
       "      <td>1</td>\n",
       "    </tr>\n",
       "    <tr>\n",
       "      <th>105</th>\n",
       "      <td>Experience in managed services</td>\n",
       "      <td>[-0.004770808, -0.0036775107, -0.069597654, 0....</td>\n",
       "      <td>1</td>\n",
       "    </tr>\n",
       "    <tr>\n",
       "      <th>138</th>\n",
       "      <td>continuing professional development</td>\n",
       "      <td>[-0.024672322, 0.023226442, 0.023119442, 0.016...</td>\n",
       "      <td>1</td>\n",
       "    </tr>\n",
       "    <tr>\n",
       "      <th>172</th>\n",
       "      <td>spoken English communication skills</td>\n",
       "      <td>[0.01498508, -0.00801283, -0.023818573, -0.029...</td>\n",
       "      <td>1</td>\n",
       "    </tr>\n",
       "    <tr>\n",
       "      <th>184</th>\n",
       "      <td>sales by conducting training</td>\n",
       "      <td>[0.02899663, -0.027799593, -0.03936539, 0.0129...</td>\n",
       "      <td>1</td>\n",
       "    </tr>\n",
       "    <tr>\n",
       "      <th>198</th>\n",
       "      <td>rely on experience</td>\n",
       "      <td>[-0.022723662, -0.0023869406, -0.05730609, -0....</td>\n",
       "      <td>1</td>\n",
       "    </tr>\n",
       "    <tr>\n",
       "      <th>203</th>\n",
       "      <td>Requires excellent skills</td>\n",
       "      <td>[-0.057890244, 0.03507887, 0.025157962, -0.056...</td>\n",
       "      <td>1</td>\n",
       "    </tr>\n",
       "    <tr>\n",
       "      <th>232</th>\n",
       "      <td>have good experience</td>\n",
       "      <td>[0.0024353233, -0.010613457, 0.013260967, 0.05...</td>\n",
       "      <td>1</td>\n",
       "    </tr>\n",
       "    <tr>\n",
       "      <th>254</th>\n",
       "      <td>related to practice area</td>\n",
       "      <td>[0.08866846, 0.091936216, -0.018741863, 0.0350...</td>\n",
       "      <td>1</td>\n",
       "    </tr>\n",
       "    <tr>\n",
       "      <th>279</th>\n",
       "      <td>skills with good interpersonal skills</td>\n",
       "      <td>[0.012935263, -0.008010398, 0.016899357, -0.00...</td>\n",
       "      <td>1</td>\n",
       "    </tr>\n",
       "    <tr>\n",
       "      <th>302</th>\n",
       "      <td>adapt to new skills</td>\n",
       "      <td>[-0.022035938, -0.05211648, 0.013666991, 0.040...</td>\n",
       "      <td>1</td>\n",
       "    </tr>\n",
       "    <tr>\n",
       "      <th>314</th>\n",
       "      <td>Provide specialized expertise</td>\n",
       "      <td>[0.02287948, 0.0047622807, 0.035708345, -0.045...</td>\n",
       "      <td>1</td>\n",
       "    </tr>\n",
       "    <tr>\n",
       "      <th>327</th>\n",
       "      <td>decision making skills</td>\n",
       "      <td>[0.05011638, 0.038230743, -0.04825464, 0.03903...</td>\n",
       "      <td>1</td>\n",
       "    </tr>\n",
       "    <tr>\n",
       "      <th>381</th>\n",
       "      <td>experience using industry</td>\n",
       "      <td>[-0.0018775953, -0.047948916, -0.07666379, -0....</td>\n",
       "      <td>1</td>\n",
       "    </tr>\n",
       "    <tr>\n",
       "      <th>387</th>\n",
       "      <td>skills including workflows</td>\n",
       "      <td>[0.028772626, 0.031967916, 0.014907686, -0.050...</td>\n",
       "      <td>1</td>\n",
       "    </tr>\n",
       "    <tr>\n",
       "      <th>409</th>\n",
       "      <td>experience delivering solutions</td>\n",
       "      <td>[-0.041912537, 0.0006925733, 0.025003042, 0.03...</td>\n",
       "      <td>1</td>\n",
       "    </tr>\n",
       "    <tr>\n",
       "      <th>419</th>\n",
       "      <td>limited to skill sets</td>\n",
       "      <td>[0.032476824, -0.06470693, 0.03735464, -0.0212...</td>\n",
       "      <td>1</td>\n",
       "    </tr>\n",
       "    <tr>\n",
       "      <th>433</th>\n",
       "      <td>experience in developing APIs</td>\n",
       "      <td>[-0.063075, -0.062701546, 0.005817884, 0.01356...</td>\n",
       "      <td>1</td>\n",
       "    </tr>\n",
       "    <tr>\n",
       "      <th>483</th>\n",
       "      <td>experience using SAS</td>\n",
       "      <td>[0.0047021126, -0.024267538, -0.15109713, 0.00...</td>\n",
       "      <td>1</td>\n",
       "    </tr>\n",
       "    <tr>\n",
       "      <th>493</th>\n",
       "      <td>related advanced degree</td>\n",
       "      <td>[0.020196572, 0.07573272, -0.011280677, 0.0370...</td>\n",
       "      <td>1</td>\n",
       "    </tr>\n",
       "    <tr>\n",
       "      <th>499</th>\n",
       "      <td>experience in related field</td>\n",
       "      <td>[0.042187296, 0.025366118, -0.06665102, 0.0437...</td>\n",
       "      <td>1</td>\n",
       "    </tr>\n",
       "    <tr>\n",
       "      <th>501</th>\n",
       "      <td>passion for solving problems</td>\n",
       "      <td>[0.029700786, 0.08996405, -0.016733188, -0.003...</td>\n",
       "      <td>1</td>\n",
       "    </tr>\n",
       "    <tr>\n",
       "      <th>543</th>\n",
       "      <td>have strong prioritization skills</td>\n",
       "      <td>[0.052760795, 0.028205423, -0.024548773, -0.10...</td>\n",
       "      <td>1</td>\n",
       "    </tr>\n",
       "    <tr>\n",
       "      <th>572</th>\n",
       "      <td>Experience developing machine learning</td>\n",
       "      <td>[-0.0350119, -0.110060826, -0.03231418, 0.0035...</td>\n",
       "      <td>1</td>\n",
       "    </tr>\n",
       "    <tr>\n",
       "      <th>574</th>\n",
       "      <td>Experience developing machine learning models</td>\n",
       "      <td>[-0.050464652, -0.111384176, -0.012305068, -0....</td>\n",
       "      <td>1</td>\n",
       "    </tr>\n",
       "    <tr>\n",
       "      <th>616</th>\n",
       "      <td>experience in developing algorithms</td>\n",
       "      <td>[-0.025808973, -0.04314041, -0.046393584, -0.0...</td>\n",
       "      <td>1</td>\n",
       "    </tr>\n",
       "    <tr>\n",
       "      <th>618</th>\n",
       "      <td>years of consulting experience</td>\n",
       "      <td>[-0.03225578, 0.027831001, 0.002889898, 0.0599...</td>\n",
       "      <td>1</td>\n",
       "    </tr>\n",
       "    <tr>\n",
       "      <th>619</th>\n",
       "      <td>Experience conducting Modeling</td>\n",
       "      <td>[-0.015566357, 0.02625748, -0.008969312, 0.005...</td>\n",
       "      <td>1</td>\n",
       "    </tr>\n",
       "    <tr>\n",
       "      <th>629</th>\n",
       "      <td>have advanced expertise</td>\n",
       "      <td>[0.027162334, -0.022632396, 0.014129383, -0.00...</td>\n",
       "      <td>1</td>\n",
       "    </tr>\n",
       "    <tr>\n",
       "      <th>638</th>\n",
       "      <td>implementation including training</td>\n",
       "      <td>[0.06386912, -0.03485915, -0.033395495, -0.008...</td>\n",
       "      <td>1</td>\n",
       "    </tr>\n",
       "    <tr>\n",
       "      <th>643</th>\n",
       "      <td>Provide expert level knowledge</td>\n",
       "      <td>[0.048913397, -0.030459303, 0.023404459, 0.004...</td>\n",
       "      <td>1</td>\n",
       "    </tr>\n",
       "    <tr>\n",
       "      <th>670</th>\n",
       "      <td>experience using programming</td>\n",
       "      <td>[0.034324788, -0.020486733, -0.054249838, 0.01...</td>\n",
       "      <td>1</td>\n",
       "    </tr>\n",
       "  </tbody>\n",
       "</table>\n",
       "</div>"
      ],
      "text/plain": [
       "                                           Phrases  \\\n",
       "41                      experience leading project   \n",
       "43                   experience in executing world   \n",
       "45                   Experience providing guidance   \n",
       "55         combined with solid business experience   \n",
       "70                             hone current skills   \n",
       "76                   related additional experience   \n",
       "105                 Experience in managed services   \n",
       "138            continuing professional development   \n",
       "172            spoken English communication skills   \n",
       "184                   sales by conducting training   \n",
       "198                             rely on experience   \n",
       "203                      Requires excellent skills   \n",
       "232                           have good experience   \n",
       "254                       related to practice area   \n",
       "279          skills with good interpersonal skills   \n",
       "302                            adapt to new skills   \n",
       "314                  Provide specialized expertise   \n",
       "327                         decision making skills   \n",
       "381                      experience using industry   \n",
       "387                     skills including workflows   \n",
       "409                experience delivering solutions   \n",
       "419                          limited to skill sets   \n",
       "433                  experience in developing APIs   \n",
       "483                           experience using SAS   \n",
       "493                        related advanced degree   \n",
       "499                    experience in related field   \n",
       "501                   passion for solving problems   \n",
       "543              have strong prioritization skills   \n",
       "572         Experience developing machine learning   \n",
       "574  Experience developing machine learning models   \n",
       "616            experience in developing algorithms   \n",
       "618                 years of consulting experience   \n",
       "619                 Experience conducting Modeling   \n",
       "629                        have advanced expertise   \n",
       "638              implementation including training   \n",
       "643                 Provide expert level knowledge   \n",
       "670                   experience using programming   \n",
       "\n",
       "                                               Vectors  Clusters  \n",
       "41   [0.004391328, -0.041653875, -0.016577872, -0.0...         1  \n",
       "43   [-0.0006217085, 0.03524395, -0.0433087, -0.045...         1  \n",
       "45   [0.050198846, -0.012382353, -0.013040883, 0.04...         1  \n",
       "55   [0.061225712, 0.07978893, 0.0006501018, 0.0274...         1  \n",
       "70   [-0.014360291, 0.029374905, 0.013937197, -0.02...         1  \n",
       "76   [-0.016887784, 0.021289146, 0.020106016, 0.047...         1  \n",
       "105  [-0.004770808, -0.0036775107, -0.069597654, 0....         1  \n",
       "138  [-0.024672322, 0.023226442, 0.023119442, 0.016...         1  \n",
       "172  [0.01498508, -0.00801283, -0.023818573, -0.029...         1  \n",
       "184  [0.02899663, -0.027799593, -0.03936539, 0.0129...         1  \n",
       "198  [-0.022723662, -0.0023869406, -0.05730609, -0....         1  \n",
       "203  [-0.057890244, 0.03507887, 0.025157962, -0.056...         1  \n",
       "232  [0.0024353233, -0.010613457, 0.013260967, 0.05...         1  \n",
       "254  [0.08866846, 0.091936216, -0.018741863, 0.0350...         1  \n",
       "279  [0.012935263, -0.008010398, 0.016899357, -0.00...         1  \n",
       "302  [-0.022035938, -0.05211648, 0.013666991, 0.040...         1  \n",
       "314  [0.02287948, 0.0047622807, 0.035708345, -0.045...         1  \n",
       "327  [0.05011638, 0.038230743, -0.04825464, 0.03903...         1  \n",
       "381  [-0.0018775953, -0.047948916, -0.07666379, -0....         1  \n",
       "387  [0.028772626, 0.031967916, 0.014907686, -0.050...         1  \n",
       "409  [-0.041912537, 0.0006925733, 0.025003042, 0.03...         1  \n",
       "419  [0.032476824, -0.06470693, 0.03735464, -0.0212...         1  \n",
       "433  [-0.063075, -0.062701546, 0.005817884, 0.01356...         1  \n",
       "483  [0.0047021126, -0.024267538, -0.15109713, 0.00...         1  \n",
       "493  [0.020196572, 0.07573272, -0.011280677, 0.0370...         1  \n",
       "499  [0.042187296, 0.025366118, -0.06665102, 0.0437...         1  \n",
       "501  [0.029700786, 0.08996405, -0.016733188, -0.003...         1  \n",
       "543  [0.052760795, 0.028205423, -0.024548773, -0.10...         1  \n",
       "572  [-0.0350119, -0.110060826, -0.03231418, 0.0035...         1  \n",
       "574  [-0.050464652, -0.111384176, -0.012305068, -0....         1  \n",
       "616  [-0.025808973, -0.04314041, -0.046393584, -0.0...         1  \n",
       "618  [-0.03225578, 0.027831001, 0.002889898, 0.0599...         1  \n",
       "619  [-0.015566357, 0.02625748, -0.008969312, 0.005...         1  \n",
       "629  [0.027162334, -0.022632396, 0.014129383, -0.00...         1  \n",
       "638  [0.06386912, -0.03485915, -0.033395495, -0.008...         1  \n",
       "643  [0.048913397, -0.030459303, 0.023404459, 0.004...         1  \n",
       "670  [0.034324788, -0.020486733, -0.054249838, 0.01...         1  "
      ]
     },
     "execution_count": 160,
     "metadata": {},
     "output_type": "execute_result"
    }
   ],
   "source": [
    "dfc.get_group(1)"
   ]
  },
  {
   "cell_type": "code",
   "execution_count": 161,
   "id": "91d75323",
   "metadata": {},
   "outputs": [
    {
     "data": {
      "text/html": [
       "<div>\n",
       "<style scoped>\n",
       "    .dataframe tbody tr th:only-of-type {\n",
       "        vertical-align: middle;\n",
       "    }\n",
       "\n",
       "    .dataframe tbody tr th {\n",
       "        vertical-align: top;\n",
       "    }\n",
       "\n",
       "    .dataframe thead th {\n",
       "        text-align: right;\n",
       "    }\n",
       "</style>\n",
       "<table border=\"1\" class=\"dataframe\">\n",
       "  <thead>\n",
       "    <tr style=\"text-align: right;\">\n",
       "      <th></th>\n",
       "      <th>Phrases</th>\n",
       "      <th>Vectors</th>\n",
       "      <th>Clusters</th>\n",
       "    </tr>\n",
       "  </thead>\n",
       "  <tbody>\n",
       "    <tr>\n",
       "      <th>10</th>\n",
       "      <td>has several safety protocols</td>\n",
       "      <td>[0.000977052, -0.01644071, -0.081349, -0.04346...</td>\n",
       "      <td>2</td>\n",
       "    </tr>\n",
       "    <tr>\n",
       "      <th>36</th>\n",
       "      <td>serves through programs</td>\n",
       "      <td>[-0.013939517, -0.010990855, -0.0075142384, -0...</td>\n",
       "      <td>2</td>\n",
       "    </tr>\n",
       "    <tr>\n",
       "      <th>42</th>\n",
       "      <td>years of demonstrated delivery</td>\n",
       "      <td>[-0.046778284, 0.016556667, 0.02819516, -0.026...</td>\n",
       "      <td>2</td>\n",
       "    </tr>\n",
       "    <tr>\n",
       "      <th>83</th>\n",
       "      <td>based on needs</td>\n",
       "      <td>[-0.050038937, 0.0004485121, -0.01601146, -0.0...</td>\n",
       "      <td>2</td>\n",
       "    </tr>\n",
       "    <tr>\n",
       "      <th>103</th>\n",
       "      <td>associated ongoing professional service offerings</td>\n",
       "      <td>[-0.081430204, -0.046180524, 0.027463306, 0.07...</td>\n",
       "      <td>2</td>\n",
       "    </tr>\n",
       "    <tr>\n",
       "      <th>132</th>\n",
       "      <td>Use excellent judgment</td>\n",
       "      <td>[-0.03683993, 0.015736327, -0.071946375, -0.00...</td>\n",
       "      <td>2</td>\n",
       "    </tr>\n",
       "    <tr>\n",
       "      <th>145</th>\n",
       "      <td>deliver against goals</td>\n",
       "      <td>[-0.025876181, 0.017453047, -0.13549373, -0.07...</td>\n",
       "      <td>2</td>\n",
       "    </tr>\n",
       "    <tr>\n",
       "      <th>151</th>\n",
       "      <td>ensuring appropriate coverage</td>\n",
       "      <td>[0.022889996, 0.053581964, -0.0020297086, -0.0...</td>\n",
       "      <td>2</td>\n",
       "    </tr>\n",
       "    <tr>\n",
       "      <th>180</th>\n",
       "      <td>portfolio of assigned services</td>\n",
       "      <td>[0.02201081, -0.05179888, -0.07127647, 6.15781...</td>\n",
       "      <td>2</td>\n",
       "    </tr>\n",
       "    <tr>\n",
       "      <th>181</th>\n",
       "      <td>offerings by leading go</td>\n",
       "      <td>[-0.04925932, -0.09627192, -0.040246367, -0.01...</td>\n",
       "      <td>2</td>\n",
       "    </tr>\n",
       "    <tr>\n",
       "      <th>183</th>\n",
       "      <td>success by providing solutions</td>\n",
       "      <td>[0.004426917, 0.027640292, 0.0023305237, -0.01...</td>\n",
       "      <td>2</td>\n",
       "    </tr>\n",
       "    <tr>\n",
       "      <th>186</th>\n",
       "      <td>solutions serving America</td>\n",
       "      <td>[-0.051151067, 0.017097183, 0.031633995, -0.01...</td>\n",
       "      <td>2</td>\n",
       "    </tr>\n",
       "    <tr>\n",
       "      <th>187</th>\n",
       "      <td>delivers real value</td>\n",
       "      <td>[-0.009783962, -0.026913423, -0.051396843, 0.0...</td>\n",
       "      <td>2</td>\n",
       "    </tr>\n",
       "    <tr>\n",
       "      <th>195</th>\n",
       "      <td>follow best practices</td>\n",
       "      <td>[0.054500587, -0.025069937, 0.01923041, -0.049...</td>\n",
       "      <td>2</td>\n",
       "    </tr>\n",
       "    <tr>\n",
       "      <th>217</th>\n",
       "      <td>ensure successful uptake</td>\n",
       "      <td>[-0.013767184, -0.016980954, -0.011176678, -0....</td>\n",
       "      <td>2</td>\n",
       "    </tr>\n",
       "    <tr>\n",
       "      <th>222</th>\n",
       "      <td>lives by making healthcare</td>\n",
       "      <td>[-0.021175405, 0.025697432, -0.055796627, -0.0...</td>\n",
       "      <td>2</td>\n",
       "    </tr>\n",
       "    <tr>\n",
       "      <th>225</th>\n",
       "      <td>burning natural gas service</td>\n",
       "      <td>[-0.020903135, -0.005971326, 0.01237345, 0.084...</td>\n",
       "      <td>2</td>\n",
       "    </tr>\n",
       "    <tr>\n",
       "      <th>255</th>\n",
       "      <td>ensuring best practices</td>\n",
       "      <td>[0.01985482, 0.016224114, 0.04345267, -0.05737...</td>\n",
       "      <td>2</td>\n",
       "    </tr>\n",
       "    <tr>\n",
       "      <th>280</th>\n",
       "      <td>delivering great service</td>\n",
       "      <td>[-0.063835725, -0.029410696, 0.058919895, -0.0...</td>\n",
       "      <td>2</td>\n",
       "    </tr>\n",
       "    <tr>\n",
       "      <th>298</th>\n",
       "      <td>delivering critical services</td>\n",
       "      <td>[-0.05604213, -0.03762092, 0.0354966, -0.02111...</td>\n",
       "      <td>2</td>\n",
       "    </tr>\n",
       "    <tr>\n",
       "      <th>305</th>\n",
       "      <td>delivering high quality software</td>\n",
       "      <td>[-0.062106684, -0.06770316, 0.06403738, -0.113...</td>\n",
       "      <td>2</td>\n",
       "    </tr>\n",
       "    <tr>\n",
       "      <th>308</th>\n",
       "      <td>providing best practices</td>\n",
       "      <td>[0.034290288, -0.010954716, 0.03803961, -0.043...</td>\n",
       "      <td>2</td>\n",
       "    </tr>\n",
       "    <tr>\n",
       "      <th>319</th>\n",
       "      <td>value added services</td>\n",
       "      <td>[-0.043834377, -0.08091341, -0.0118427435, 0.0...</td>\n",
       "      <td>2</td>\n",
       "    </tr>\n",
       "    <tr>\n",
       "      <th>326</th>\n",
       "      <td>service oriented attitude</td>\n",
       "      <td>[-0.068810925, -0.0203424, -0.0075543984, -0.0...</td>\n",
       "      <td>2</td>\n",
       "    </tr>\n",
       "    <tr>\n",
       "      <th>329</th>\n",
       "      <td>strategy supporting Safeway</td>\n",
       "      <td>[0.08402189, -0.04355655, -0.10126939, 0.02510...</td>\n",
       "      <td>2</td>\n",
       "    </tr>\n",
       "    <tr>\n",
       "      <th>331</th>\n",
       "      <td>delivering with excellence</td>\n",
       "      <td>[-0.008109873, 0.015033192, -0.0039865496, -0....</td>\n",
       "      <td>2</td>\n",
       "    </tr>\n",
       "    <tr>\n",
       "      <th>346</th>\n",
       "      <td>solutions follow established security</td>\n",
       "      <td>[-0.057935994, 0.09936294, -0.038083255, -0.04...</td>\n",
       "      <td>2</td>\n",
       "    </tr>\n",
       "    <tr>\n",
       "      <th>354</th>\n",
       "      <td>focus on delivery</td>\n",
       "      <td>[0.018180521, 0.0061569205, -0.017425293, -0.0...</td>\n",
       "      <td>2</td>\n",
       "    </tr>\n",
       "    <tr>\n",
       "      <th>384</th>\n",
       "      <td>practices by conducting POCs</td>\n",
       "      <td>[0.002884748, 0.08377151, -0.061889388, 0.0216...</td>\n",
       "      <td>2</td>\n",
       "    </tr>\n",
       "    <tr>\n",
       "      <th>390</th>\n",
       "      <td>ensure high quality delivery</td>\n",
       "      <td>[-0.031498108, -0.05047044, 0.04427106, -0.070...</td>\n",
       "      <td>2</td>\n",
       "    </tr>\n",
       "    <tr>\n",
       "      <th>395</th>\n",
       "      <td>shift from foundational delivery</td>\n",
       "      <td>[-0.03146621, 0.0074112196, 0.028976614, 0.006...</td>\n",
       "      <td>2</td>\n",
       "    </tr>\n",
       "    <tr>\n",
       "      <th>397</th>\n",
       "      <td>providing best practice</td>\n",
       "      <td>[0.039845366, 0.0072479686, 0.03901832, -0.045...</td>\n",
       "      <td>2</td>\n",
       "    </tr>\n",
       "    <tr>\n",
       "      <th>453</th>\n",
       "      <td>consider reasonable accommodations</td>\n",
       "      <td>[0.014952615, -0.0015216123, -0.015783565, 0.0...</td>\n",
       "      <td>2</td>\n",
       "    </tr>\n",
       "    <tr>\n",
       "      <th>476</th>\n",
       "      <td>working with health care</td>\n",
       "      <td>[-0.01724219, 0.036184438, -0.027564224, 0.013...</td>\n",
       "      <td>2</td>\n",
       "    </tr>\n",
       "    <tr>\n",
       "      <th>477</th>\n",
       "      <td>share best practices</td>\n",
       "      <td>[0.051364698, -0.061911117, -0.006026298, -0.0...</td>\n",
       "      <td>2</td>\n",
       "    </tr>\n",
       "    <tr>\n",
       "      <th>517</th>\n",
       "      <td>deliver outstanding results</td>\n",
       "      <td>[-0.0156004215, -0.012705018, -0.03186118, -0....</td>\n",
       "      <td>2</td>\n",
       "    </tr>\n",
       "    <tr>\n",
       "      <th>524</th>\n",
       "      <td>tap into valuable health care</td>\n",
       "      <td>[-0.007939866, 0.01857802, -0.01036153, -0.087...</td>\n",
       "      <td>2</td>\n",
       "    </tr>\n",
       "    <tr>\n",
       "      <th>538</th>\n",
       "      <td>pay for care</td>\n",
       "      <td>[-0.048011307, -0.009611607, 0.010681844, -0.0...</td>\n",
       "      <td>2</td>\n",
       "    </tr>\n",
       "    <tr>\n",
       "      <th>549</th>\n",
       "      <td>leveraging best practices</td>\n",
       "      <td>[-0.006366605, -0.03932169, 0.04772778, -0.076...</td>\n",
       "      <td>2</td>\n",
       "    </tr>\n",
       "    <tr>\n",
       "      <th>550</th>\n",
       "      <td>lead healthier lives</td>\n",
       "      <td>[-0.032232232, -0.026111817, -0.013632324, 0.0...</td>\n",
       "      <td>2</td>\n",
       "    </tr>\n",
       "    <tr>\n",
       "      <th>562</th>\n",
       "      <td>Prior professional services</td>\n",
       "      <td>[-0.10044733, -0.0012652726, -0.018691076, 0.0...</td>\n",
       "      <td>2</td>\n",
       "    </tr>\n",
       "  </tbody>\n",
       "</table>\n",
       "</div>"
      ],
      "text/plain": [
       "                                               Phrases  \\\n",
       "10                        has several safety protocols   \n",
       "36                             serves through programs   \n",
       "42                      years of demonstrated delivery   \n",
       "83                                      based on needs   \n",
       "103  associated ongoing professional service offerings   \n",
       "132                             Use excellent judgment   \n",
       "145                              deliver against goals   \n",
       "151                      ensuring appropriate coverage   \n",
       "180                     portfolio of assigned services   \n",
       "181                            offerings by leading go   \n",
       "183                     success by providing solutions   \n",
       "186                          solutions serving America   \n",
       "187                                delivers real value   \n",
       "195                              follow best practices   \n",
       "217                           ensure successful uptake   \n",
       "222                         lives by making healthcare   \n",
       "225                        burning natural gas service   \n",
       "255                            ensuring best practices   \n",
       "280                           delivering great service   \n",
       "298                       delivering critical services   \n",
       "305                   delivering high quality software   \n",
       "308                           providing best practices   \n",
       "319                               value added services   \n",
       "326                          service oriented attitude   \n",
       "329                        strategy supporting Safeway   \n",
       "331                         delivering with excellence   \n",
       "346              solutions follow established security   \n",
       "354                                  focus on delivery   \n",
       "384                       practices by conducting POCs   \n",
       "390                       ensure high quality delivery   \n",
       "395                   shift from foundational delivery   \n",
       "397                            providing best practice   \n",
       "453                 consider reasonable accommodations   \n",
       "476                           working with health care   \n",
       "477                               share best practices   \n",
       "517                        deliver outstanding results   \n",
       "524                      tap into valuable health care   \n",
       "538                                       pay for care   \n",
       "549                          leveraging best practices   \n",
       "550                               lead healthier lives   \n",
       "562                        Prior professional services   \n",
       "\n",
       "                                               Vectors  Clusters  \n",
       "10   [0.000977052, -0.01644071, -0.081349, -0.04346...         2  \n",
       "36   [-0.013939517, -0.010990855, -0.0075142384, -0...         2  \n",
       "42   [-0.046778284, 0.016556667, 0.02819516, -0.026...         2  \n",
       "83   [-0.050038937, 0.0004485121, -0.01601146, -0.0...         2  \n",
       "103  [-0.081430204, -0.046180524, 0.027463306, 0.07...         2  \n",
       "132  [-0.03683993, 0.015736327, -0.071946375, -0.00...         2  \n",
       "145  [-0.025876181, 0.017453047, -0.13549373, -0.07...         2  \n",
       "151  [0.022889996, 0.053581964, -0.0020297086, -0.0...         2  \n",
       "180  [0.02201081, -0.05179888, -0.07127647, 6.15781...         2  \n",
       "181  [-0.04925932, -0.09627192, -0.040246367, -0.01...         2  \n",
       "183  [0.004426917, 0.027640292, 0.0023305237, -0.01...         2  \n",
       "186  [-0.051151067, 0.017097183, 0.031633995, -0.01...         2  \n",
       "187  [-0.009783962, -0.026913423, -0.051396843, 0.0...         2  \n",
       "195  [0.054500587, -0.025069937, 0.01923041, -0.049...         2  \n",
       "217  [-0.013767184, -0.016980954, -0.011176678, -0....         2  \n",
       "222  [-0.021175405, 0.025697432, -0.055796627, -0.0...         2  \n",
       "225  [-0.020903135, -0.005971326, 0.01237345, 0.084...         2  \n",
       "255  [0.01985482, 0.016224114, 0.04345267, -0.05737...         2  \n",
       "280  [-0.063835725, -0.029410696, 0.058919895, -0.0...         2  \n",
       "298  [-0.05604213, -0.03762092, 0.0354966, -0.02111...         2  \n",
       "305  [-0.062106684, -0.06770316, 0.06403738, -0.113...         2  \n",
       "308  [0.034290288, -0.010954716, 0.03803961, -0.043...         2  \n",
       "319  [-0.043834377, -0.08091341, -0.0118427435, 0.0...         2  \n",
       "326  [-0.068810925, -0.0203424, -0.0075543984, -0.0...         2  \n",
       "329  [0.08402189, -0.04355655, -0.10126939, 0.02510...         2  \n",
       "331  [-0.008109873, 0.015033192, -0.0039865496, -0....         2  \n",
       "346  [-0.057935994, 0.09936294, -0.038083255, -0.04...         2  \n",
       "354  [0.018180521, 0.0061569205, -0.017425293, -0.0...         2  \n",
       "384  [0.002884748, 0.08377151, -0.061889388, 0.0216...         2  \n",
       "390  [-0.031498108, -0.05047044, 0.04427106, -0.070...         2  \n",
       "395  [-0.03146621, 0.0074112196, 0.028976614, 0.006...         2  \n",
       "397  [0.039845366, 0.0072479686, 0.03901832, -0.045...         2  \n",
       "453  [0.014952615, -0.0015216123, -0.015783565, 0.0...         2  \n",
       "476  [-0.01724219, 0.036184438, -0.027564224, 0.013...         2  \n",
       "477  [0.051364698, -0.061911117, -0.006026298, -0.0...         2  \n",
       "517  [-0.0156004215, -0.012705018, -0.03186118, -0....         2  \n",
       "524  [-0.007939866, 0.01857802, -0.01036153, -0.087...         2  \n",
       "538  [-0.048011307, -0.009611607, 0.010681844, -0.0...         2  \n",
       "549  [-0.006366605, -0.03932169, 0.04772778, -0.076...         2  \n",
       "550  [-0.032232232, -0.026111817, -0.013632324, 0.0...         2  \n",
       "562  [-0.10044733, -0.0012652726, -0.018691076, 0.0...         2  "
      ]
     },
     "execution_count": 161,
     "metadata": {},
     "output_type": "execute_result"
    }
   ],
   "source": [
    "dfc.get_group(2)"
   ]
  },
  {
   "cell_type": "code",
   "execution_count": 162,
   "id": "bc239292",
   "metadata": {},
   "outputs": [
    {
     "data": {
      "text/html": [
       "<div>\n",
       "<style scoped>\n",
       "    .dataframe tbody tr th:only-of-type {\n",
       "        vertical-align: middle;\n",
       "    }\n",
       "\n",
       "    .dataframe tbody tr th {\n",
       "        vertical-align: top;\n",
       "    }\n",
       "\n",
       "    .dataframe thead th {\n",
       "        text-align: right;\n",
       "    }\n",
       "</style>\n",
       "<table border=\"1\" class=\"dataframe\">\n",
       "  <thead>\n",
       "    <tr style=\"text-align: right;\">\n",
       "      <th></th>\n",
       "      <th>Phrases</th>\n",
       "      <th>Vectors</th>\n",
       "      <th>Clusters</th>\n",
       "    </tr>\n",
       "  </thead>\n",
       "  <tbody>\n",
       "    <tr>\n",
       "      <th>78</th>\n",
       "      <td>overcome complex systems integration</td>\n",
       "      <td>[-0.10230856, -0.059674416, 0.0123689445, 0.00...</td>\n",
       "      <td>3</td>\n",
       "    </tr>\n",
       "    <tr>\n",
       "      <th>79</th>\n",
       "      <td>solving difficult problems</td>\n",
       "      <td>[0.016117439, 0.055849846, -0.03140352, 0.0069...</td>\n",
       "      <td>3</td>\n",
       "    </tr>\n",
       "    <tr>\n",
       "      <th>80</th>\n",
       "      <td>Break down complex problems</td>\n",
       "      <td>[-0.020473903, 0.027525399, -0.004021621, 0.08...</td>\n",
       "      <td>3</td>\n",
       "    </tr>\n",
       "    <tr>\n",
       "      <th>107</th>\n",
       "      <td>dealing with systematic biases</td>\n",
       "      <td>[-0.053059556, 0.025180057, -0.022113904, -0.0...</td>\n",
       "      <td>3</td>\n",
       "    </tr>\n",
       "    <tr>\n",
       "      <th>120</th>\n",
       "      <td>deal with work problems</td>\n",
       "      <td>[-0.021403862, 0.02130731, -0.025809322, 0.046...</td>\n",
       "      <td>3</td>\n",
       "    </tr>\n",
       "    <tr>\n",
       "      <th>127</th>\n",
       "      <td>break down big problems</td>\n",
       "      <td>[-0.04810626, 0.02408195, -0.01714058, -0.0051...</td>\n",
       "      <td>3</td>\n",
       "    </tr>\n",
       "    <tr>\n",
       "      <th>156</th>\n",
       "      <td>solving complex problems</td>\n",
       "      <td>[-0.0067773927, 0.0464189, 0.009181987, 0.0779...</td>\n",
       "      <td>3</td>\n",
       "    </tr>\n",
       "    <tr>\n",
       "      <th>297</th>\n",
       "      <td>troubleshooting with software applications</td>\n",
       "      <td>[-0.066408746, -0.07426136, -0.0142995175, -0....</td>\n",
       "      <td>3</td>\n",
       "    </tr>\n",
       "    <tr>\n",
       "      <th>307</th>\n",
       "      <td>troubleshoot technical issues</td>\n",
       "      <td>[-0.0441064, -0.01149267, 0.034240134, 0.02805...</td>\n",
       "      <td>3</td>\n",
       "    </tr>\n",
       "    <tr>\n",
       "      <th>413</th>\n",
       "      <td>figure out scalable solutions</td>\n",
       "      <td>[-0.06138308, -0.068622895, -0.030108439, 0.00...</td>\n",
       "      <td>3</td>\n",
       "    </tr>\n",
       "    <tr>\n",
       "      <th>480</th>\n",
       "      <td>identify critical issues</td>\n",
       "      <td>[-0.039664455, 0.0513222, -0.012936087, -0.031...</td>\n",
       "      <td>3</td>\n",
       "    </tr>\n",
       "    <tr>\n",
       "      <th>505</th>\n",
       "      <td>challenge historical assumptions</td>\n",
       "      <td>[-0.11846391, 0.01950169, 0.020436179, -0.0060...</td>\n",
       "      <td>3</td>\n",
       "    </tr>\n",
       "    <tr>\n",
       "      <th>533</th>\n",
       "      <td>look at problems</td>\n",
       "      <td>[-0.058682475, 0.03169597, -0.034696434, 0.046...</td>\n",
       "      <td>3</td>\n",
       "    </tr>\n",
       "    <tr>\n",
       "      <th>566</th>\n",
       "      <td>exploring analytic results</td>\n",
       "      <td>[-0.049194947, 0.016220393, -0.07108475, 0.112...</td>\n",
       "      <td>3</td>\n",
       "    </tr>\n",
       "    <tr>\n",
       "      <th>577</th>\n",
       "      <td>Work on complex problems</td>\n",
       "      <td>[-0.0237664, 0.037255865, -0.0072471113, 0.058...</td>\n",
       "      <td>3</td>\n",
       "    </tr>\n",
       "    <tr>\n",
       "      <th>581</th>\n",
       "      <td>produce advanced analytic solutions</td>\n",
       "      <td>[-0.13028082, 0.07091276, 0.05608949, 0.107133...</td>\n",
       "      <td>3</td>\n",
       "    </tr>\n",
       "    <tr>\n",
       "      <th>582</th>\n",
       "      <td>validate advanced analytic models</td>\n",
       "      <td>[-0.114005774, 0.0061655887, -0.03804607, 0.06...</td>\n",
       "      <td>3</td>\n",
       "    </tr>\n",
       "    <tr>\n",
       "      <th>610</th>\n",
       "      <td>build analytical models</td>\n",
       "      <td>[-0.08857685, 0.02669704, -0.01692473, 0.00169...</td>\n",
       "      <td>3</td>\n",
       "    </tr>\n",
       "    <tr>\n",
       "      <th>614</th>\n",
       "      <td>define analytical models</td>\n",
       "      <td>[-0.08869269, 0.06323781, -0.03547997, 0.02742...</td>\n",
       "      <td>3</td>\n",
       "    </tr>\n",
       "    <tr>\n",
       "      <th>628</th>\n",
       "      <td>using statistical causal inference techniques</td>\n",
       "      <td>[0.037565857, -0.00613424, -0.00860719, 0.0369...</td>\n",
       "      <td>3</td>\n",
       "    </tr>\n",
       "    <tr>\n",
       "      <th>635</th>\n",
       "      <td>using statistical causal inference</td>\n",
       "      <td>[0.0327281, 0.0073127286, -0.0020080686, 0.021...</td>\n",
       "      <td>3</td>\n",
       "    </tr>\n",
       "    <tr>\n",
       "      <th>661</th>\n",
       "      <td>developing analytical solutions</td>\n",
       "      <td>[-0.10803931, 0.08428465, -0.002846032, 0.0427...</td>\n",
       "      <td>3</td>\n",
       "    </tr>\n",
       "    <tr>\n",
       "      <th>662</th>\n",
       "      <td>solve complex technical problems</td>\n",
       "      <td>[-0.043842193, 0.060084485, 0.039396808, 0.004...</td>\n",
       "      <td>3</td>\n",
       "    </tr>\n",
       "  </tbody>\n",
       "</table>\n",
       "</div>"
      ],
      "text/plain": [
       "                                           Phrases  \\\n",
       "78            overcome complex systems integration   \n",
       "79                      solving difficult problems   \n",
       "80                     Break down complex problems   \n",
       "107                 dealing with systematic biases   \n",
       "120                        deal with work problems   \n",
       "127                        break down big problems   \n",
       "156                       solving complex problems   \n",
       "297     troubleshooting with software applications   \n",
       "307                  troubleshoot technical issues   \n",
       "413                  figure out scalable solutions   \n",
       "480                       identify critical issues   \n",
       "505               challenge historical assumptions   \n",
       "533                               look at problems   \n",
       "566                     exploring analytic results   \n",
       "577                       Work on complex problems   \n",
       "581            produce advanced analytic solutions   \n",
       "582              validate advanced analytic models   \n",
       "610                        build analytical models   \n",
       "614                       define analytical models   \n",
       "628  using statistical causal inference techniques   \n",
       "635             using statistical causal inference   \n",
       "661                developing analytical solutions   \n",
       "662               solve complex technical problems   \n",
       "\n",
       "                                               Vectors  Clusters  \n",
       "78   [-0.10230856, -0.059674416, 0.0123689445, 0.00...         3  \n",
       "79   [0.016117439, 0.055849846, -0.03140352, 0.0069...         3  \n",
       "80   [-0.020473903, 0.027525399, -0.004021621, 0.08...         3  \n",
       "107  [-0.053059556, 0.025180057, -0.022113904, -0.0...         3  \n",
       "120  [-0.021403862, 0.02130731, -0.025809322, 0.046...         3  \n",
       "127  [-0.04810626, 0.02408195, -0.01714058, -0.0051...         3  \n",
       "156  [-0.0067773927, 0.0464189, 0.009181987, 0.0779...         3  \n",
       "297  [-0.066408746, -0.07426136, -0.0142995175, -0....         3  \n",
       "307  [-0.0441064, -0.01149267, 0.034240134, 0.02805...         3  \n",
       "413  [-0.06138308, -0.068622895, -0.030108439, 0.00...         3  \n",
       "480  [-0.039664455, 0.0513222, -0.012936087, -0.031...         3  \n",
       "505  [-0.11846391, 0.01950169, 0.020436179, -0.0060...         3  \n",
       "533  [-0.058682475, 0.03169597, -0.034696434, 0.046...         3  \n",
       "566  [-0.049194947, 0.016220393, -0.07108475, 0.112...         3  \n",
       "577  [-0.0237664, 0.037255865, -0.0072471113, 0.058...         3  \n",
       "581  [-0.13028082, 0.07091276, 0.05608949, 0.107133...         3  \n",
       "582  [-0.114005774, 0.0061655887, -0.03804607, 0.06...         3  \n",
       "610  [-0.08857685, 0.02669704, -0.01692473, 0.00169...         3  \n",
       "614  [-0.08869269, 0.06323781, -0.03547997, 0.02742...         3  \n",
       "628  [0.037565857, -0.00613424, -0.00860719, 0.0369...         3  \n",
       "635  [0.0327281, 0.0073127286, -0.0020080686, 0.021...         3  \n",
       "661  [-0.10803931, 0.08428465, -0.002846032, 0.0427...         3  \n",
       "662  [-0.043842193, 0.060084485, 0.039396808, 0.004...         3  "
      ]
     },
     "execution_count": 162,
     "metadata": {},
     "output_type": "execute_result"
    }
   ],
   "source": [
    "dfc.get_group(3)"
   ]
  },
  {
   "cell_type": "code",
   "execution_count": 164,
   "id": "22ef0dcf",
   "metadata": {},
   "outputs": [
    {
     "data": {
      "text/plain": [
       "19"
      ]
     },
     "execution_count": 164,
     "metadata": {},
     "output_type": "execute_result"
    }
   ],
   "source": [
    "len(dfc.groups)"
   ]
  },
  {
   "cell_type": "code",
   "execution_count": 186,
   "id": "1bdadae2",
   "metadata": {},
   "outputs": [
    {
     "name": "stdout",
     "output_type": "stream",
     "text": [
      "\n",
      "Group: 0\n",
      "Counter({'product': 14, 'products': 9, 'new': 6, 'development': 3, 'developing': 2, 'assigned': 2, 'software': 2, 'leads': 2, 'introduction': 2, 'diagnose': 2, 'monthly': 2, 'performance': 2, 'manages': 1, 'overall': 1, 'health': 1, 'writing': 1, 'comprehensive': 1, 'epics': 1, 'works': 1, 'experience': 1, 'roadmaps': 1, 'bugs': 1, 'plans': 1, 'consulting': 1, 'projects': 1, 'related': 1, 'satisfying': 1, 'user': 1, 'experiences': 1, 'excitement': 1, 'seeing': 1, 'evaluate': 1, 'potential': 1, 'opportunities': 1, 'process': 1, 'monitoring': 1, 'key': 1, 'component': 1, 'lifecycles': 1, 'finance': 1, 'establishing': 1, 'defining': 1, 'future': 1, 'direction': 1, 'metrics': 1, 'communicate': 1, 'delivering': 1, 'manage': 1, 'multiple': 1, 'celebrate': 1, 'diverse': 1, 'contributing': 1, 'codebases': 1})\n",
      "\n",
      "Group: 1\n",
      "Counter({'experience': 19, 'skills': 9, 'related': 4, 'developing': 4, 'using': 3, 'conducting': 2, 'training': 2, 'good': 2, 'provide': 2, 'expertise': 2, 'including': 2, 'advanced': 2, 'machine': 2, 'learning': 2, 'leading': 1, 'project': 1, 'executing': 1, 'world': 1, 'providing': 1, 'guidance': 1, 'combined': 1, 'solid': 1, 'business': 1, 'hone': 1, 'current': 1, 'additional': 1, 'managed': 1, 'services': 1, 'continuing': 1, 'professional': 1, 'development': 1, 'spoken': 1, 'english': 1, 'communication': 1, 'sales': 1, 'rely': 1, 'requires': 1, 'excellent': 1, 'practice': 1, 'area': 1, 'interpersonal': 1, 'adapt': 1, 'new': 1, 'specialized': 1, 'decision': 1, 'making': 1, 'industry': 1, 'workflows': 1, 'delivering': 1, 'solutions': 1, 'limited': 1, 'skill': 1, 'sets': 1, 'apis': 1, 'sas': 1, 'degree': 1, 'field': 1, 'passion': 1, 'solving': 1, 'problems': 1, 'strong': 1, 'prioritization': 1, 'models': 1, 'algorithms': 1, 'years': 1, 'consulting': 1, 'modeling': 1, 'implementation': 1, 'expert': 1, 'level': 1, 'knowledge': 1, 'programming': 1})\n",
      "\n",
      "Group: 2\n",
      "Counter({'best': 6, 'practices': 6, 'delivery': 4, 'service': 4, 'services': 4, 'delivering': 4, 'providing': 3, 'solutions': 3, 'care': 3, 'professional': 2, 'offerings': 2, 'deliver': 2, 'ensuring': 2, 'value': 2, 'follow': 2, 'ensure': 2, 'lives': 2, 'high': 2, 'quality': 2, 'health': 2, 'several': 1, 'safety': 1, 'protocols': 1, 'serves': 1, 'programs': 1, 'years': 1, 'demonstrated': 1, 'based': 1, 'needs': 1, 'associated': 1, 'ongoing': 1, 'use': 1, 'excellent': 1, 'judgment': 1, 'goals': 1, 'appropriate': 1, 'coverage': 1, 'portfolio': 1, 'assigned': 1, 'leading': 1, 'go': 1, 'success': 1, 'serving': 1, 'america': 1, 'delivers': 1, 'real': 1, 'successful': 1, 'uptake': 1, 'making': 1, 'healthcare': 1, 'burning': 1, 'natural': 1, 'gas': 1, 'great': 1, 'critical': 1, 'software': 1, 'added': 1, 'oriented': 1, 'attitude': 1, 'strategy': 1, 'supporting': 1, 'safeway': 1, 'excellence': 1, 'established': 1, 'security': 1, 'focus': 1, 'conducting': 1, 'pocs': 1, 'shift': 1, 'foundational': 1, 'practice': 1, 'consider': 1, 'reasonable': 1, 'accommodations': 1, 'working': 1, 'share': 1, 'outstanding': 1, 'results': 1, 'tap': 1, 'valuable': 1, 'pay': 1, 'leveraging': 1, 'lead': 1, 'healthier': 1, 'prior': 1})\n",
      "\n",
      "Group: 3\n",
      "Counter({'problems': 8, 'complex': 5, 'solutions': 3, 'analytic': 3, 'models': 3, 'analytical': 3, 'solving': 2, 'break': 2, 'work': 2, 'technical': 2, 'issues': 2, 'advanced': 2, 'using': 2, 'statistical': 2, 'causal': 2, 'inference': 2, 'overcome': 1, 'systems': 1, 'integration': 1, 'difficult': 1, 'dealing': 1, 'systematic': 1, 'biases': 1, 'deal': 1, 'big': 1, 'troubleshooting': 1, 'software': 1, 'applications': 1, 'troubleshoot': 1, 'figure': 1, 'scalable': 1, 'identify': 1, 'critical': 1, 'challenge': 1, 'historical': 1, 'assumptions': 1, 'look': 1, 'exploring': 1, 'results': 1, 'produce': 1, 'validate': 1, 'build': 1, 'define': 1, 'techniques': 1, 'developing': 1, 'solve': 1})\n",
      "\n",
      "Group: 4\n",
      "Counter({'responsibility': 5, 'stakeholders': 5, 'working': 2, 'post-launch': 2, 'reviews': 2, 'individual': 2, 'people': 2, 'executive': 2, 'user': 2, 'communities': 2, 'adoption': 1, 'within': 1, 'identified': 1, 'segments': 1, 'covering': 1, 'product': 1, 'relevant': 1, 'owns': 1, 'contributes': 1, 'setting': 1, 'manages': 1, 'drive': 1, 'positive': 1, 'social': 1, 'impact': 1, 'engage': 1, 'various': 1, 'influence': 1, 'without': 1, 'authority': 1, 'including': 1, 'manage': 1, 'ambiguity': 1, 'participate': 1, 'panel': 1, 'discussions': 1, 'held': 1, 'religious': 1, 'belief': 1, 'demonstrated': 1, 'presence': 1, 'achieving': 1, 'goals': 1, 'primary': 1, 'participates': 1, 'engagements': 1, 'managing': 1, 'resource': 1, 'growth': 1, 'act': 1, 'integrity': 1, 'ensuring': 1, 'effective': 1, 'awareness': 1, 'admired': 1, 'national': 1, 'strength': 1, 'accommodate': 1, 'special': 1, 'meeting': 1, 'requests': 1, 'strong': 1, 'advisory': 1, 'energy': 1, 'trusted': 1, 'advisor': 1, 'specialists': 1, 'help': 1, 'organizations': 1, 'arrive': 1, 'consensus': 1, 'acquire': 1, 'full': 1, 'responsibilities': 1, 'reviewed': 1, 'profiles': 1, 'using': 1, 'hierarchy': 1, 'tool': 1, 'monitor': 1, 'non-standard': 1, 'claim': 1, 'patterns': 1, 'leading': 1, 'international': 1, 'health': 1, 'insurer': 1, 'mission': 1, 'helping': 1, 'recognized': 1, 'others': 1, 'associated': 1, 'small': 1, 'determined': 1, 'consultation': 1, 'considers': 1, 'cultural': 1, 'competency': 1})\n",
      "\n",
      "Group: 5\n",
      "Counter({'cloud': 13, 'distributed': 6, 'using': 4, 'rest': 4, 'solution': 4, 'environments': 4, 'based': 4, 'computing': 3, 'native': 2, 'capabilities': 2, 'specializes': 2, 'services': 2, 'standing': 2, 'scale': 2, 'systems': 2, 'source': 2, 'data': 2, 'processing': 2, 'micro-services': 2, 'expanding': 1, 'business': 1, 'building': 1, 'new': 1, 'microservices': 1, 'streaming': 1, 'kafka': 1, 'design': 1, 'offered': 1, 'platforms': 1, 'ensure': 1, 'comprehensive': 1, 'support': 1, 'various': 1, 'delivery': 1, 'managed': 1, 'contributing': 1, 'azure': 1, 'infrastructure': 1, 'including': 1, 'relational': 1, 'principles': 1, 'application': 1, 'architectures': 1, 'apache': 1, 'hadoop': 1, 'insights': 1, 'leveraging': 1, 'powering': 1, 'smart': 1, 'cities': 1, 'frameworks': 1, 'streams': 1, 'work': 1, 'deep': 1, 'learning': 1, 'software': 1, 'micro-': 1})\n",
      "\n",
      "Group: 6\n",
      "Counter({'work': 6, 'individuals': 4, 'employment': 4, 'pay': 3, 'qualified': 3, 'protected': 2, 'law': 2, 'working': 2, 'participate': 2, 'covid-19': 2, 'restrictions': 2, 'opportunities': 2, 'related': 2, 'competitive': 2, 'require': 2, 'paid': 2, 'flexible': 2, 'across': 1, 'global': 1, 'markets': 1, 'certain': 1, 'vaccinated': 1, '-related': 1, 'activities': 1, 'applicable': 1, 'given': 1, 'current': 1, 'covid19': 1, 'seekers': 1, 'exploring': 1, 'depending': 1, 'finance': 1, 'desire': 1, 'compensation': 1, 'pressure': 1, 'offers': 1, 'degree': 1, 'field': 1, 'including': 1, 'positions': 1, 'applicants': 1, 'suspended': 1, 'notice': 1, 'looking': 1, 'talented': 1, 'parental': 1, 'leave': 1, 'supported': 1, 'benefits': 1, 'valid': 1, 'authorization': 1, 'recruit': 1, 'women': 1, 'future': 1, 'sponsorship': 1, 'associated': 1, 'unsolicited': 1, 'resumes': 1, 'offer': 1, 'arrangements': 1, 'limited': 1, 'education': 1, 'critical': 1, 'illness': 1, 'test': 1, 'beginning': 1, 'pre-employment': 1, 'testing': 1, 'provide': 1, 'equal': 1, 'taking': 1, 'affirmative': 1, 'action': 1, 'employ': 1, 'place': 1, 'meet': 1, 'eligibility': 1, 'requirements': 1, 'advance': 1})\n",
      "\n",
      "Group: 7\n",
      "Counter({'teams': 17, 'cross-functional': 4, 'team': 4, 'work': 3, 'project': 3, 'leads': 2, 'leading': 2, 'product': 2, 'development': 2, 'technical': 2, 'working': 2, 'works': 1, 'internal': 1, 'engineering': 1, 'coordinating': 1, 'technology': 1, 'including': 1, 'gamestop': 1, 'allowing': 1, 'collaborating': 1, 'aptitude': 1, 'assisting': 1, 'deal': 1, 'multiple': 1, 'departments': 1, 'processes': 1, 'enable': 1, 'means': 1, 'embracing': 1, 'excellence': 1, 'implemented': 1, 'better': 1, 'teamwork': 1, 'influence': 1, 'build': 1, 'diverse': 1, 'delivering': 1, 'insights': 1, 'collaborate': 1, 'members': 1, 'high': 1, 'performance': 1, 'autonomy': 1})\n",
      "\n",
      "Group: 8\n",
      "Counter({'technical': 21, 'technologies': 7, 'technology': 5, 'solutions': 3, 'working': 2, 'providing': 2, 'new': 2, 'deliver': 2, 'digital': 2, 'come': 2, 'complex': 2, 'engineers': 2, 'applications': 2, 'cutting': 2, 'edge': 2, 'identify': 2, 'direction': 1, 'exploring': 1, 'power': 1, 'emerging': 1, 'computer': 1, 'manufacturing': 1, 'incorporate': 1, 'key': 1, 'required': 1, 'engineering': 1, 'features': 1, 'roles': 1, 'interact': 1, 'resources': 1, 'understanding': 1, 'information': 1, 'catering': 1, 'cross-technology': 1, 'integrations': 1, 'supporting': 1, 'production': 1, 'provide': 1, 'expert': 1, 'knowledge': 1, 'support': 1, 'escalations': 1, 'ensure': 1, 'successful': 1, 'project': 1, 'delivery': 1, 'resolve': 1, 'issues': 1, 'expertise': 1, 'understand': 1, 'requirements': 1, 'facing': 1, 'space': 1, 'date': 1, 'adopting': 1, 'focused': 1, 'lead': 1, 'discussions': 1, 'document': 1, 'designs': 1, 'consists': 1, 'communicating': 1, 'concepts': 1, 'defining': 1, 'recommending': 1, 'specific': 1, 'managing': 1, 'large': 1, 'engagements': 1, 'right': 1, 'drill': 1, 'specifics': 1, 'initiatives': 1, 'involving': 1, 'internet': 1, 'system': 1, 'ranging': 1, 'systems': 1, 'designers': 1, 'define': 1, 'problem': 1, 'statement': 1, 'presenting': 1, 'results': 1, 'initiate': 1, 'standards': 1, 'perform': 1, 'risk': 1, 'analysis': 1, 'related': 1, 'quantitative': 1, 'disciplines': 1, 'go': 1, 'beyond': 1, 'standard': 1, 'industry': 1, 'tools': 1, 'appropriate': 1, 'communicate': 1, 'non-technical': 1, 'audiences': 1, 'fundamental': 1, 'ideas': 1})\n",
      "\n",
      "Group: 9\n",
      "Counter({'accordance': 2, 'requirements': 2, 'required': 2, 'including': 2, 'analytical': 2, 'acumen': 2, 'law': 2, 'integrations': 2, 'solutions': 2, 'considered': 1, 'substitution': 1, 'lot': 1, 'moving': 1, 'parts': 1, 'synthesize': 1, 'goals': 1, 'adhered': 1, 'supported': 1, 'standard': 1, 'patterns': 1, 'describe': 1, 'non-functional': 1, 'completion': 1, 'banners': 1, 'albertsons': 1, 'engender': 1, 'effective': 1, 'contribution': 1, 'demonstrated': 1, 'strong': 1, 'developed': 1, 'input': 1, 'designed': 1, 'impact': 1, 'work': 1, 'within': 1, 'constructs': 1, 'implemented': 1, 'portfolio': 1, 'includes': 1, 'web': 1, 'part': 1, 'integrated': 1, 'solution': 1, 'takes': 1, 'account': 1, 'familiar': 1, 'working': 1, 'multiple': 1, 'type': 1, 'ensures': 1, 'essential': 1, 'artifacts': 1, 'build': 1, 'permitted': 1, 'applicable': 1, 'translate': 1, 'used': 1, 'analysis': 1, 'implements': 1, 'creative': 1, 'members': 1, 'scoping': 1, 'participates': 1, 'e': 1, 'manipulation': 1, 'using': 1, 'scripts': 1, 'related': 1, 'quality': 1, 'communications': 1, 'maintained': 1, 'production': 1, 'incorporated': 1, 'analytic': 1, 'approaches': 1})\n",
      "\n",
      "Group: 10\n",
      "Counter({'new': 16, 'ways': 5, 'creating': 3, 'develop': 3, 'features': 3, 'vision': 2, 'looking': 2, 'make': 2, 'deliver': 2, 'compelling': 2, 'presentations': 2, 'innovative': 2, 'judgment': 2, 'multiple': 2, 'change': 2, 'communicate': 2, 'ideas': 2, 'fresh': 2, 'perspective': 2, 'meaningful': 2, 'look': 2, 'sources': 2, 'go': 2, 'grounded': 1, 'understanding': 1, 'increased': 1, 'value': 1, 'utilizing': 1, 'available': 1, 'studies': 1, 'process': 1, 'reviewing': 1, 'demos': 1, 'needs': 1, 'daily': 1, 'choices': 1, 'focus': 1, 'education': 1, 'extends': 1, 'relationships': 1, 'creative': 1, 'solutions': 1, 'talking': 1, 'influencers': 1, 'lines': 1, 'maintaining': 1, 'overall': 1, 'conversation': 1, 'quality': 1, 'design': 1, 'conversational': 1, 'experiences': 1, 'existing': 1, 'versus': 1, 'providing': 1, 'actionable': 1, 'feedback': 1, 'react': 1, 'trends': 1, 'practice': 1, 'active': 1, 'listening': 1, 'facilitating': 1, 'shows': 1, 'sound': 1, 'listen': 1, 'points': 1, 'drive': 1, 'real': 1, 'transforming': 1, 'healthcare': 1, 'evaluate': 1, 'potential': 1, 'applications': 1, 'learn': 1, 'things': 1, 'thought': 1, 'action': 1, 'complex': 1, 'identify': 1, 'tools': 1, 'bring': 1, 'share': 1, 'brings': 1, 'focusing': 1, 'high': 1, 'volume': 1, 'information': 1, 'exercise': 1, 'mature': 1, 'enabling': 1, 'update': 1, 'respect': 1, 'jump': 1, 'incidents': 1, 'unleashing': 1, 'human': 1, 'energy': 1, 'moments': 1, 'expanding': 1, 'spaces': 1, 'growth': 1, 'relevant': 1, 'insights': 1, 'people': 1, 'novel': 1, 'test': 1, 'explore': 1, 'perspectives': 1, 'recommend': 1, 'reimagine': 1, 'possibilities': 1, 'order': 1, 'uncover': 1, 'pursuing': 1, 'originating': 1, 'live': 1, 'healthier': 1, 'lives': 1, 'right': 1, 'individuals': 1, 'reviews': 1, 'proposed': 1, 'greater': 1, 'access': 1, 'contributing': 1, 'computer': 1, 'learning': 1, 'interactions': 1, 'valuable': 1, 'discoveries': 1})\n",
      "\n",
      "Group: 11\n",
      "Counter({'leadership': 7, 'leading': 6, 'experience': 6, 'teams': 4, 'provide': 4, 'product': 4, 'collaborate': 3, 'technical': 3, 'demonstrated': 2, 'managing': 2, 'management': 2, 'leader': 2, 'strong': 2, 'coaching': 2, 'senior': 2, 'leaders': 2, 'mentoring': 2, 'junior': 2, 'influence': 1, 'organization': 1, 'ability': 1, 'manage': 1, 'executive': 1, 'relationships': 1, 'work': 1, 'great': 1, 'people': 1, 'cross-functional': 1, 'developing': 1, 'partner': 1, 'managers': 1, 'expanding': 1, 'hybrid': 1, 'using': 1, 'industry': 1, 'thought': 1, 'providing': 1, 'consistent': 1, 'skills': 1, 'act': 1, 'adviser': 1, 'development': 1, 'teammates': 1, 'delivery': 1, 'mentor': 1, 'staff': 1, 'communicate': 1, 'executives': 1, 'working': 1, 'talented': 1, 'individuals': 1, 'key': 1, 'encouraging': 1, 'top': 1, 'talent': 1, 'large': 1, 'scale': 1})\n",
      "\n",
      "Group: 12\n",
      "Counter({'clients': 6, 'customer': 6, 'client': 4, 'based': 3, 'customers': 2, 'drive': 2, 'principles': 2, 'developing': 2, 'marketing': 2, 'technology': 2, 'solutions': 2, 'needs': 2, 'market': 2, 'sales': 2, 'work': 2, 'consumer': 2, 'utilizing': 2, 'current': 2, 'vendor': 2, 'solution': 2, 'make': 1, 'credit': 1, 'capturing': 1, 'voc': 1, 'uncover': 1, 'additional': 1, 'value': 1, 'adoption': 1, 'mitigate': 1, 'risk': 1, 'owned': 1, 'retail': 1, 'platform': 1, 'working': 1, 'loyalty': 1, 'programs': 1, 'performing': 1, 'comprehensive': 1, 'analyses': 1, 'strategy': 1, 'understanding': 1, 'interacting': 1, 'assist': 1, 'opportunities': 1, 'obtain': 1, 'relevant': 1, 'requires': 1, 'excellent': 1, 'services': 1, 'billable': 1, 'engagements': 1, 'meet': 1, 'dynamic': 1, 'demands': 1, 'provide': 1, 'better': 1, 'experiences': 1, 'experience': 1, 'building': 1, 'facing': 1, 'requirements': 1, 'anticipate': 1, 'disruption': 1, 'capabilities': 1, 'works': 1, 'alignment': 1, 'engage': 1, 'vendors': 1, 'portfolio': 1, 'helps': 1})\n",
      "\n",
      "Group: 13\n"
     ]
    },
    {
     "name": "stdout",
     "output_type": "stream",
     "text": [
      "Counter({'data': 29, 'experience': 6, 'analytics': 6, 'advanced': 4, 'including': 3, 'using': 2, 'complex': 2, 'configuring': 2, 'entity': 2, 'base': 2, 'defining': 2, 'governance': 2, 'analysis': 2, 'sets': 2, 'new': 2, 'insights': 2, 'challenges': 2, 'tools': 2, 'implementing': 2, 'privacy': 2, 'work': 2, 'report': 1, 'key': 1, 'metrics': 1, 'vision': 1, 'analyze': 1, 'abap': 1, 'related': 1, 'systems': 1, 'objects': 1, 'stewardship': 1, 'ecosystems': 1, 'management': 1, 'implementations': 1, 'master': 1, 'conduct': 1, 'sophisticated': 1, 'manage': 1, 'large': 1, 'disparate': 1, 'starting': 1, 'raw': 1, 'create': 1, 'resources': 1, 'communicate': 1, 'artifacts': 1, 'languages': 1, 'sql': 1, 'connect': 1, 'external': 1, 'identify': 1, 'questionable': 1, 'driven': 1, 'seek': 1, 'sources': 1, 'needs': 1, 'around': 1, 'tap': 1, 'valuable': 1, 'health': 1, 'care': 1, 'executing': 1, 'science': 1, 'conducting': 1, 'projects': 1, 'extracting': 1, 'architecting': 1, 'organizational': 1, 'intelligence': 1, 'programs': 1, 'developing': 1, 'products': 1, 'support': 1, 'uncovered': 1, 'interpret': 1, 'requires': 1, 'evaluation': 1, 'set': 1, 'development': 1, 'standards': 1, 'performing': 1, 'exploratory': 1, 'working': 1, 'processing': 1, 'massive': 1, 'approach': 1, 'different': 1, 'healthcare': 1, 'accessing': 1})\n",
      "\n",
      "Group: 14\n",
      "Counter({'collaborate': 6, 'partners': 6, 'relationships': 4, 'partnering': 4, 'business': 4, 'multiple': 3, 'building': 3, 'partnerships': 3, 'across': 2, 'stakeholders': 2, 'collaboration': 2, 'key': 2, 'involve': 1, 'stakeholder': 1, 'teams': 1, 'working': 1, 'ensuring': 1, 'effective': 1, 'cross-functional': 1, 'lead': 1, 'new': 1, 'vendor': 1, 'using': 1, 'collaborative': 1, 'bring': 1, 'functional': 1, 'groups': 1, 'targeted': 1, 'strategic': 1, 'maintain': 1, 'aligned': 1, 'company': 1, 'architect': 1, 'successful': 1, 'organizational': 1, 'projects': 1, 'architects': 1, 'collaborating': 1, 'cios': 1, 'domain': 1, 'meet': 1, 'mutual': 1, 'goals': 1, 'companies': 1, 'work': 1, 'liaise': 1, 'participate': 1, 'product': 1, 'owners': 1, 'achieve': 1, 'objectives': 1, 'understood': 1, 'internal': 1, 'enable': 1, 'unprecedented': 1, 'provide': 1, 'technology': 1, 'maintaining': 1, 'strong': 1, 'lines': 1})\n",
      "\n",
      "Group: 15\n",
      "Counter({'data': 6, 'learning': 6, 'based': 5, 'algorithms': 5, 'predictive': 4, 'using': 4, 'machine': 4, 'driven': 3, 'models': 3, 'deep': 3, 'making': 2, 'appropriate': 2, 'problems': 2, 'techniques': 2, 'build': 2, 'scalable': 2, 'science': 2, 'applying': 2, 'decisions': 1, 'input': 1, 'create': 1, 'novel': 1, 'workload': 1, 'ensure': 1, 'efficient': 1, 'operation': 1, 'process': 1, 'translating': 1, 'user': 1, 'testing': 1, 'dictates': 1, 'various': 1, 'processes': 1, 'creating': 1, 'best': 1, 'class': 1, 'manage': 1, 'multiple': 1, 'pursuits': 1, 'vary': 1, 'region': 1, 'drive': 1, 'operational': 1, 'efficiency': 1, 'recommendations': 1, 'decision': 1, 'develop': 1, 'use': 1, 'sampling': 1, 'several': 1, 'factors': 1, 'applications': 1, 'utilizing': 1, 'modeling': 1, 'generalized': 1, 'linear': 1, 'building': 1, 'tree': 1, 'support': 1, 'assessments': 1, 'technologies': 1, 'sets': 1, 'varying': 1, 'degrees': 1, 'neural': 1, 'networks': 1, 'automate': 1, 'methods': 1, 'result': 1, 'optimal': 1, 'value': 1, 'extraction': 1, 'tensorflow': 1})\n",
      "\n",
      "Group: 16\n",
      "Counter({'business': 20, 'drive': 6, 'new': 5, 'strategic': 5, 'outcomes': 4, 'financial': 3, 'strategy': 3, 'capabilities': 3, 'value': 3, 'key': 3, 'work': 3, 'achieve': 2, 'success': 2, 'positive': 2, 'innovative': 2, 'solutions': 2, 'revenue': 2, 'enterprise': 2, 'market': 2, 'develop': 2, 'appropriate': 2, 'change': 2, 'management': 2, 'understanding': 2, 'strategies': 2, 'best': 2, 'practice': 2, 'use': 2, 'keen': 2, 'process': 2, 'address': 2, 'broad': 1, 'adoption': 1, 'different': 1, 'strong': 1, 'acumen': 1, 'experience': 1, 'translating': 1, 'developing': 1, 'years': 1, 'proven': 1, 'build': 1, 'successful': 1, 'cross-functional': 1, 'generating': 1, 'driving': 1, 'pursuit': 1, 'improved': 1, 'go': 1, 'environment': 1, 'competing': 1, 'priorities': 1, 'balance': 1, 'creating': 1, 'greater': 1, 'capture': 1, 'dynamics': 1, 'identifying': 1, 'opportunities': 1, 'meeting': 1, 'metrics': 1, 'role': 1, 'include': 1, 'growing': 1, 'natural': 1, 'gas': 1, 'utility': 1, 'supporting': 1, 'dynamic': 1, 'needs': 1, 'processes': 1, 'propose': 1, 'solution': 1, 'enabling': 1, 'transformational': 1, 'initiatives': 1, 'leverages': 1, 'existing': 1, 'apply': 1, 'thinking': 1, 'execute': 1, 'digital': 1, 'transformation': 1, 'deliver': 1, 'leveraged': 1, 'across': 1, 'transforming': 1, 'finance': 1, 'invest': 1, 'modernization': 1, 'profitable': 1, 'optimizing': 1, 'support': 1, 'expansive': 1, 'advancement': 1, 'critical': 1, 'unlock': 1, 'brings': 1, 'deep': 1, 'industry': 1, 'expertise': 1, 'make': 1, 'recommendations': 1, 'provide': 1, 'meaningful': 1, 'specific': 1, 'problems': 1, 'scaling': 1, 'consult': 1, 'stakeholders': 1})\n",
      "\n",
      "Group: 17\n",
      "Counter({'build': 4, 'software': 4, 'architecture': 4, 'architectural': 4, 'application': 4, 'cross-functional': 3, 'solution': 3, 'architects': 3, 'enterprise': 3, 'components': 3, 'creating': 3, 'building': 3, 'providing': 2, 'different': 2, 'projects': 2, 'work': 2, 'architectures': 2, 'existing': 2, 'reusable': 2, 'mitigate': 2, 'risks': 2, 'create': 2, 'large': 2, 'scale': 2, 'connected': 2, 'car': 2, 'platform': 2, 'resources': 1, 'overcome': 1, 'complex': 1, 'systems': 1, 'integration': 1, 'challenges': 1, 'small-': 1, 'mid-scale': 1, 'working': 1, 'support': 1, 'scalable': 1, 'balancing': 1, 'many': 1, 'defining': 1, 'direction': 1, 'architect': 1, 'innovative': 1, 'solutions': 1, 'ecosystem': 1, 'meet': 1, 'defined': 1, 'involving': 1, 'multiple': 1, 'practical': 1, 'service': 1, 'supports': 1, 'suitable': 1, 'approaches': 1, 'new': 1, 'automation': 1, 'environments': 1, 'including': 1, 'dependencies': 1, 'roadmap': 1, 'platforms': 1, 'deployments': 1, 'technical': 1, 'essential': 1, 'artifacts': 1, 'next': 1, 'generation': 1, 'types': 1, 'leveraging': 1, 'various': 1, 'browsers': 1})\n",
      "\n",
      "Group: 18\n",
      "Counter({'project': 5, 'plans': 5, 'multiple': 4, 'projects': 3, 'planning': 2, 'solution': 2, 'periods': 2, 'spend': 2, 'working': 2, 'experience': 2, 'adherence': 2, 'defined': 2, 'development': 2, 'life': 2, 'delivers': 1, 'monthly': 1, 'forecasting': 1, 'reports': 1, 'learning': 1, 'future': 1, 'launch': 1, 'financial': 1, 'budgets': 1, 'phased': 1, 'actions': 1, 'keep': 1, 'date': 1, 'big': 1, 'handle': 1, 'tasks': 1, 'assessing': 1, 'operational': 1, 'activate': 1, 'corrective': 1, 'goals': 1, 'assigned': 1, 'sets': 1, 'handling': 1, 'within': 1, 'recommended': 1, 'framework': 1, 'paced': 1, 'agile': 1, 'delivery': 1, 'environment': 1, 'walk': 1, 'extended': 1, 'long': 1, 'set': 1, 'clear': 1, 'objectives': 1, 'setting': 1, 'vision': 1, 'automate': 1, 'everyday': 1, 'developer': 1, 'automation': 1, 'system': 1, 'manage': 1, 'task': 1, 'assignments': 1, 'cycle': 1, 'participate': 1, 'enable': 1, 'key': 1, 'mission': 1, 'outcomes': 1, 'develop': 1, 'actionable': 1, 'presenting': 1, 'output': 1})\n"
     ]
    }
   ],
   "source": [
    "for i in dfc.groups:\n",
    "    print(\"\\nGroup: {}\".format(i))\n",
    "    common_words = token_counter([remove_stop_words(x) for x in dfc.get_group(i)[\"Phrases\"]])\n",
    "    print(common_words)"
   ]
  },
  {
   "cell_type": "code",
   "execution_count": 188,
   "id": "5808d064",
   "metadata": {},
   "outputs": [
    {
     "name": "stdout",
     "output_type": "stream",
     "text": [
      "4-gram:  <zip object at 0x7fe2487bb400>\n"
     ]
    }
   ],
   "source": [
    "import nltk\n",
    "from nltk.util import ngrams\n",
    " \n",
    "# Function to generate n-grams from sentences.\n",
    "def extract_ngrams(data, num):\n",
    "    n_grams = ngrams(nltk.word_tokenize(data), num)\n",
    "    return [ ' '.join(grams) for grams in n_grams]\n",
    " \n",
    "data = 'A class is a blueprint for the object.'\n",
    " \n",
    "print(\"4-gram: \", extract_ngrams(data, 4))"
   ]
  },
  {
   "cell_type": "code",
   "execution_count": 198,
   "id": "39740298",
   "metadata": {},
   "outputs": [],
   "source": [
    "n_grams = extract_ngrams(data, 4)"
   ]
  },
  {
   "cell_type": "code",
   "execution_count": 200,
   "id": "2f71eb67",
   "metadata": {},
   "outputs": [],
   "source": [
    "for i in n_grams:\n",
    "    print(i)"
   ]
  },
  {
   "cell_type": "code",
   "execution_count": null,
   "id": "f4533fd2",
   "metadata": {},
   "outputs": [],
   "source": []
  }
 ],
 "metadata": {
  "kernelspec": {
   "display_name": "Python 3 (ipykernel)",
   "language": "python",
   "name": "python3"
  },
  "language_info": {
   "codemirror_mode": {
    "name": "ipython",
    "version": 3
   },
   "file_extension": ".py",
   "mimetype": "text/x-python",
   "name": "python",
   "nbconvert_exporter": "python",
   "pygments_lexer": "ipython3",
   "version": "3.8.11"
  }
 },
 "nbformat": 4,
 "nbformat_minor": 5
}
