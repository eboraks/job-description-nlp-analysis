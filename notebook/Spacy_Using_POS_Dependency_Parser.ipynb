{
 "cells": [
  {
   "cell_type": "code",
   "execution_count": 17,
   "id": "cf64a56b",
   "metadata": {},
   "outputs": [
    {
     "name": "stdout",
     "output_type": "stream",
     "text": [
      "[('Alex Smith', 'PERSON'), ('Acme Corp Inc.', 'ORG')]\n"
     ]
    }
   ],
   "source": [
    "import spacy\n",
    "from spacy import displacy\n",
    "\n",
    "nlp = spacy.load(\"en_core_web_lg\")\n",
    "doc = nlp(\"Alex Smith worked at Acme Corp Inc.\")\n",
    "print([(ent.text, ent.label_) for ent in doc.ents])"
   ]
  },
  {
   "cell_type": "code",
   "execution_count": 19,
   "id": "37a64678",
   "metadata": {},
   "outputs": [
    {
     "data": {
      "text/html": [
       "<span class=\"tex2jax_ignore\"><svg xmlns=\"http://www.w3.org/2000/svg\" xmlns:xlink=\"http://www.w3.org/1999/xlink\" xml:lang=\"en\" id=\"eb51a6c796eb44028644c5d08bddb245-0\" class=\"displacy\" width=\"1275\" height=\"399.5\" direction=\"ltr\" style=\"max-width: none; height: 399.5px; color: #000000; background: #ffffff; font-family: Arial; direction: ltr\">\n",
       "<text class=\"displacy-token\" fill=\"currentColor\" text-anchor=\"middle\" y=\"309.5\">\n",
       "    <tspan class=\"displacy-word\" fill=\"currentColor\" x=\"50\">Alex</tspan>\n",
       "    <tspan class=\"displacy-tag\" dy=\"2em\" fill=\"currentColor\" x=\"50\">PROPN</tspan>\n",
       "</text>\n",
       "\n",
       "<text class=\"displacy-token\" fill=\"currentColor\" text-anchor=\"middle\" y=\"309.5\">\n",
       "    <tspan class=\"displacy-word\" fill=\"currentColor\" x=\"225\">Smith</tspan>\n",
       "    <tspan class=\"displacy-tag\" dy=\"2em\" fill=\"currentColor\" x=\"225\">PROPN</tspan>\n",
       "</text>\n",
       "\n",
       "<text class=\"displacy-token\" fill=\"currentColor\" text-anchor=\"middle\" y=\"309.5\">\n",
       "    <tspan class=\"displacy-word\" fill=\"currentColor\" x=\"400\">worked</tspan>\n",
       "    <tspan class=\"displacy-tag\" dy=\"2em\" fill=\"currentColor\" x=\"400\">VERB</tspan>\n",
       "</text>\n",
       "\n",
       "<text class=\"displacy-token\" fill=\"currentColor\" text-anchor=\"middle\" y=\"309.5\">\n",
       "    <tspan class=\"displacy-word\" fill=\"currentColor\" x=\"575\">at</tspan>\n",
       "    <tspan class=\"displacy-tag\" dy=\"2em\" fill=\"currentColor\" x=\"575\">ADP</tspan>\n",
       "</text>\n",
       "\n",
       "<text class=\"displacy-token\" fill=\"currentColor\" text-anchor=\"middle\" y=\"309.5\">\n",
       "    <tspan class=\"displacy-word\" fill=\"currentColor\" x=\"750\">Acme</tspan>\n",
       "    <tspan class=\"displacy-tag\" dy=\"2em\" fill=\"currentColor\" x=\"750\">PROPN</tspan>\n",
       "</text>\n",
       "\n",
       "<text class=\"displacy-token\" fill=\"currentColor\" text-anchor=\"middle\" y=\"309.5\">\n",
       "    <tspan class=\"displacy-word\" fill=\"currentColor\" x=\"925\">Corp</tspan>\n",
       "    <tspan class=\"displacy-tag\" dy=\"2em\" fill=\"currentColor\" x=\"925\">PROPN</tspan>\n",
       "</text>\n",
       "\n",
       "<text class=\"displacy-token\" fill=\"currentColor\" text-anchor=\"middle\" y=\"309.5\">\n",
       "    <tspan class=\"displacy-word\" fill=\"currentColor\" x=\"1100\">Inc.</tspan>\n",
       "    <tspan class=\"displacy-tag\" dy=\"2em\" fill=\"currentColor\" x=\"1100\">PROPN</tspan>\n",
       "</text>\n",
       "\n",
       "<g class=\"displacy-arrow\">\n",
       "    <path class=\"displacy-arc\" id=\"arrow-eb51a6c796eb44028644c5d08bddb245-0-0\" stroke-width=\"2px\" d=\"M70,264.5 C70,177.0 215.0,177.0 215.0,264.5\" fill=\"none\" stroke=\"currentColor\"/>\n",
       "    <text dy=\"1.25em\" style=\"font-size: 0.8em; letter-spacing: 1px\">\n",
       "        <textPath xlink:href=\"#arrow-eb51a6c796eb44028644c5d08bddb245-0-0\" class=\"displacy-label\" startOffset=\"50%\" side=\"left\" fill=\"currentColor\" text-anchor=\"middle\">compound</textPath>\n",
       "    </text>\n",
       "    <path class=\"displacy-arrowhead\" d=\"M70,266.5 L62,254.5 78,254.5\" fill=\"currentColor\"/>\n",
       "</g>\n",
       "\n",
       "<g class=\"displacy-arrow\">\n",
       "    <path class=\"displacy-arc\" id=\"arrow-eb51a6c796eb44028644c5d08bddb245-0-1\" stroke-width=\"2px\" d=\"M245,264.5 C245,177.0 390.0,177.0 390.0,264.5\" fill=\"none\" stroke=\"currentColor\"/>\n",
       "    <text dy=\"1.25em\" style=\"font-size: 0.8em; letter-spacing: 1px\">\n",
       "        <textPath xlink:href=\"#arrow-eb51a6c796eb44028644c5d08bddb245-0-1\" class=\"displacy-label\" startOffset=\"50%\" side=\"left\" fill=\"currentColor\" text-anchor=\"middle\">nsubj</textPath>\n",
       "    </text>\n",
       "    <path class=\"displacy-arrowhead\" d=\"M245,266.5 L237,254.5 253,254.5\" fill=\"currentColor\"/>\n",
       "</g>\n",
       "\n",
       "<g class=\"displacy-arrow\">\n",
       "    <path class=\"displacy-arc\" id=\"arrow-eb51a6c796eb44028644c5d08bddb245-0-2\" stroke-width=\"2px\" d=\"M420,264.5 C420,177.0 565.0,177.0 565.0,264.5\" fill=\"none\" stroke=\"currentColor\"/>\n",
       "    <text dy=\"1.25em\" style=\"font-size: 0.8em; letter-spacing: 1px\">\n",
       "        <textPath xlink:href=\"#arrow-eb51a6c796eb44028644c5d08bddb245-0-2\" class=\"displacy-label\" startOffset=\"50%\" side=\"left\" fill=\"currentColor\" text-anchor=\"middle\">prep</textPath>\n",
       "    </text>\n",
       "    <path class=\"displacy-arrowhead\" d=\"M565.0,266.5 L573.0,254.5 557.0,254.5\" fill=\"currentColor\"/>\n",
       "</g>\n",
       "\n",
       "<g class=\"displacy-arrow\">\n",
       "    <path class=\"displacy-arc\" id=\"arrow-eb51a6c796eb44028644c5d08bddb245-0-3\" stroke-width=\"2px\" d=\"M770,264.5 C770,89.5 1095.0,89.5 1095.0,264.5\" fill=\"none\" stroke=\"currentColor\"/>\n",
       "    <text dy=\"1.25em\" style=\"font-size: 0.8em; letter-spacing: 1px\">\n",
       "        <textPath xlink:href=\"#arrow-eb51a6c796eb44028644c5d08bddb245-0-3\" class=\"displacy-label\" startOffset=\"50%\" side=\"left\" fill=\"currentColor\" text-anchor=\"middle\">compound</textPath>\n",
       "    </text>\n",
       "    <path class=\"displacy-arrowhead\" d=\"M770,266.5 L762,254.5 778,254.5\" fill=\"currentColor\"/>\n",
       "</g>\n",
       "\n",
       "<g class=\"displacy-arrow\">\n",
       "    <path class=\"displacy-arc\" id=\"arrow-eb51a6c796eb44028644c5d08bddb245-0-4\" stroke-width=\"2px\" d=\"M945,264.5 C945,177.0 1090.0,177.0 1090.0,264.5\" fill=\"none\" stroke=\"currentColor\"/>\n",
       "    <text dy=\"1.25em\" style=\"font-size: 0.8em; letter-spacing: 1px\">\n",
       "        <textPath xlink:href=\"#arrow-eb51a6c796eb44028644c5d08bddb245-0-4\" class=\"displacy-label\" startOffset=\"50%\" side=\"left\" fill=\"currentColor\" text-anchor=\"middle\">compound</textPath>\n",
       "    </text>\n",
       "    <path class=\"displacy-arrowhead\" d=\"M945,266.5 L937,254.5 953,254.5\" fill=\"currentColor\"/>\n",
       "</g>\n",
       "\n",
       "<g class=\"displacy-arrow\">\n",
       "    <path class=\"displacy-arc\" id=\"arrow-eb51a6c796eb44028644c5d08bddb245-0-5\" stroke-width=\"2px\" d=\"M595,264.5 C595,2.0 1100.0,2.0 1100.0,264.5\" fill=\"none\" stroke=\"currentColor\"/>\n",
       "    <text dy=\"1.25em\" style=\"font-size: 0.8em; letter-spacing: 1px\">\n",
       "        <textPath xlink:href=\"#arrow-eb51a6c796eb44028644c5d08bddb245-0-5\" class=\"displacy-label\" startOffset=\"50%\" side=\"left\" fill=\"currentColor\" text-anchor=\"middle\">pobj</textPath>\n",
       "    </text>\n",
       "    <path class=\"displacy-arrowhead\" d=\"M1100.0,266.5 L1108.0,254.5 1092.0,254.5\" fill=\"currentColor\"/>\n",
       "</g>\n",
       "</svg></span>"
      ],
      "text/plain": [
       "<IPython.core.display.HTML object>"
      ]
     },
     "metadata": {},
     "output_type": "display_data"
    }
   ],
   "source": [
    "displacy.render(doc, jupyter=True, style=\"dep\")"
   ]
  },
  {
   "cell_type": "code",
   "execution_count": 16,
   "id": "d7ae9127",
   "metadata": {},
   "outputs": [
    {
     "name": "stdout",
     "output_type": "stream",
     "text": [
      "[('Alex Smith', 'PERSON', worked)]\n",
      "['_', '__bytes__', '__class__', '__delattr__', '__dir__', '__doc__', '__eq__', '__format__', '__ge__', '__getattribute__', '__gt__', '__hash__', '__init__', '__init_subclass__', '__le__', '__len__', '__lt__', '__ne__', '__new__', '__pyx_vtable__', '__reduce__', '__reduce_ex__', '__repr__', '__setattr__', '__sizeof__', '__str__', '__subclasshook__', '__unicode__', 'ancestors', 'check_flag', 'children', 'cluster', 'conjuncts', 'dep', 'dep_', 'doc', 'ent_id', 'ent_id_', 'ent_iob', 'ent_iob_', 'ent_kb_id', 'ent_kb_id_', 'ent_type', 'ent_type_', 'get_extension', 'has_dep', 'has_extension', 'has_head', 'has_morph', 'has_vector', 'head', 'i', 'idx', 'iob_strings', 'is_alpha', 'is_ancestor', 'is_ascii', 'is_bracket', 'is_currency', 'is_digit', 'is_left_punct', 'is_lower', 'is_oov', 'is_punct', 'is_quote', 'is_right_punct', 'is_sent_end', 'is_sent_start', 'is_space', 'is_stop', 'is_title', 'is_upper', 'lang', 'lang_', 'left_edge', 'lefts', 'lemma', 'lemma_', 'lex', 'lex_id', 'like_email', 'like_num', 'like_url', 'lower', 'lower_', 'morph', 'n_lefts', 'n_rights', 'nbor', 'norm', 'norm_', 'orth', 'orth_', 'pos', 'pos_', 'prefix', 'prefix_', 'prob', 'rank', 'remove_extension', 'right_edge', 'rights', 'sent', 'sent_start', 'sentiment', 'set_extension', 'set_morph', 'shape', 'shape_', 'similarity', 'subtree', 'suffix', 'suffix_', 'tag', 'tag_', 'tensor', 'text', 'text_with_ws', 'vector', 'vector_norm', 'vocab', 'whitespace_']\n",
      "{'person': Alex Smith, 'orgs': [Inc.], 'past': True}\n"
     ]
    }
   ],
   "source": [
    "person_entities = [ent for ent in doc.ents if ent.label_ == \"PERSON\"]\n",
    "for ent in person_entities:\n",
    "    head = ent.root.head\n",
    "    print([(ent.text, ent.label_, head)])\n",
    "    if head.lemma_ == \"work\":\n",
    "        preps = [token for token in head.children if token.dep_ == \"prep\"]\n",
    "        for prep in preps:\n",
    "            orgs = [token for token in prep.children if token.ent_type_ == \"ORG\"]\n",
    "            print({\"person\": ent, \"orgs\": orgs, \"past\": head.tag_ == \"VBD\"})"
   ]
  },
  {
   "cell_type": "code",
   "execution_count": 167,
   "id": "ef12475a",
   "metadata": {},
   "outputs": [],
   "source": [
    "def compounds_finder(doc):\n",
    "\n",
    "    com_range = []\n",
    "    max_ind = len(doc)\n",
    "    for idx, tok in enumerate(doc):\n",
    "        if((tok.dep_ == \"compound\") and (idx < max_ind)):\n",
    "            com_range.append([idx, idx+1])\n",
    "\n",
    "    to_remove = []\n",
    "    intersections = []\n",
    "    for t1 in com_range:\n",
    "        for t2 in com_range:\n",
    "            if(t1 != t2):\n",
    "                s1 = set(t1)\n",
    "                s2 = set(t2)\n",
    "                if(len(s1.intersection(s2)) > 0):\n",
    "                    to_remove.append(t1)\n",
    "                    to_remove.append(t2)\n",
    "                    union = list(s1.union(s2))\n",
    "                    if union not in intersections:\n",
    "                        intersections.append(union)\n",
    "\n",
    "    result = [t for t in com_range if t not in to_remove]\n",
    "    print(result)\n",
    "    print(intersections)\n",
    "    return result + intersections"
   ]
  },
  {
   "cell_type": "code",
   "execution_count": 171,
   "id": "e83afef7",
   "metadata": {},
   "outputs": [],
   "source": [
    "from spacy.tokens import Token, Span\n",
    "\n",
    "class Compounds_Chain(object):\n",
    "    name = 'compounds_chain' # the name of the component in the pipeline\n",
    "    \n",
    "    def __init__(self, nlp, label=\"CompChain\"):\n",
    "        \n",
    "        # get label ID from the nlp vocabulary\n",
    "        self.label = nlp.vocab.strings[label]\n",
    "        \n",
    "        # register the extensions\n",
    "        Token.set_extension(\"is_compound_chain\", default=False)\n",
    "    \n",
    "    def find_compouds(doc):\n",
    "        com_range = []\n",
    "        max_ind = len(doc)\n",
    "        for idx, tok in enumerate(doc):\n",
    "            if((tok.dep_ == \"compound\") and (idx < max_ind)):\n",
    "                com_range.append([idx, idx+1])\n",
    "\n",
    "        to_remove = []\n",
    "        intersections = []\n",
    "        for t1 in com_range:\n",
    "            for t2 in com_range:\n",
    "                if(t1 != t2):\n",
    "                    s1 = set(t1)\n",
    "                    s2 = set(t2)\n",
    "                    if(len(s1.intersection(s2)) > 0):\n",
    "                        to_remove.append(t1)\n",
    "                        to_remove.append(t2)\n",
    "                        union = list(s1.union(s2))\n",
    "                        if union not in intersections:\n",
    "                            intersections.append(union)\n",
    "\n",
    "        result = [t for t in com_range if t not in to_remove]\n",
    "    \n",
    "        return result + intersections\n",
    "    \n",
    "    def __call__(self, doc):\n",
    "        \n",
    "        compound_ranges = find_compouds(doc)\n",
    "        \n",
    "        spans = [] \n",
    "        for cr in compound_ranges:\n",
    "            entiry = \n",
    "    "
   ]
  },
  {
   "cell_type": "code",
   "execution_count": 170,
   "id": "b63ae70c",
   "metadata": {},
   "outputs": [
    {
     "name": "stdout",
     "output_type": "stream",
     "text": [
      "[[0, 1], [3, 4], [12, 13]]\n",
      "[[16, 17, 18]]\n"
     ]
    },
    {
     "data": {
      "text/plain": [
       "[[0, 1], [3, 4], [12, 13], [16, 17, 18]]"
      ]
     },
     "execution_count": 170,
     "metadata": {},
     "output_type": "execute_result"
    }
   ],
   "source": [
    "doc1 = nlp(\"leadership experience in Product Management; demonstrated success launching and driving. Alex Smith worked at Acme Corp Inc.\")\n",
    "r = compounds_finder(doc1)\n",
    "r"
   ]
  },
  {
   "cell_type": "code",
   "execution_count": 169,
   "id": "64bc05d3",
   "metadata": {},
   "outputs": [
    {
     "name": "stdout",
     "output_type": "stream",
     "text": [
      "[[0, 1]]\n",
      "[[4, 5, 6]]\n",
      "[[0, 1], [4, 5, 6]]\n"
     ]
    }
   ],
   "source": [
    "print(compounds_finder(doc))"
   ]
  },
  {
   "cell_type": "code",
   "execution_count": 76,
   "id": "1170d055",
   "metadata": {},
   "outputs": [
    {
     "name": "stdout",
     "output_type": "stream",
     "text": [
      "leadership compound NOUN\n",
      "experience nsubj NOUN\n",
      "in prep ADP\n",
      "Product compound PROPN\n",
      "Management pobj PROPN\n",
      "; punct PUNCT\n",
      "demonstrated ROOT VERB\n",
      "success dobj NOUN\n",
      "launching acl VERB\n",
      "and cc CCONJ\n",
      "driving conj NOUN\n",
      ". punct PUNCT\n"
     ]
    }
   ],
   "source": [
    "for t in doc1:\n",
    "    print(t.text + \" \" + t.dep_ + \" \" + t.pos_)"
   ]
  },
  {
   "cell_type": "code",
   "execution_count": 58,
   "id": "1c3f6b62",
   "metadata": {},
   "outputs": [
    {
     "data": {
      "text/plain": [
       "<generator at 0x7f83855c3360>"
      ]
     },
     "execution_count": 58,
     "metadata": {},
     "output_type": "execute_result"
    }
   ],
   "source": [
    "doc[0].ancestors"
   ]
  },
  {
   "cell_type": "code",
   "execution_count": null,
   "id": "7b669ccb",
   "metadata": {},
   "outputs": [],
   "source": []
  }
 ],
 "metadata": {
  "kernelspec": {
   "display_name": "Python 3 (ipykernel)",
   "language": "python",
   "name": "python3"
  },
  "language_info": {
   "codemirror_mode": {
    "name": "ipython",
    "version": 3
   },
   "file_extension": ".py",
   "mimetype": "text/x-python",
   "name": "python",
   "nbconvert_exporter": "python",
   "pygments_lexer": "ipython3",
   "version": "3.8.11"
  }
 },
 "nbformat": 4,
 "nbformat_minor": 5
}
